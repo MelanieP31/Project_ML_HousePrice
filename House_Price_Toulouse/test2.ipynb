{
 "cells": [
  {
   "cell_type": "markdown",
   "id": "5e752056-9a95-4155-8ad2-2b9b33608029",
   "metadata": {
    "tags": []
   },
   "source": [
    "<h1 align=center> House and Appartement pricing in Haute_Garonne (31) </h1>"
   ]
  },
  {
   "cell_type": "markdown",
   "id": "c67de74c-0dcc-4fc6-815b-0ab33937c0c2",
   "metadata": {},
   "source": [
    "The goal is to fecth data from data.gouv.fr of the house sell in the department 31 for finding some patterns and deploy a model to predict the value of an house or appartment.\n",
    "Source : https://files.data.gouv.fr/geo-dvf/latest/csv/\n",
    "\n",
    "* First step : Fetch all the necessary data\n",
    "* Second step : simplify, by droping a lot of unnecessary data (we want an estimation of the price : enter a few data)\n",
    "* Third : Cleaning\n",
    "* Fourth : Generalized : drop outliers\n",
    "* Fith : Exploratory analysis : is it actually possible with the data we have ? \n",
    "\n",
    "* Sixth : Model ?"
   ]
  },
  {
   "cell_type": "code",
   "execution_count": 104,
   "id": "d8dc733e-9890-45ce-9f55-d04aa3534f15",
   "metadata": {
    "tags": []
   },
   "outputs": [],
   "source": [
    "import os\n",
    "import uuid\n",
    "import requests\n",
    "from bs4 import BeautifulSoup\n",
    "from urllib.parse import urljoin\n",
    "\n",
    "import pandas as pd\n",
    "import numpy as np\n",
    "import seaborn as sns\n",
    "import matplotlib.pyplot as plt\n",
    "import time"
   ]
  },
  {
   "cell_type": "markdown",
   "id": "e5d4334a-c86e-4342-b4aa-9f1142e33c03",
   "metadata": {
    "jp-MarkdownHeadingCollapsed": true,
    "tags": []
   },
   "source": [
    "## Data collection"
   ]
  },
  {
   "cell_type": "code",
   "execution_count": 106,
   "id": "f27e400a-da5c-4b73-a911-63bbd09be154",
   "metadata": {
    "tags": []
   },
   "outputs": [],
   "source": [
    "def get_csv(url,download_folder) : \n",
    "    response = requests.get(url)\n",
    "    response.raise_for_status()\n",
    "    \n",
    "    soup = BeautifulSoup(response.content, 'html.parser')\n",
    "    \n",
    "    csv_links = soup.find_all('a', href=True)\n",
    "    csv_links = [link for link in csv_links if link['href'].endswith('.csv')]\n",
    "    \n",
    "    if not os.path.exists(download_folder):\n",
    "        os.makedirs(download_folder)\n",
    "              \n",
    "    for link in csv_links:\n",
    "        file_url = urljoin(url, link['href'])\n",
    "        original_file_name = os.path.basename(link['href'])\n",
    "        unique_file_name = f\"{uuid.uuid4()}_{original_file_name}\"\n",
    "        file_path = os.path.join(download_folder, unique_file_name)\n",
    "        \n",
    "        try :    \n",
    "            file_response = requests.get(file_url)\n",
    "            file_response.raise_for_status()\n",
    "    \n",
    "            with open(file_path, 'wb') as file:\n",
    "                file.write(file_response.content)\n",
    "        except requests.exceptions.RequestException as e:\n",
    "            print(f'Erreur lors du téléchargement de {unique_file_name}:{e}')\n",
    "    \n",
    "    print('Téléchargement terminé pour URL:.',url)   "
   ]
  },
  {
   "cell_type": "code",
   "execution_count": 108,
   "id": "7259d215-a531-421c-9172-34d3d013afa7",
   "metadata": {
    "tags": []
   },
   "outputs": [],
   "source": [
    "download_folder = r'C:\\Users\\melan\\Desktop\\DeveloppementInfo\\Portfolio\\ProjectsData\\House_Price_Toulouse\\CSV'"
   ]
  },
  {
   "cell_type": "code",
   "execution_count": 110,
   "id": "b1a25eb2-8421-48e9-affd-f5509c675477",
   "metadata": {
    "tags": []
   },
   "outputs": [],
   "source": [
    "urls = ['https://files.data.gouv.fr/geo-dvf/latest/csv/2023/communes/31/',\n",
    "    'https://files.data.gouv.fr/geo-dvf/latest/csv/2022/communes/31/']"
   ]
  },
  {
   "cell_type": "code",
   "execution_count": 112,
   "id": "8ee86ed3-1df8-4e86-a567-51296e2d8f5c",
   "metadata": {
    "tags": []
   },
   "outputs": [
    {
     "name": "stdout",
     "output_type": "stream",
     "text": [
      "Téléchargement terminé pour URL:. https://files.data.gouv.fr/geo-dvf/latest/csv/2023/communes/31/\n",
      "Téléchargement terminé pour URL:. https://files.data.gouv.fr/geo-dvf/latest/csv/2022/communes/31/\n"
     ]
    }
   ],
   "source": [
    "for url in urls:\n",
    "    get_csv(url, download_folder)"
   ]
  },
  {
   "cell_type": "code",
   "execution_count": 114,
   "id": "b3eaa057-83bd-49d3-a631-3a85b7f30809",
   "metadata": {
    "tags": []
   },
   "outputs": [
    {
     "name": "stdout",
     "output_type": "stream",
     "text": [
      "Tous les fichiers CSV ont été concaténés en : C:\\Users\\melan\\Desktop\\DeveloppementInfo\\Portfolio\\ProjectsData\\House_Price_Toulouse\\CSV\\concatenated.csv\n"
     ]
    }
   ],
   "source": [
    "dfs = []\n",
    "for file_name in os.listdir(download_folder):\n",
    "    if file_name.endswith('.csv'):\n",
    "        file_path = os.path.join(download_folder, file_name)\n",
    "        # Lire chaque fichier CSV et l'ajouter à la liste des DataFrames\n",
    "        df = pd.read_csv(file_path)\n",
    "        dfs.append(df)\n",
    "        \n",
    "concatenated_df = pd.concat(dfs, ignore_index=True)\n",
    "output_file = os.path.join(download_folder, 'concatenated.csv')\n",
    "concatenated_df.to_csv(output_file, index=False)\n",
    "\n",
    "print(f'Tous les fichiers CSV ont été concaténés en : {output_file}')"
   ]
  },
  {
   "cell_type": "markdown",
   "id": "ee62799d-65b1-4c36-9503-c39bd0111fe5",
   "metadata": {
    "jp-MarkdownHeadingCollapsed": true,
    "tags": []
   },
   "source": [
    "## simplification"
   ]
  },
  {
   "cell_type": "code",
   "execution_count": 116,
   "id": "7539f616-e7a3-4f73-a994-72274f9ab3d8",
   "metadata": {
    "tags": []
   },
   "outputs": [],
   "source": [
    "df = pd.read_csv(os.path.join(download_folder, 'concatenated.csv'))"
   ]
  },
  {
   "cell_type": "code",
   "execution_count": 118,
   "id": "bcd4904a-994a-4ab9-9c87-05f1e9d85332",
   "metadata": {
    "tags": []
   },
   "outputs": [
    {
     "data": {
      "text/html": [
       "<div>\n",
       "<style scoped>\n",
       "    .dataframe tbody tr th:only-of-type {\n",
       "        vertical-align: middle;\n",
       "    }\n",
       "\n",
       "    .dataframe tbody tr th {\n",
       "        vertical-align: top;\n",
       "    }\n",
       "\n",
       "    .dataframe thead th {\n",
       "        text-align: right;\n",
       "    }\n",
       "</style>\n",
       "<table border=\"1\" class=\"dataframe\">\n",
       "  <thead>\n",
       "    <tr style=\"text-align: right;\">\n",
       "      <th></th>\n",
       "      <th>id_mutation</th>\n",
       "      <th>date_mutation</th>\n",
       "      <th>numero_disposition</th>\n",
       "      <th>nature_mutation</th>\n",
       "      <th>valeur_fonciere</th>\n",
       "      <th>adresse_numero</th>\n",
       "      <th>adresse_suffixe</th>\n",
       "      <th>adresse_nom_voie</th>\n",
       "      <th>adresse_code_voie</th>\n",
       "      <th>code_postal</th>\n",
       "      <th>...</th>\n",
       "      <th>type_local</th>\n",
       "      <th>surface_reelle_bati</th>\n",
       "      <th>nombre_pieces_principales</th>\n",
       "      <th>code_nature_culture</th>\n",
       "      <th>nature_culture</th>\n",
       "      <th>code_nature_culture_speciale</th>\n",
       "      <th>nature_culture_speciale</th>\n",
       "      <th>surface_terrain</th>\n",
       "      <th>longitude</th>\n",
       "      <th>latitude</th>\n",
       "    </tr>\n",
       "  </thead>\n",
       "  <tbody>\n",
       "    <tr>\n",
       "      <th>0</th>\n",
       "      <td>2022-450002</td>\n",
       "      <td>2022-01-13</td>\n",
       "      <td>1</td>\n",
       "      <td>Vente</td>\n",
       "      <td>315000.0</td>\n",
       "      <td>67.0</td>\n",
       "      <td>NaN</td>\n",
       "      <td>CHE LE CARRETAL</td>\n",
       "      <td>0026</td>\n",
       "      <td>31790.0</td>\n",
       "      <td>...</td>\n",
       "      <td>Maison</td>\n",
       "      <td>125.0</td>\n",
       "      <td>5.0</td>\n",
       "      <td>S</td>\n",
       "      <td>sols</td>\n",
       "      <td>NaN</td>\n",
       "      <td>NaN</td>\n",
       "      <td>482.0</td>\n",
       "      <td>1.400431</td>\n",
       "      <td>43.750158</td>\n",
       "    </tr>\n",
       "    <tr>\n",
       "      <th>1</th>\n",
       "      <td>2022-450002</td>\n",
       "      <td>2022-01-13</td>\n",
       "      <td>1</td>\n",
       "      <td>Vente</td>\n",
       "      <td>315000.0</td>\n",
       "      <td>NaN</td>\n",
       "      <td>NaN</td>\n",
       "      <td>LE VILLAGE</td>\n",
       "      <td>B028</td>\n",
       "      <td>31790.0</td>\n",
       "      <td>...</td>\n",
       "      <td>NaN</td>\n",
       "      <td>NaN</td>\n",
       "      <td>NaN</td>\n",
       "      <td>S</td>\n",
       "      <td>sols</td>\n",
       "      <td>NaN</td>\n",
       "      <td>NaN</td>\n",
       "      <td>54.0</td>\n",
       "      <td>1.400366</td>\n",
       "      <td>43.750246</td>\n",
       "    </tr>\n",
       "    <tr>\n",
       "      <th>2</th>\n",
       "      <td>2022-451293</td>\n",
       "      <td>2022-02-01</td>\n",
       "      <td>1</td>\n",
       "      <td>Vente</td>\n",
       "      <td>217477.8</td>\n",
       "      <td>NaN</td>\n",
       "      <td>NaN</td>\n",
       "      <td>BORDENEUVE</td>\n",
       "      <td>B002</td>\n",
       "      <td>31790.0</td>\n",
       "      <td>...</td>\n",
       "      <td>NaN</td>\n",
       "      <td>NaN</td>\n",
       "      <td>NaN</td>\n",
       "      <td>T</td>\n",
       "      <td>terres</td>\n",
       "      <td>NaN</td>\n",
       "      <td>NaN</td>\n",
       "      <td>194480.0</td>\n",
       "      <td>1.388276</td>\n",
       "      <td>43.736761</td>\n",
       "    </tr>\n",
       "    <tr>\n",
       "      <th>3</th>\n",
       "      <td>2022-451293</td>\n",
       "      <td>2022-02-01</td>\n",
       "      <td>1</td>\n",
       "      <td>Vente</td>\n",
       "      <td>217477.8</td>\n",
       "      <td>NaN</td>\n",
       "      <td>NaN</td>\n",
       "      <td>CHARROULES</td>\n",
       "      <td>B009</td>\n",
       "      <td>31790.0</td>\n",
       "      <td>...</td>\n",
       "      <td>NaN</td>\n",
       "      <td>NaN</td>\n",
       "      <td>NaN</td>\n",
       "      <td>T</td>\n",
       "      <td>terres</td>\n",
       "      <td>NaN</td>\n",
       "      <td>NaN</td>\n",
       "      <td>23724.0</td>\n",
       "      <td>1.390008</td>\n",
       "      <td>43.739678</td>\n",
       "    </tr>\n",
       "    <tr>\n",
       "      <th>4</th>\n",
       "      <td>2022-451293</td>\n",
       "      <td>2022-02-01</td>\n",
       "      <td>1</td>\n",
       "      <td>Vente</td>\n",
       "      <td>217477.8</td>\n",
       "      <td>NaN</td>\n",
       "      <td>NaN</td>\n",
       "      <td>CHARROULES</td>\n",
       "      <td>B009</td>\n",
       "      <td>31790.0</td>\n",
       "      <td>...</td>\n",
       "      <td>NaN</td>\n",
       "      <td>NaN</td>\n",
       "      <td>NaN</td>\n",
       "      <td>T</td>\n",
       "      <td>terres</td>\n",
       "      <td>NaN</td>\n",
       "      <td>NaN</td>\n",
       "      <td>10012.0</td>\n",
       "      <td>1.393089</td>\n",
       "      <td>43.736655</td>\n",
       "    </tr>\n",
       "    <tr>\n",
       "      <th>...</th>\n",
       "      <td>...</td>\n",
       "      <td>...</td>\n",
       "      <td>...</td>\n",
       "      <td>...</td>\n",
       "      <td>...</td>\n",
       "      <td>...</td>\n",
       "      <td>...</td>\n",
       "      <td>...</td>\n",
       "      <td>...</td>\n",
       "      <td>...</td>\n",
       "      <td>...</td>\n",
       "      <td>...</td>\n",
       "      <td>...</td>\n",
       "      <td>...</td>\n",
       "      <td>...</td>\n",
       "      <td>...</td>\n",
       "      <td>...</td>\n",
       "      <td>...</td>\n",
       "      <td>...</td>\n",
       "      <td>...</td>\n",
       "      <td>...</td>\n",
       "    </tr>\n",
       "    <tr>\n",
       "      <th>170344</th>\n",
       "      <td>2023-392838</td>\n",
       "      <td>2023-11-02</td>\n",
       "      <td>1</td>\n",
       "      <td>Vente</td>\n",
       "      <td>130000.0</td>\n",
       "      <td>1.0</td>\n",
       "      <td>A</td>\n",
       "      <td>GARENNE</td>\n",
       "      <td>B020</td>\n",
       "      <td>31260.0</td>\n",
       "      <td>...</td>\n",
       "      <td>Maison</td>\n",
       "      <td>85.0</td>\n",
       "      <td>3.0</td>\n",
       "      <td>S</td>\n",
       "      <td>sols</td>\n",
       "      <td>NaN</td>\n",
       "      <td>NaN</td>\n",
       "      <td>91.0</td>\n",
       "      <td>1.021133</td>\n",
       "      <td>43.114045</td>\n",
       "    </tr>\n",
       "    <tr>\n",
       "      <th>170345</th>\n",
       "      <td>2023-392838</td>\n",
       "      <td>2023-11-02</td>\n",
       "      <td>1</td>\n",
       "      <td>Vente</td>\n",
       "      <td>130000.0</td>\n",
       "      <td>NaN</td>\n",
       "      <td>NaN</td>\n",
       "      <td>GARENNE</td>\n",
       "      <td>B020</td>\n",
       "      <td>31260.0</td>\n",
       "      <td>...</td>\n",
       "      <td>NaN</td>\n",
       "      <td>NaN</td>\n",
       "      <td>NaN</td>\n",
       "      <td>T</td>\n",
       "      <td>terres</td>\n",
       "      <td>NaN</td>\n",
       "      <td>NaN</td>\n",
       "      <td>197.0</td>\n",
       "      <td>1.021415</td>\n",
       "      <td>43.114240</td>\n",
       "    </tr>\n",
       "    <tr>\n",
       "      <th>170346</th>\n",
       "      <td>2023-392922</td>\n",
       "      <td>2023-12-21</td>\n",
       "      <td>1</td>\n",
       "      <td>Vente</td>\n",
       "      <td>7500.0</td>\n",
       "      <td>NaN</td>\n",
       "      <td>NaN</td>\n",
       "      <td>PRAT DEL BAROUN</td>\n",
       "      <td>B053</td>\n",
       "      <td>31260.0</td>\n",
       "      <td>...</td>\n",
       "      <td>NaN</td>\n",
       "      <td>NaN</td>\n",
       "      <td>NaN</td>\n",
       "      <td>S</td>\n",
       "      <td>sols</td>\n",
       "      <td>NaN</td>\n",
       "      <td>NaN</td>\n",
       "      <td>48.0</td>\n",
       "      <td>1.024223</td>\n",
       "      <td>43.105863</td>\n",
       "    </tr>\n",
       "    <tr>\n",
       "      <th>170347</th>\n",
       "      <td>2023-392922</td>\n",
       "      <td>2023-12-21</td>\n",
       "      <td>1</td>\n",
       "      <td>Vente</td>\n",
       "      <td>7500.0</td>\n",
       "      <td>NaN</td>\n",
       "      <td>NaN</td>\n",
       "      <td>PRAT DEL BAROUN</td>\n",
       "      <td>B053</td>\n",
       "      <td>31260.0</td>\n",
       "      <td>...</td>\n",
       "      <td>NaN</td>\n",
       "      <td>NaN</td>\n",
       "      <td>NaN</td>\n",
       "      <td>P</td>\n",
       "      <td>prés</td>\n",
       "      <td>NaN</td>\n",
       "      <td>NaN</td>\n",
       "      <td>4087.0</td>\n",
       "      <td>1.024139</td>\n",
       "      <td>43.105086</td>\n",
       "    </tr>\n",
       "    <tr>\n",
       "      <th>170348</th>\n",
       "      <td>2023-392922</td>\n",
       "      <td>2023-12-21</td>\n",
       "      <td>1</td>\n",
       "      <td>Vente</td>\n",
       "      <td>7500.0</td>\n",
       "      <td>NaN</td>\n",
       "      <td>NaN</td>\n",
       "      <td>PRAT DEL BAROUN</td>\n",
       "      <td>B053</td>\n",
       "      <td>31260.0</td>\n",
       "      <td>...</td>\n",
       "      <td>NaN</td>\n",
       "      <td>NaN</td>\n",
       "      <td>NaN</td>\n",
       "      <td>P</td>\n",
       "      <td>prés</td>\n",
       "      <td>NaN</td>\n",
       "      <td>NaN</td>\n",
       "      <td>12651.0</td>\n",
       "      <td>1.023795</td>\n",
       "      <td>43.105634</td>\n",
       "    </tr>\n",
       "  </tbody>\n",
       "</table>\n",
       "<p>170349 rows × 40 columns</p>\n",
       "</div>"
      ],
      "text/plain": [
       "        id_mutation date_mutation  numero_disposition nature_mutation  \\\n",
       "0       2022-450002    2022-01-13                   1           Vente   \n",
       "1       2022-450002    2022-01-13                   1           Vente   \n",
       "2       2022-451293    2022-02-01                   1           Vente   \n",
       "3       2022-451293    2022-02-01                   1           Vente   \n",
       "4       2022-451293    2022-02-01                   1           Vente   \n",
       "...             ...           ...                 ...             ...   \n",
       "170344  2023-392838    2023-11-02                   1           Vente   \n",
       "170345  2023-392838    2023-11-02                   1           Vente   \n",
       "170346  2023-392922    2023-12-21                   1           Vente   \n",
       "170347  2023-392922    2023-12-21                   1           Vente   \n",
       "170348  2023-392922    2023-12-21                   1           Vente   \n",
       "\n",
       "        valeur_fonciere  adresse_numero adresse_suffixe adresse_nom_voie  \\\n",
       "0              315000.0            67.0             NaN  CHE LE CARRETAL   \n",
       "1              315000.0             NaN             NaN       LE VILLAGE   \n",
       "2              217477.8             NaN             NaN       BORDENEUVE   \n",
       "3              217477.8             NaN             NaN       CHARROULES   \n",
       "4              217477.8             NaN             NaN       CHARROULES   \n",
       "...                 ...             ...             ...              ...   \n",
       "170344         130000.0             1.0               A          GARENNE   \n",
       "170345         130000.0             NaN             NaN          GARENNE   \n",
       "170346           7500.0             NaN             NaN  PRAT DEL BAROUN   \n",
       "170347           7500.0             NaN             NaN  PRAT DEL BAROUN   \n",
       "170348           7500.0             NaN             NaN  PRAT DEL BAROUN   \n",
       "\n",
       "       adresse_code_voie  code_postal  ...  type_local surface_reelle_bati  \\\n",
       "0                   0026      31790.0  ...      Maison               125.0   \n",
       "1                   B028      31790.0  ...         NaN                 NaN   \n",
       "2                   B002      31790.0  ...         NaN                 NaN   \n",
       "3                   B009      31790.0  ...         NaN                 NaN   \n",
       "4                   B009      31790.0  ...         NaN                 NaN   \n",
       "...                  ...          ...  ...         ...                 ...   \n",
       "170344              B020      31260.0  ...      Maison                85.0   \n",
       "170345              B020      31260.0  ...         NaN                 NaN   \n",
       "170346              B053      31260.0  ...         NaN                 NaN   \n",
       "170347              B053      31260.0  ...         NaN                 NaN   \n",
       "170348              B053      31260.0  ...         NaN                 NaN   \n",
       "\n",
       "        nombre_pieces_principales  code_nature_culture  nature_culture  \\\n",
       "0                             5.0                    S            sols   \n",
       "1                             NaN                    S            sols   \n",
       "2                             NaN                    T          terres   \n",
       "3                             NaN                    T          terres   \n",
       "4                             NaN                    T          terres   \n",
       "...                           ...                  ...             ...   \n",
       "170344                        3.0                    S            sols   \n",
       "170345                        NaN                    T          terres   \n",
       "170346                        NaN                    S            sols   \n",
       "170347                        NaN                    P            prés   \n",
       "170348                        NaN                    P            prés   \n",
       "\n",
       "       code_nature_culture_speciale  nature_culture_speciale  surface_terrain  \\\n",
       "0                               NaN                      NaN            482.0   \n",
       "1                               NaN                      NaN             54.0   \n",
       "2                               NaN                      NaN         194480.0   \n",
       "3                               NaN                      NaN          23724.0   \n",
       "4                               NaN                      NaN          10012.0   \n",
       "...                             ...                      ...              ...   \n",
       "170344                          NaN                      NaN             91.0   \n",
       "170345                          NaN                      NaN            197.0   \n",
       "170346                          NaN                      NaN             48.0   \n",
       "170347                          NaN                      NaN           4087.0   \n",
       "170348                          NaN                      NaN          12651.0   \n",
       "\n",
       "        longitude   latitude  \n",
       "0        1.400431  43.750158  \n",
       "1        1.400366  43.750246  \n",
       "2        1.388276  43.736761  \n",
       "3        1.390008  43.739678  \n",
       "4        1.393089  43.736655  \n",
       "...           ...        ...  \n",
       "170344   1.021133  43.114045  \n",
       "170345   1.021415  43.114240  \n",
       "170346   1.024223  43.105863  \n",
       "170347   1.024139  43.105086  \n",
       "170348   1.023795  43.105634  \n",
       "\n",
       "[170349 rows x 40 columns]"
      ]
     },
     "execution_count": 118,
     "metadata": {},
     "output_type": "execute_result"
    }
   ],
   "source": [
    "df"
   ]
  },
  {
   "cell_type": "code",
   "execution_count": 120,
   "id": "39f88e6a-cb73-467c-afc3-31b125c03b8a",
   "metadata": {
    "tags": []
   },
   "outputs": [],
   "source": [
    "df = df[(df.type_local==\"Maison\")|(df.type_local==\"Appartement\")].reset_index()"
   ]
  },
  {
   "cell_type": "code",
   "execution_count": 122,
   "id": "c46cb9f7-7ed2-44c4-9d76-682a65db8717",
   "metadata": {
    "tags": []
   },
   "outputs": [],
   "source": [
    "df = df[df.nature_mutation=='Vente']"
   ]
  },
  {
   "cell_type": "code",
   "execution_count": 126,
   "id": "377e477c-71b4-4c23-9b6f-022580638ca0",
   "metadata": {
    "tags": []
   },
   "outputs": [
    {
     "data": {
      "text/plain": [
       "43199"
      ]
     },
     "execution_count": 126,
     "metadata": {},
     "output_type": "execute_result"
    }
   ],
   "source": [
    "len(df)"
   ]
  },
  {
   "cell_type": "code",
   "execution_count": 130,
   "id": "6137957f-c465-4e0b-b186-2eb4d5cbb4d6",
   "metadata": {
    "tags": []
   },
   "outputs": [],
   "source": [
    "df = df.drop_duplicates(subset=['id_mutation'])"
   ]
  },
  {
   "cell_type": "code",
   "execution_count": 134,
   "id": "2b18c2d3-42f9-4bdb-9074-5d2526a0aabc",
   "metadata": {
    "tags": []
   },
   "outputs": [],
   "source": [
    "df = df[['date_mutation','valeur_fonciere','code_postal','nom_commune','type_local','surface_reelle_bati','nombre_pieces_principales','nature_culture','surface_terrain']]"
   ]
  },
  {
   "cell_type": "code",
   "execution_count": 136,
   "id": "b078e17a-abaf-4509-a106-6cd96d4639bb",
   "metadata": {
    "tags": []
   },
   "outputs": [],
   "source": [
    "df = df.reset_index(drop=True)"
   ]
  },
  {
   "cell_type": "code",
   "execution_count": 138,
   "id": "9d6b6acb-5db5-4a3f-95fb-f1dfa9c1b1e9",
   "metadata": {
    "tags": []
   },
   "outputs": [
    {
     "data": {
      "text/html": [
       "<div>\n",
       "<style scoped>\n",
       "    .dataframe tbody tr th:only-of-type {\n",
       "        vertical-align: middle;\n",
       "    }\n",
       "\n",
       "    .dataframe tbody tr th {\n",
       "        vertical-align: top;\n",
       "    }\n",
       "\n",
       "    .dataframe thead th {\n",
       "        text-align: right;\n",
       "    }\n",
       "</style>\n",
       "<table border=\"1\" class=\"dataframe\">\n",
       "  <thead>\n",
       "    <tr style=\"text-align: right;\">\n",
       "      <th></th>\n",
       "      <th>date_mutation</th>\n",
       "      <th>valeur_fonciere</th>\n",
       "      <th>code_postal</th>\n",
       "      <th>nom_commune</th>\n",
       "      <th>type_local</th>\n",
       "      <th>surface_reelle_bati</th>\n",
       "      <th>nombre_pieces_principales</th>\n",
       "      <th>nature_culture</th>\n",
       "      <th>nature_culture_speciale</th>\n",
       "      <th>surface_terrain</th>\n",
       "    </tr>\n",
       "  </thead>\n",
       "  <tbody>\n",
       "    <tr>\n",
       "      <th>0</th>\n",
       "      <td>2022-01-13</td>\n",
       "      <td>315000.0</td>\n",
       "      <td>31790.0</td>\n",
       "      <td>Saint-Sauveur</td>\n",
       "      <td>Maison</td>\n",
       "      <td>125.0</td>\n",
       "      <td>5.0</td>\n",
       "      <td>sols</td>\n",
       "      <td>NaN</td>\n",
       "      <td>482.0</td>\n",
       "    </tr>\n",
       "    <tr>\n",
       "      <th>1</th>\n",
       "      <td>2022-03-23</td>\n",
       "      <td>409670.0</td>\n",
       "      <td>31790.0</td>\n",
       "      <td>Saint-Sauveur</td>\n",
       "      <td>Maison</td>\n",
       "      <td>160.0</td>\n",
       "      <td>4.0</td>\n",
       "      <td>sols</td>\n",
       "      <td>NaN</td>\n",
       "      <td>1161.0</td>\n",
       "    </tr>\n",
       "    <tr>\n",
       "      <th>2</th>\n",
       "      <td>2022-04-26</td>\n",
       "      <td>357350.0</td>\n",
       "      <td>31790.0</td>\n",
       "      <td>Saint-Sauveur</td>\n",
       "      <td>Maison</td>\n",
       "      <td>158.0</td>\n",
       "      <td>6.0</td>\n",
       "      <td>sols</td>\n",
       "      <td>NaN</td>\n",
       "      <td>1095.0</td>\n",
       "    </tr>\n",
       "    <tr>\n",
       "      <th>3</th>\n",
       "      <td>2022-05-09</td>\n",
       "      <td>353300.0</td>\n",
       "      <td>31790.0</td>\n",
       "      <td>Saint-Sauveur</td>\n",
       "      <td>Maison</td>\n",
       "      <td>114.0</td>\n",
       "      <td>5.0</td>\n",
       "      <td>sols</td>\n",
       "      <td>NaN</td>\n",
       "      <td>862.0</td>\n",
       "    </tr>\n",
       "    <tr>\n",
       "      <th>4</th>\n",
       "      <td>2022-05-11</td>\n",
       "      <td>500000.0</td>\n",
       "      <td>31790.0</td>\n",
       "      <td>Saint-Sauveur</td>\n",
       "      <td>Maison</td>\n",
       "      <td>255.0</td>\n",
       "      <td>5.0</td>\n",
       "      <td>sols</td>\n",
       "      <td>NaN</td>\n",
       "      <td>1200.0</td>\n",
       "    </tr>\n",
       "    <tr>\n",
       "      <th>...</th>\n",
       "      <td>...</td>\n",
       "      <td>...</td>\n",
       "      <td>...</td>\n",
       "      <td>...</td>\n",
       "      <td>...</td>\n",
       "      <td>...</td>\n",
       "      <td>...</td>\n",
       "      <td>...</td>\n",
       "      <td>...</td>\n",
       "      <td>...</td>\n",
       "    </tr>\n",
       "    <tr>\n",
       "      <th>43194</th>\n",
       "      <td>2022-12-27</td>\n",
       "      <td>98000.0</td>\n",
       "      <td>31600.0</td>\n",
       "      <td>Eaunes</td>\n",
       "      <td>Appartement</td>\n",
       "      <td>37.0</td>\n",
       "      <td>2.0</td>\n",
       "      <td>NaN</td>\n",
       "      <td>NaN</td>\n",
       "      <td>NaN</td>\n",
       "    </tr>\n",
       "    <tr>\n",
       "      <th>43195</th>\n",
       "      <td>2023-04-04</td>\n",
       "      <td>70000.0</td>\n",
       "      <td>31260.0</td>\n",
       "      <td>Escoulis</td>\n",
       "      <td>Maison</td>\n",
       "      <td>67.0</td>\n",
       "      <td>3.0</td>\n",
       "      <td>sols</td>\n",
       "      <td>NaN</td>\n",
       "      <td>60.0</td>\n",
       "    </tr>\n",
       "    <tr>\n",
       "      <th>43196</th>\n",
       "      <td>2023-08-01</td>\n",
       "      <td>240000.0</td>\n",
       "      <td>31260.0</td>\n",
       "      <td>Escoulis</td>\n",
       "      <td>Maison</td>\n",
       "      <td>120.0</td>\n",
       "      <td>4.0</td>\n",
       "      <td>terrains d'agrément</td>\n",
       "      <td>NaN</td>\n",
       "      <td>5345.0</td>\n",
       "    </tr>\n",
       "    <tr>\n",
       "      <th>43197</th>\n",
       "      <td>2023-09-29</td>\n",
       "      <td>121720.0</td>\n",
       "      <td>31260.0</td>\n",
       "      <td>Escoulis</td>\n",
       "      <td>Maison</td>\n",
       "      <td>78.0</td>\n",
       "      <td>3.0</td>\n",
       "      <td>sols</td>\n",
       "      <td>NaN</td>\n",
       "      <td>488.0</td>\n",
       "    </tr>\n",
       "    <tr>\n",
       "      <th>43198</th>\n",
       "      <td>2023-11-02</td>\n",
       "      <td>130000.0</td>\n",
       "      <td>31260.0</td>\n",
       "      <td>Escoulis</td>\n",
       "      <td>Maison</td>\n",
       "      <td>85.0</td>\n",
       "      <td>3.0</td>\n",
       "      <td>sols</td>\n",
       "      <td>NaN</td>\n",
       "      <td>91.0</td>\n",
       "    </tr>\n",
       "  </tbody>\n",
       "</table>\n",
       "<p>43199 rows × 10 columns</p>\n",
       "</div>"
      ],
      "text/plain": [
       "      date_mutation  valeur_fonciere  code_postal    nom_commune   type_local  \\\n",
       "0        2022-01-13         315000.0      31790.0  Saint-Sauveur       Maison   \n",
       "1        2022-03-23         409670.0      31790.0  Saint-Sauveur       Maison   \n",
       "2        2022-04-26         357350.0      31790.0  Saint-Sauveur       Maison   \n",
       "3        2022-05-09         353300.0      31790.0  Saint-Sauveur       Maison   \n",
       "4        2022-05-11         500000.0      31790.0  Saint-Sauveur       Maison   \n",
       "...             ...              ...          ...            ...          ...   \n",
       "43194    2022-12-27          98000.0      31600.0         Eaunes  Appartement   \n",
       "43195    2023-04-04          70000.0      31260.0       Escoulis       Maison   \n",
       "43196    2023-08-01         240000.0      31260.0       Escoulis       Maison   \n",
       "43197    2023-09-29         121720.0      31260.0       Escoulis       Maison   \n",
       "43198    2023-11-02         130000.0      31260.0       Escoulis       Maison   \n",
       "\n",
       "       surface_reelle_bati  nombre_pieces_principales       nature_culture  \\\n",
       "0                    125.0                        5.0                 sols   \n",
       "1                    160.0                        4.0                 sols   \n",
       "2                    158.0                        6.0                 sols   \n",
       "3                    114.0                        5.0                 sols   \n",
       "4                    255.0                        5.0                 sols   \n",
       "...                    ...                        ...                  ...   \n",
       "43194                 37.0                        2.0                  NaN   \n",
       "43195                 67.0                        3.0                 sols   \n",
       "43196                120.0                        4.0  terrains d'agrément   \n",
       "43197                 78.0                        3.0                 sols   \n",
       "43198                 85.0                        3.0                 sols   \n",
       "\n",
       "      nature_culture_speciale  surface_terrain  \n",
       "0                         NaN            482.0  \n",
       "1                         NaN           1161.0  \n",
       "2                         NaN           1095.0  \n",
       "3                         NaN            862.0  \n",
       "4                         NaN           1200.0  \n",
       "...                       ...              ...  \n",
       "43194                     NaN              NaN  \n",
       "43195                     NaN             60.0  \n",
       "43196                     NaN           5345.0  \n",
       "43197                     NaN            488.0  \n",
       "43198                     NaN             91.0  \n",
       "\n",
       "[43199 rows x 10 columns]"
      ]
     },
     "execution_count": 138,
     "metadata": {},
     "output_type": "execute_result"
    }
   ],
   "source": [
    "df"
   ]
  },
  {
   "cell_type": "code",
   "execution_count": 140,
   "id": "e0537b60-5696-4574-92f5-3dfcba09c45e",
   "metadata": {
    "tags": []
   },
   "outputs": [],
   "source": [
    "#save version df final\n",
    "df.to_csv(\"HouseApptPrice_Tls.csv\",index=False)"
   ]
  },
  {
   "cell_type": "markdown",
   "id": "967aaaa5-ea2d-4f19-a9bf-67eba92061e1",
   "metadata": {
    "jp-MarkdownHeadingCollapsed": true,
    "tags": []
   },
   "source": [
    "## cleaning"
   ]
  },
  {
   "cell_type": "code",
   "execution_count": 153,
   "id": "4ff63a84-7a69-4e8a-a8f9-0f8deadeaa96",
   "metadata": {
    "tags": []
   },
   "outputs": [],
   "source": [
    "df = pd.read_csv(\"HouseApptPrice_Tls.csv\")"
   ]
  },
  {
   "cell_type": "code",
   "execution_count": 155,
   "id": "99bf506d-333a-4fdf-9b44-cae09f84cad2",
   "metadata": {
    "tags": []
   },
   "outputs": [],
   "source": [
    "df.date_mutation = pd.to_datetime(df.date_mutation)"
   ]
  },
  {
   "cell_type": "code",
   "execution_count": 157,
   "id": "b57fc6bb-47f8-4b31-85de-9c163e02f51a",
   "metadata": {
    "tags": []
   },
   "outputs": [],
   "source": [
    "df['year'] = df['date_mutation'].dt.year\n",
    "df['month'] = df['date_mutation'].dt.month"
   ]
  },
  {
   "cell_type": "code",
   "execution_count": 159,
   "id": "7cefd7ba-0338-4d82-8e96-15f45a7260d3",
   "metadata": {},
   "outputs": [],
   "source": [
    "df['code_postal'] = df['code_postal'].apply(str)\n",
    "df['code_postal'] = df['code_postal'].str.split('.').str[0]"
   ]
  },
  {
   "cell_type": "code",
   "execution_count": null,
   "id": "9c836a93-ef42-49bc-92d1-8bb0e6165f3a",
   "metadata": {
    "tags": []
   },
   "outputs": [],
   "source": [
    "df = df.drop('date_mutation',axis=1)"
   ]
  },
  {
   "cell_type": "code",
   "execution_count": 165,
   "id": "d6ff67c9-2250-47c8-a7f8-a8208c8ae429",
   "metadata": {
    "tags": []
   },
   "outputs": [],
   "source": [
    "# donnée manquante\n",
    "def percent_missing(df):\n",
    "    per_nan = 100*df.isnull().sum() /len(df)\n",
    "    per_nan = per_nan[per_nan >0].sort_values()\n",
    "    \n",
    "    return per_nan"
   ]
  },
  {
   "cell_type": "code",
   "execution_count": 167,
   "id": "c457ea3b-22ed-4adc-a650-7fb2f67ea2c3",
   "metadata": {
    "tags": []
   },
   "outputs": [
    {
     "data": {
      "text/plain": [
       "surface_reelle_bati           0.002315\n",
       "nombre_pieces_principales     0.002315\n",
       "valeur_fonciere               0.062501\n",
       "nature_culture               56.408713\n",
       "surface_terrain              56.408713\n",
       "dtype: float64"
      ]
     },
     "execution_count": 167,
     "metadata": {},
     "output_type": "execute_result"
    }
   ],
   "source": [
    "per_nan = percent_missing(df)\n",
    "per_nan"
   ]
  },
  {
   "cell_type": "code",
   "execution_count": 175,
   "id": "c745c23f-93bd-45b9-b38c-e98bb88ab470",
   "metadata": {
    "tags": []
   },
   "outputs": [],
   "source": [
    "df = df.dropna(subset=['valeur_fonciere','surface_reelle_bati','nombre_pieces_principales'])"
   ]
  },
  {
   "cell_type": "code",
   "execution_count": 177,
   "id": "56b04662-88a5-4975-9d72-62b0b813d058",
   "metadata": {
    "tags": []
   },
   "outputs": [
    {
     "data": {
      "text/plain": [
       "nature_culture     56.422135\n",
       "surface_terrain    56.422135\n",
       "dtype: float64"
      ]
     },
     "execution_count": 177,
     "metadata": {},
     "output_type": "execute_result"
    }
   ],
   "source": [
    "per_nan = percent_missing(df)\n",
    "per_nan"
   ]
  },
  {
   "cell_type": "code",
   "execution_count": null,
   "id": "3368c197-28a7-4b11-a912-88be3fb1a76d",
   "metadata": {
    "tags": []
   },
   "outputs": [],
   "source": [
    "df['nature_culture'] = df['nature_culture'].fillna('None')\n",
    "df['surface_terrain'] = df['surface_terrain'].fillna(0)"
   ]
  },
  {
   "cell_type": "code",
   "execution_count": 181,
   "id": "353a56a7-9a44-4090-a0ae-80c4f7f16c2e",
   "metadata": {
    "tags": []
   },
   "outputs": [
    {
     "data": {
      "text/plain": [
       "Series([], dtype: float64)"
      ]
     },
     "execution_count": 181,
     "metadata": {},
     "output_type": "execute_result"
    }
   ],
   "source": [
    "per_nan = percent_missing(df)\n",
    "per_nan"
   ]
  },
  {
   "cell_type": "code",
   "execution_count": 183,
   "id": "2e29a68d-9cac-4121-8142-3a3b10a6471a",
   "metadata": {
    "tags": []
   },
   "outputs": [],
   "source": [
    "# Séparer appartement et Maison\n",
    "df_maison = df[df['type_local']=='Maison']\n",
    "df_appt = df[df['type_local']=='Appartement']"
   ]
  },
  {
   "cell_type": "code",
   "execution_count": 197,
   "id": "0c31100f-8b28-462a-a061-d812aaf0e13a",
   "metadata": {
    "tags": []
   },
   "outputs": [],
   "source": [
    "df_maison.to_csv(\"HousePrice_Tls.csv\",index=False)\n",
    "df_appt.to_csv(\"ApptPrice_Tls.csv\",index=False)"
   ]
  },
  {
   "cell_type": "code",
   "execution_count": 189,
   "id": "477e9efe-cab3-4a22-b490-2135afce1964",
   "metadata": {
    "tags": []
   },
   "outputs": [
    {
     "data": {
      "text/plain": [
       "19426"
      ]
     },
     "execution_count": 189,
     "metadata": {},
     "output_type": "execute_result"
    }
   ],
   "source": [
    "len(df_maison)"
   ]
  },
  {
   "cell_type": "code",
   "execution_count": 193,
   "id": "14df0df7-70d6-49eb-a4cc-3deab770804f",
   "metadata": {
    "tags": []
   },
   "outputs": [
    {
     "data": {
      "text/plain": [
       "23745"
      ]
     },
     "execution_count": 193,
     "metadata": {},
     "output_type": "execute_result"
    }
   ],
   "source": [
    "len(df_appt)"
   ]
  },
  {
   "cell_type": "markdown",
   "id": "27039bf2-f009-45b2-9f4e-d720598c738a",
   "metadata": {},
   "source": [
    "## Working on Housing Price"
   ]
  },
  {
   "cell_type": "code",
   "execution_count": 203,
   "id": "5cf485f4-c864-48de-9648-f651ea57a9c6",
   "metadata": {
    "tags": []
   },
   "outputs": [],
   "source": [
    "df_house = pd.read_csv(\"HousePrice_Tls.csv\")"
   ]
  },
  {
   "cell_type": "code",
   "execution_count": 205,
   "id": "7295d205-a749-4d65-9298-67f86fca6a6c",
   "metadata": {
    "tags": []
   },
   "outputs": [
    {
     "data": {
      "text/plain": [
       "<Axes: xlabel='surface_reelle_bati', ylabel='valeur_fonciere'>"
      ]
     },
     "execution_count": 205,
     "metadata": {},
     "output_type": "execute_result"
    },
    {
     "data": {
      "image/png": "[encoded data removed]",
      "text/plain": [
       "<Figure size 640x480 with 1 Axes>"
      ]
     },
     "metadata": {},
     "output_type": "display_data"
    }
   ],
   "source": [
    "sns.scatterplot(data=df_house, x='surface_reelle_bati',y='valeur_fonciere')"
   ]
  },
  {
   "cell_type": "code",
   "execution_count": 215,
   "id": "1736688a-c98f-46b7-b1cb-698b214deec7",
   "metadata": {
    "tags": []
   },
   "outputs": [],
   "source": [
    "drop_ind = df_house[(df_house['valeur_fonciere']>2000000)].index\n",
    "df_house = df_house.drop(drop_ind,axis=0)"
   ]
  },
  {
   "cell_type": "code",
   "execution_count": 218,
   "id": "1f6a5468-057a-4235-ab44-e962940b7d88",
   "metadata": {
    "tags": []
   },
   "outputs": [
    {
     "data": {
      "text/plain": [
       "0.19599752424179906"
      ]
     },
     "execution_count": 218,
     "metadata": {},
     "output_type": "execute_result"
    }
   ],
   "source": [
    "100*len(drop_ind)/len(df_house)"
   ]
  },
  {
   "cell_type": "code",
   "execution_count": 223,
   "id": "140cdc5b-412f-4893-be0a-f6319d820085",
   "metadata": {
    "tags": []
   },
   "outputs": [
    {
     "data": {
      "text/plain": [
       "<Axes: xlabel='surface_reelle_bati', ylabel='valeur_fonciere'>"
      ]
     },
     "execution_count": 223,
     "metadata": {},
     "output_type": "execute_result"
    },
    {
     "data": {
      "image/png": "[encoded data removed]",
      "text/plain": [
       "<Figure size 640x480 with 1 Axes>"
      ]
     },
     "metadata": {},
     "output_type": "display_data"
    }
   ],
   "source": [
    "sns.scatterplot(data=df_house, x='surface_reelle_bati',y='valeur_fonciere')"
   ]
  },
  {
   "cell_type": "code",
   "execution_count": null,
   "id": "13ccfab6-03a7-4881-b400-8a64aa2239e5",
   "metadata": {},
   "outputs": [],
   "source": []
  },
  {
   "cell_type": "code",
   "execution_count": null,
   "id": "6cb92956-88fd-4032-a795-1f32383e2a34",
   "metadata": {},
   "outputs": [],
   "source": [
    "sns.scatterplot(data=df_house, x='surface_terrain',y='valeur_fonciere')"
   ]
  },
  {
   "cell_type": "code",
   "execution_count": null,
   "id": "efa4b0f4-0532-4df3-971a-4584b3b7ad2c",
   "metadata": {},
   "outputs": [],
   "source": [
    "drop_ind_terrain = df_house[(df_house['surface_terrain']>5000)].index\n",
    "df_house = df_house.drop(drop_ind_terrain,axis=0)"
   ]
  },
  {
   "cell_type": "code",
   "execution_count": null,
   "id": "ad92430c-bcea-4e0f-890d-e293a2b31b56",
   "metadata": {},
   "outputs": [],
   "source": []
  },
  {
   "cell_type": "code",
   "execution_count": null,
   "id": "573e29bc-5da9-445a-9581-c80e5c351671",
   "metadata": {},
   "outputs": [],
   "source": [
    "sns.scatterplot(data=df_house, x='nombre_pieces_principales',y='valeur_fonciere')"
   ]
  },
  {
   "cell_type": "code",
   "execution_count": null,
   "id": "1416717f-690c-41a7-be38-d5d4455a09f4",
   "metadata": {},
   "outputs": [],
   "source": []
  },
  {
   "cell_type": "code",
   "execution_count": 230,
   "id": "c42ff6c9-283f-41a9-86b8-c5965988fa83",
   "metadata": {
    "tags": []
   },
   "outputs": [
    {
     "data": {
      "text/plain": [
       "year                        -0.025287\n",
       "code_postal                 -0.018494\n",
       "month                        0.012328\n",
       "surface_terrain              0.122215\n",
       "nombre_pieces_principales    0.384715\n",
       "surface_reelle_bati          0.481103\n",
       "valeur_fonciere              1.000000\n",
       "Name: valeur_fonciere, dtype: float64"
      ]
     },
     "execution_count": 230,
     "metadata": {},
     "output_type": "execute_result"
    }
   ],
   "source": [
    "df_house.corr(numeric_only = True)['valeur_fonciere'].sort_values()"
   ]
  },
  {
   "cell_type": "code",
   "execution_count": null,
   "id": "04f5ced2-e26a-42a9-8d57-967b905b463f",
   "metadata": {},
   "outputs": [],
   "source": [
    "df_house['code_postal'].value_counts()"
   ]
  },
  {
   "cell_type": "code",
   "execution_count": null,
   "id": "886fe292-9080-4b70-9241-dca44d2f4b91",
   "metadata": {},
   "outputs": [],
   "source": [
    "df_house_31600 = df_house[df_house['code_postal'] == '31600']"
   ]
  },
  {
   "cell_type": "code",
   "execution_count": null,
   "id": "15594b90-0485-41db-afe8-3ba6a8826c4c",
   "metadata": {},
   "outputs": [],
   "source": [
    "sns.scatterplot(data=df_house_31600, x='surface_reelle_bati',y='valeur_fonciere')"
   ]
  },
  {
   "cell_type": "code",
   "execution_count": null,
   "id": "dc550ecb-1a8b-42f4-b258-60fba42ecb1a",
   "metadata": {},
   "outputs": [],
   "source": [
    "def calculate_correlation(group):\n",
    "    return group['valeur_fonciere'].corr(group['surface_reelle_bati'])"
   ]
  },
  {
   "cell_type": "code",
   "execution_count": null,
   "id": "39c59fb6-f1ab-407f-b0a6-87412aeea47b",
   "metadata": {},
   "outputs": [],
   "source": [
    "correlation_by_postal_code = df_house.groupby('code_postal').apply(calculate_correlation)\n",
    "\n",
    "for code_postal, correlation in correlation_by_postal_code.items():\n",
    "    if correlation >= 0.6:\n",
    "        print(f'Code Postal: {code_postal}, Corrélation: {correlation:.2f}')"
   ]
  },
  {
   "cell_type": "code",
   "execution_count": null,
   "id": "5a00a694-72a9-4400-a92a-2b4727212256",
   "metadata": {},
   "outputs": [],
   "source": []
  },
  {
   "cell_type": "markdown",
   "id": "db18db1a-9dfd-487f-8e2d-9af41f82468a",
   "metadata": {},
   "source": [
    "## Working on appt Price"
   ]
  },
  {
   "cell_type": "code",
   "execution_count": null,
   "id": "3d91c873-6cb4-4a0d-a248-ed9062213ed1",
   "metadata": {},
   "outputs": [],
   "source": [
    "df = pd.read_csv(\"ApptPrice_Tls.csv\")"
   ]
  }
 ],
 "metadata": {
  "kernelspec": {
   "display_name": "Python 3 (ipykernel)",
   "language": "python",
   "name": "python3"
  },
  "language_info": {
   "codemirror_mode": {
    "name": "ipython",
    "version": 3
   },
   "file_extension": ".py",
   "mimetype": "text/x-python",
   "name": "python",
   "nbconvert_exporter": "python",
   "pygments_lexer": "ipython3",
   "version": "3.11.7"
  }
 },
 "nbformat": 4,
 "nbformat_minor": 5
}
