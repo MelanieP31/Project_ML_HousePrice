{
 "cells": [
  {
   "cell_type": "code",
   "execution_count": 14,
   "id": "adcfc418-908e-4d84-8e08-a355bb6eac51",
   "metadata": {
    "tags": []
   },
   "outputs": [],
   "source": [
    "import pandas as pd\n",
    "import os\n",
    "import requests\n",
    "from bs4 import BeautifulSoup\n",
    "from urllib.parse import urljoin\n",
    "import time"
   ]
  },
  {
   "cell_type": "markdown",
   "id": "f046443b-9cd8-4450-96d5-b05fac91d945",
   "metadata": {
    "tags": []
   },
   "source": [
    "# dl all data from data.gouv in 2023 in the department 31"
   ]
  },
  {
   "cell_type": "code",
   "execution_count": 3,
   "id": "a333b4cd-ae45-44d2-9a1d-139b118004ac",
   "metadata": {
    "tags": []
   },
   "outputs": [],
   "source": [
    "url = 'https://files.data.gouv.fr/geo-dvf/latest/csv/2023/communes/31/'"
   ]
  },
  {
   "cell_type": "code",
   "execution_count": 11,
   "id": "e8d442a5-db8e-46de-8411-c53fdb95d0dd",
   "metadata": {
    "tags": []
   },
   "outputs": [],
   "source": [
    "download_folder = r'C:\\Users\\melan\\Desktop\\DeveloppementInfo\\Portfolio\\PortfolioData\\House_Price_Toulouse\\CSV'"
   ]
  },
  {
   "cell_type": "code",
   "execution_count": 13,
   "id": "83ee408a-c341-4914-b759-3c9e3ee9fb45",
   "metadata": {
    "tags": []
   },
   "outputs": [],
   "source": [
    "response = requests.get(url)\n",
    "response.raise_for_status()"
   ]
  },
  {
   "cell_type": "code",
   "execution_count": 15,
   "id": "085ec1b9-363c-4f3f-a9b2-0b34e52ad2d4",
   "metadata": {
    "tags": []
   },
   "outputs": [],
   "source": [
    "soup = BeautifulSoup(response.content, 'html.parser')"
   ]
  },
  {
   "cell_type": "code",
   "execution_count": 17,
   "id": "4a76b614-24b9-447f-87e9-7bab10f021e2",
   "metadata": {
    "tags": []
   },
   "outputs": [],
   "source": [
    "csv_links = soup.find_all('a', href=True)\n",
    "csv_links = [link for link in csv_links if link['href'].endswith('.csv')]"
   ]
  },
  {
   "cell_type": "code",
   "execution_count": null,
   "id": "0f8fd91a-1b8c-45a2-b85f-ef13eec29fd0",
   "metadata": {
    "tags": []
   },
   "outputs": [],
   "source": [
    "for link in csv_links:\n",
    "    file_url = urljoin(url, link['href'])\n",
    "    file_name = os.path.basename(link['href'])\n",
    "    file_path = os.path.join(download_folder, file_name)\n",
    "    \n",
    "    file_response = requests.get(file_url)\n",
    "    file_response.raise_for_status()\n",
    "    \n",
    "    with open(file_path, 'wb') as file:\n",
    "        file.write(file_response.content)\n",
    "        \n",
    "    print(f'Téléchargé : {file_name}')\n",
    "    \n",
    "print('Téléchargement terminé.')"
   ]
  },
  {
   "cell_type": "markdown",
   "id": "71ef508e-2cb1-4a7c-a63f-7c90acc5e8af",
   "metadata": {
    "jp-MarkdownHeadingCollapsed": true,
    "tags": []
   },
   "source": [
    "## concate in one file "
   ]
  },
  {
   "cell_type": "code",
   "execution_count": 29,
   "id": "ae435009-9e68-4686-b248-91ef5d6d450e",
   "metadata": {
    "tags": []
   },
   "outputs": [
    {
     "name": "stdout",
     "output_type": "stream",
     "text": [
      "Tous les fichiers CSV ont été concaténés en : C:\\Users\\melan\\Desktop\\DeveloppementInfo\\Portfolio\\PortfolioData\\House_Price_Toulouse\\CSV\\concatenated.csv\n"
     ]
    }
   ],
   "source": [
    "dfs = []\n",
    "for file_name in os.listdir(download_folder):\n",
    "    if file_name.endswith('.csv'):\n",
    "        file_path = os.path.join(download_folder, file_name)\n",
    "        # Lire chaque fichier CSV et l'ajouter à la liste des DataFrames\n",
    "        df = pd.read_csv(file_path)\n",
    "        dfs.append(df)\n",
    "        \n",
    "concatenated_df = pd.concat(dfs, ignore_index=True)\n",
    "output_file = os.path.join(download_folder, 'concatenated.csv')\n",
    "concatenated_df.to_csv(output_file, index=False)\n",
    "\n",
    "print(f'Tous les fichiers CSV ont été concaténés en : {output_file}')"
   ]
  },
  {
   "cell_type": "markdown",
   "id": "d443de54-9860-45f7-a1aa-85fbe17a3f38",
   "metadata": {
    "tags": []
   },
   "source": [
    "## read csv"
   ]
  },
  {
   "cell_type": "code",
   "execution_count": 231,
   "id": "3387c342-2e3b-475a-8dca-cb2755340ccd",
   "metadata": {
    "tags": []
   },
   "outputs": [
    {
     "data": {
      "text/html": [
       "<div>\n",
       "<style scoped>\n",
       "    .dataframe tbody tr th:only-of-type {\n",
       "        vertical-align: middle;\n",
       "    }\n",
       "\n",
       "    .dataframe tbody tr th {\n",
       "        vertical-align: top;\n",
       "    }\n",
       "\n",
       "    .dataframe thead th {\n",
       "        text-align: right;\n",
       "    }\n",
       "</style>\n",
       "<table border=\"1\" class=\"dataframe\">\n",
       "  <thead>\n",
       "    <tr style=\"text-align: right;\">\n",
       "      <th></th>\n",
       "      <th>id_mutation</th>\n",
       "      <th>date_mutation</th>\n",
       "      <th>numero_disposition</th>\n",
       "      <th>nature_mutation</th>\n",
       "      <th>valeur_fonciere</th>\n",
       "      <th>adresse_numero</th>\n",
       "      <th>adresse_suffixe</th>\n",
       "      <th>adresse_nom_voie</th>\n",
       "      <th>adresse_code_voie</th>\n",
       "      <th>code_postal</th>\n",
       "      <th>...</th>\n",
       "      <th>type_local</th>\n",
       "      <th>surface_reelle_bati</th>\n",
       "      <th>nombre_pieces_principales</th>\n",
       "      <th>code_nature_culture</th>\n",
       "      <th>nature_culture</th>\n",
       "      <th>code_nature_culture_speciale</th>\n",
       "      <th>nature_culture_speciale</th>\n",
       "      <th>surface_terrain</th>\n",
       "      <th>longitude</th>\n",
       "      <th>latitude</th>\n",
       "    </tr>\n",
       "  </thead>\n",
       "  <tbody>\n",
       "    <tr>\n",
       "      <th>0</th>\n",
       "      <td>2023-387434</td>\n",
       "      <td>2023-03-04</td>\n",
       "      <td>1</td>\n",
       "      <td>Vente</td>\n",
       "      <td>150000.0</td>\n",
       "      <td>62.0</td>\n",
       "      <td>A</td>\n",
       "      <td>BOIS DE BONSOM</td>\n",
       "      <td>B006</td>\n",
       "      <td>31230.0</td>\n",
       "      <td>...</td>\n",
       "      <td>Maison</td>\n",
       "      <td>149.0</td>\n",
       "      <td>6.0</td>\n",
       "      <td>VI</td>\n",
       "      <td>vignes</td>\n",
       "      <td>NaN</td>\n",
       "      <td>NaN</td>\n",
       "      <td>1296.0</td>\n",
       "      <td>0.875032</td>\n",
       "      <td>43.36364</td>\n",
       "    </tr>\n",
       "    <tr>\n",
       "      <th>1</th>\n",
       "      <td>2023-387434</td>\n",
       "      <td>2023-03-04</td>\n",
       "      <td>1</td>\n",
       "      <td>Vente</td>\n",
       "      <td>150000.0</td>\n",
       "      <td>62.0</td>\n",
       "      <td>A</td>\n",
       "      <td>BOIS DE BONSOM</td>\n",
       "      <td>B006</td>\n",
       "      <td>31230.0</td>\n",
       "      <td>...</td>\n",
       "      <td>Dépendance</td>\n",
       "      <td>NaN</td>\n",
       "      <td>0.0</td>\n",
       "      <td>VI</td>\n",
       "      <td>vignes</td>\n",
       "      <td>NaN</td>\n",
       "      <td>NaN</td>\n",
       "      <td>1296.0</td>\n",
       "      <td>0.875032</td>\n",
       "      <td>43.36364</td>\n",
       "    </tr>\n",
       "    <tr>\n",
       "      <th>2</th>\n",
       "      <td>2023-387434</td>\n",
       "      <td>2023-03-04</td>\n",
       "      <td>1</td>\n",
       "      <td>Vente</td>\n",
       "      <td>150000.0</td>\n",
       "      <td>62.0</td>\n",
       "      <td>A</td>\n",
       "      <td>BOIS DE BONSOM</td>\n",
       "      <td>B006</td>\n",
       "      <td>31230.0</td>\n",
       "      <td>...</td>\n",
       "      <td>Dépendance</td>\n",
       "      <td>NaN</td>\n",
       "      <td>0.0</td>\n",
       "      <td>VI</td>\n",
       "      <td>vignes</td>\n",
       "      <td>NaN</td>\n",
       "      <td>NaN</td>\n",
       "      <td>1296.0</td>\n",
       "      <td>0.875032</td>\n",
       "      <td>43.36364</td>\n",
       "    </tr>\n",
       "    <tr>\n",
       "      <th>3</th>\n",
       "      <td>2023-387434</td>\n",
       "      <td>2023-03-04</td>\n",
       "      <td>1</td>\n",
       "      <td>Vente</td>\n",
       "      <td>150000.0</td>\n",
       "      <td>62.0</td>\n",
       "      <td>A</td>\n",
       "      <td>BOIS DE BONSOM</td>\n",
       "      <td>B006</td>\n",
       "      <td>31230.0</td>\n",
       "      <td>...</td>\n",
       "      <td>Maison</td>\n",
       "      <td>149.0</td>\n",
       "      <td>6.0</td>\n",
       "      <td>AG</td>\n",
       "      <td>terrains d'agrément</td>\n",
       "      <td>PARC</td>\n",
       "      <td>Parc</td>\n",
       "      <td>750.0</td>\n",
       "      <td>0.875032</td>\n",
       "      <td>43.36364</td>\n",
       "    </tr>\n",
       "    <tr>\n",
       "      <th>4</th>\n",
       "      <td>2023-387434</td>\n",
       "      <td>2023-03-04</td>\n",
       "      <td>1</td>\n",
       "      <td>Vente</td>\n",
       "      <td>150000.0</td>\n",
       "      <td>62.0</td>\n",
       "      <td>A</td>\n",
       "      <td>BOIS DE BONSOM</td>\n",
       "      <td>B006</td>\n",
       "      <td>31230.0</td>\n",
       "      <td>...</td>\n",
       "      <td>Dépendance</td>\n",
       "      <td>NaN</td>\n",
       "      <td>0.0</td>\n",
       "      <td>AG</td>\n",
       "      <td>terrains d'agrément</td>\n",
       "      <td>PARC</td>\n",
       "      <td>Parc</td>\n",
       "      <td>750.0</td>\n",
       "      <td>0.875032</td>\n",
       "      <td>43.36364</td>\n",
       "    </tr>\n",
       "    <tr>\n",
       "      <th>5</th>\n",
       "      <td>2023-387434</td>\n",
       "      <td>2023-03-04</td>\n",
       "      <td>1</td>\n",
       "      <td>Vente</td>\n",
       "      <td>150000.0</td>\n",
       "      <td>62.0</td>\n",
       "      <td>A</td>\n",
       "      <td>BOIS DE BONSOM</td>\n",
       "      <td>B006</td>\n",
       "      <td>31230.0</td>\n",
       "      <td>...</td>\n",
       "      <td>Dépendance</td>\n",
       "      <td>NaN</td>\n",
       "      <td>0.0</td>\n",
       "      <td>AG</td>\n",
       "      <td>terrains d'agrément</td>\n",
       "      <td>PARC</td>\n",
       "      <td>Parc</td>\n",
       "      <td>750.0</td>\n",
       "      <td>0.875032</td>\n",
       "      <td>43.36364</td>\n",
       "    </tr>\n",
       "    <tr>\n",
       "      <th>6</th>\n",
       "      <td>2023-387434</td>\n",
       "      <td>2023-03-04</td>\n",
       "      <td>1</td>\n",
       "      <td>Vente</td>\n",
       "      <td>150000.0</td>\n",
       "      <td>62.0</td>\n",
       "      <td>A</td>\n",
       "      <td>BOIS DE BONSOM</td>\n",
       "      <td>B006</td>\n",
       "      <td>31230.0</td>\n",
       "      <td>...</td>\n",
       "      <td>Maison</td>\n",
       "      <td>149.0</td>\n",
       "      <td>6.0</td>\n",
       "      <td>AG</td>\n",
       "      <td>terrains d'agrément</td>\n",
       "      <td>PARC</td>\n",
       "      <td>Parc</td>\n",
       "      <td>539.0</td>\n",
       "      <td>0.875032</td>\n",
       "      <td>43.36364</td>\n",
       "    </tr>\n",
       "    <tr>\n",
       "      <th>7</th>\n",
       "      <td>2023-387434</td>\n",
       "      <td>2023-03-04</td>\n",
       "      <td>1</td>\n",
       "      <td>Vente</td>\n",
       "      <td>150000.0</td>\n",
       "      <td>62.0</td>\n",
       "      <td>A</td>\n",
       "      <td>BOIS DE BONSOM</td>\n",
       "      <td>B006</td>\n",
       "      <td>31230.0</td>\n",
       "      <td>...</td>\n",
       "      <td>Dépendance</td>\n",
       "      <td>NaN</td>\n",
       "      <td>0.0</td>\n",
       "      <td>AG</td>\n",
       "      <td>terrains d'agrément</td>\n",
       "      <td>PARC</td>\n",
       "      <td>Parc</td>\n",
       "      <td>539.0</td>\n",
       "      <td>0.875032</td>\n",
       "      <td>43.36364</td>\n",
       "    </tr>\n",
       "    <tr>\n",
       "      <th>8</th>\n",
       "      <td>2023-387434</td>\n",
       "      <td>2023-03-04</td>\n",
       "      <td>1</td>\n",
       "      <td>Vente</td>\n",
       "      <td>150000.0</td>\n",
       "      <td>62.0</td>\n",
       "      <td>A</td>\n",
       "      <td>BOIS DE BONSOM</td>\n",
       "      <td>B006</td>\n",
       "      <td>31230.0</td>\n",
       "      <td>...</td>\n",
       "      <td>Dépendance</td>\n",
       "      <td>NaN</td>\n",
       "      <td>0.0</td>\n",
       "      <td>AG</td>\n",
       "      <td>terrains d'agrément</td>\n",
       "      <td>PARC</td>\n",
       "      <td>Parc</td>\n",
       "      <td>539.0</td>\n",
       "      <td>0.875032</td>\n",
       "      <td>43.36364</td>\n",
       "    </tr>\n",
       "    <tr>\n",
       "      <th>9</th>\n",
       "      <td>2023-387434</td>\n",
       "      <td>2023-03-04</td>\n",
       "      <td>1</td>\n",
       "      <td>Vente</td>\n",
       "      <td>150000.0</td>\n",
       "      <td>62.0</td>\n",
       "      <td>A</td>\n",
       "      <td>BOIS DE BONSOM</td>\n",
       "      <td>B006</td>\n",
       "      <td>31230.0</td>\n",
       "      <td>...</td>\n",
       "      <td>Maison</td>\n",
       "      <td>149.0</td>\n",
       "      <td>6.0</td>\n",
       "      <td>J</td>\n",
       "      <td>jardins</td>\n",
       "      <td>NaN</td>\n",
       "      <td>NaN</td>\n",
       "      <td>756.0</td>\n",
       "      <td>0.875032</td>\n",
       "      <td>43.36364</td>\n",
       "    </tr>\n",
       "  </tbody>\n",
       "</table>\n",
       "<p>10 rows × 40 columns</p>\n",
       "</div>"
      ],
      "text/plain": [
       "   id_mutation date_mutation  numero_disposition nature_mutation  \\\n",
       "0  2023-387434    2023-03-04                   1           Vente   \n",
       "1  2023-387434    2023-03-04                   1           Vente   \n",
       "2  2023-387434    2023-03-04                   1           Vente   \n",
       "3  2023-387434    2023-03-04                   1           Vente   \n",
       "4  2023-387434    2023-03-04                   1           Vente   \n",
       "5  2023-387434    2023-03-04                   1           Vente   \n",
       "6  2023-387434    2023-03-04                   1           Vente   \n",
       "7  2023-387434    2023-03-04                   1           Vente   \n",
       "8  2023-387434    2023-03-04                   1           Vente   \n",
       "9  2023-387434    2023-03-04                   1           Vente   \n",
       "\n",
       "   valeur_fonciere  adresse_numero adresse_suffixe adresse_nom_voie  \\\n",
       "0         150000.0            62.0               A   BOIS DE BONSOM   \n",
       "1         150000.0            62.0               A   BOIS DE BONSOM   \n",
       "2         150000.0            62.0               A   BOIS DE BONSOM   \n",
       "3         150000.0            62.0               A   BOIS DE BONSOM   \n",
       "4         150000.0            62.0               A   BOIS DE BONSOM   \n",
       "5         150000.0            62.0               A   BOIS DE BONSOM   \n",
       "6         150000.0            62.0               A   BOIS DE BONSOM   \n",
       "7         150000.0            62.0               A   BOIS DE BONSOM   \n",
       "8         150000.0            62.0               A   BOIS DE BONSOM   \n",
       "9         150000.0            62.0               A   BOIS DE BONSOM   \n",
       "\n",
       "  adresse_code_voie  code_postal  ...  type_local surface_reelle_bati  \\\n",
       "0              B006      31230.0  ...      Maison               149.0   \n",
       "1              B006      31230.0  ...  Dépendance                 NaN   \n",
       "2              B006      31230.0  ...  Dépendance                 NaN   \n",
       "3              B006      31230.0  ...      Maison               149.0   \n",
       "4              B006      31230.0  ...  Dépendance                 NaN   \n",
       "5              B006      31230.0  ...  Dépendance                 NaN   \n",
       "6              B006      31230.0  ...      Maison               149.0   \n",
       "7              B006      31230.0  ...  Dépendance                 NaN   \n",
       "8              B006      31230.0  ...  Dépendance                 NaN   \n",
       "9              B006      31230.0  ...      Maison               149.0   \n",
       "\n",
       "   nombre_pieces_principales  code_nature_culture       nature_culture  \\\n",
       "0                        6.0                   VI               vignes   \n",
       "1                        0.0                   VI               vignes   \n",
       "2                        0.0                   VI               vignes   \n",
       "3                        6.0                   AG  terrains d'agrément   \n",
       "4                        0.0                   AG  terrains d'agrément   \n",
       "5                        0.0                   AG  terrains d'agrément   \n",
       "6                        6.0                   AG  terrains d'agrément   \n",
       "7                        0.0                   AG  terrains d'agrément   \n",
       "8                        0.0                   AG  terrains d'agrément   \n",
       "9                        6.0                    J              jardins   \n",
       "\n",
       "  code_nature_culture_speciale  nature_culture_speciale  surface_terrain  \\\n",
       "0                          NaN                      NaN           1296.0   \n",
       "1                          NaN                      NaN           1296.0   \n",
       "2                          NaN                      NaN           1296.0   \n",
       "3                         PARC                     Parc            750.0   \n",
       "4                         PARC                     Parc            750.0   \n",
       "5                         PARC                     Parc            750.0   \n",
       "6                         PARC                     Parc            539.0   \n",
       "7                         PARC                     Parc            539.0   \n",
       "8                         PARC                     Parc            539.0   \n",
       "9                          NaN                      NaN            756.0   \n",
       "\n",
       "   longitude  latitude  \n",
       "0   0.875032  43.36364  \n",
       "1   0.875032  43.36364  \n",
       "2   0.875032  43.36364  \n",
       "3   0.875032  43.36364  \n",
       "4   0.875032  43.36364  \n",
       "5   0.875032  43.36364  \n",
       "6   0.875032  43.36364  \n",
       "7   0.875032  43.36364  \n",
       "8   0.875032  43.36364  \n",
       "9   0.875032  43.36364  \n",
       "\n",
       "[10 rows x 40 columns]"
      ]
     },
     "execution_count": 231,
     "metadata": {},
     "output_type": "execute_result"
    }
   ],
   "source": [
    "df = pd.read_csv(\"CSV/concatenated.csv\")\n",
    "df.head(10)"
   ]
  },
  {
   "cell_type": "code",
   "execution_count": 153,
   "id": "b32e11ef-5836-4077-8971-c10ec2d88aad",
   "metadata": {
    "tags": []
   },
   "outputs": [
    {
     "data": {
      "text/plain": [
       "73135"
      ]
     },
     "execution_count": 153,
     "metadata": {},
     "output_type": "execute_result"
    }
   ],
   "source": [
    "len(df)"
   ]
  },
  {
   "cell_type": "markdown",
   "id": "105658df-7104-4321-8055-8c6013acb4ad",
   "metadata": {
    "tags": []
   },
   "source": [
    "## cleaning"
   ]
  },
  {
   "cell_type": "markdown",
   "id": "73e260e3-1725-447f-906e-ecbe0fb59847",
   "metadata": {},
   "source": [
    "### lines : keep only House and Appartment, drop the duplicate"
   ]
  },
  {
   "cell_type": "code",
   "execution_count": 233,
   "id": "76223fe1-3872-4578-8e50-ab31589618c9",
   "metadata": {
    "tags": []
   },
   "outputs": [],
   "source": [
    "df = df[(df.type_local==\"Maison\")|(df.type_local==\"Appartement\")].reset_index()"
   ]
  },
  {
   "cell_type": "code",
   "execution_count": 235,
   "id": "b0f467cf-81c1-4243-b125-732381e0835f",
   "metadata": {
    "tags": []
   },
   "outputs": [
    {
     "data": {
      "text/plain": [
       "0        False\n",
       "1         True\n",
       "2         True\n",
       "3         True\n",
       "4         True\n",
       "         ...  \n",
       "22570    False\n",
       "22571     True\n",
       "22572    False\n",
       "22573    False\n",
       "22574     True\n",
       "Length: 22575, dtype: bool"
      ]
     },
     "execution_count": 235,
     "metadata": {},
     "output_type": "execute_result"
    }
   ],
   "source": [
    "df.duplicated(subset=['id_mutation'])"
   ]
  },
  {
   "cell_type": "code",
   "execution_count": 237,
   "id": "94003dfc-5073-4838-9752-f101cf5cc6d4",
   "metadata": {
    "tags": []
   },
   "outputs": [],
   "source": [
    "df = df.drop_duplicates(subset=['id_mutation'])"
   ]
  },
  {
   "cell_type": "code",
   "execution_count": 239,
   "id": "3bc57be9-2aa5-4f07-9fd3-bee9fdc65a7d",
   "metadata": {
    "tags": []
   },
   "outputs": [],
   "source": [
    "df = df[df.nature_mutation=='Vente']"
   ]
  },
  {
   "cell_type": "code",
   "execution_count": 241,
   "id": "50fad3d1-1642-48f3-8fc5-9c5b288efbf5",
   "metadata": {
    "tags": []
   },
   "outputs": [
    {
     "data": {
      "text/plain": [
       "18786"
      ]
     },
     "execution_count": 241,
     "metadata": {},
     "output_type": "execute_result"
    }
   ],
   "source": [
    "len(df)"
   ]
  },
  {
   "cell_type": "markdown",
   "id": "612d09f5-e57d-4489-9c7c-4aae6c22d658",
   "metadata": {},
   "source": [
    "### columns : drop"
   ]
  },
  {
   "cell_type": "code",
   "execution_count": 243,
   "id": "5000a36e-e387-48d9-b310-45fa209c8529",
   "metadata": {
    "tags": []
   },
   "outputs": [],
   "source": [
    "df=df.dropna(axis=1, how='all')"
   ]
  },
  {
   "cell_type": "code",
   "execution_count": 245,
   "id": "366e56ad-a67e-4991-94ca-fc714a3c8daf",
   "metadata": {
    "tags": []
   },
   "outputs": [],
   "source": [
    "df = df[['date_mutation','valeur_fonciere','code_postal','nom_commune','type_local','surface_reelle_bati','nombre_pieces_principales','nature_culture','nature_culture_speciale','surface_terrain']]"
   ]
  },
  {
   "cell_type": "code",
   "execution_count": 247,
   "id": "6acfa770-3aa8-4f72-88dc-902b1cf038f9",
   "metadata": {
    "tags": []
   },
   "outputs": [
    {
     "data": {
      "text/html": [
       "<div>\n",
       "<style scoped>\n",
       "    .dataframe tbody tr th:only-of-type {\n",
       "        vertical-align: middle;\n",
       "    }\n",
       "\n",
       "    .dataframe tbody tr th {\n",
       "        vertical-align: top;\n",
       "    }\n",
       "\n",
       "    .dataframe thead th {\n",
       "        text-align: right;\n",
       "    }\n",
       "</style>\n",
       "<table border=\"1\" class=\"dataframe\">\n",
       "  <thead>\n",
       "    <tr style=\"text-align: right;\">\n",
       "      <th></th>\n",
       "      <th>date_mutation</th>\n",
       "      <th>valeur_fonciere</th>\n",
       "      <th>code_postal</th>\n",
       "      <th>nom_commune</th>\n",
       "      <th>type_local</th>\n",
       "      <th>surface_reelle_bati</th>\n",
       "      <th>nombre_pieces_principales</th>\n",
       "      <th>nature_culture</th>\n",
       "      <th>nature_culture_speciale</th>\n",
       "      <th>surface_terrain</th>\n",
       "    </tr>\n",
       "  </thead>\n",
       "  <tbody>\n",
       "    <tr>\n",
       "      <th>0</th>\n",
       "      <td>2023-03-04</td>\n",
       "      <td>150000.0</td>\n",
       "      <td>31230.0</td>\n",
       "      <td>Agassac</td>\n",
       "      <td>Maison</td>\n",
       "      <td>149.0</td>\n",
       "      <td>6.0</td>\n",
       "      <td>vignes</td>\n",
       "      <td>NaN</td>\n",
       "      <td>1296.0</td>\n",
       "    </tr>\n",
       "    <tr>\n",
       "      <th>5</th>\n",
       "      <td>2023-10-27</td>\n",
       "      <td>150000.0</td>\n",
       "      <td>31230.0</td>\n",
       "      <td>Agassac</td>\n",
       "      <td>Appartement</td>\n",
       "      <td>66.0</td>\n",
       "      <td>3.0</td>\n",
       "      <td>sols</td>\n",
       "      <td>NaN</td>\n",
       "      <td>359.0</td>\n",
       "    </tr>\n",
       "    <tr>\n",
       "      <th>7</th>\n",
       "      <td>2023-04-14</td>\n",
       "      <td>90000.0</td>\n",
       "      <td>31550.0</td>\n",
       "      <td>Aignes</td>\n",
       "      <td>Maison</td>\n",
       "      <td>36.0</td>\n",
       "      <td>1.0</td>\n",
       "      <td>sols</td>\n",
       "      <td>NaN</td>\n",
       "      <td>1758.0</td>\n",
       "    </tr>\n",
       "    <tr>\n",
       "      <th>8</th>\n",
       "      <td>2023-04-19</td>\n",
       "      <td>186570.0</td>\n",
       "      <td>31280.0</td>\n",
       "      <td>Aigrefeuille</td>\n",
       "      <td>Appartement</td>\n",
       "      <td>63.0</td>\n",
       "      <td>3.0</td>\n",
       "      <td>NaN</td>\n",
       "      <td>NaN</td>\n",
       "      <td>NaN</td>\n",
       "    </tr>\n",
       "    <tr>\n",
       "      <th>9</th>\n",
       "      <td>2023-04-24</td>\n",
       "      <td>845000.0</td>\n",
       "      <td>31280.0</td>\n",
       "      <td>Aigrefeuille</td>\n",
       "      <td>Maison</td>\n",
       "      <td>360.0</td>\n",
       "      <td>7.0</td>\n",
       "      <td>terrains d'agrément</td>\n",
       "      <td>Parc</td>\n",
       "      <td>1794.0</td>\n",
       "    </tr>\n",
       "    <tr>\n",
       "      <th>...</th>\n",
       "      <td>...</td>\n",
       "      <td>...</td>\n",
       "      <td>...</td>\n",
       "      <td>...</td>\n",
       "      <td>...</td>\n",
       "      <td>...</td>\n",
       "      <td>...</td>\n",
       "      <td>...</td>\n",
       "      <td>...</td>\n",
       "      <td>...</td>\n",
       "    </tr>\n",
       "    <tr>\n",
       "      <th>22567</th>\n",
       "      <td>2023-12-05</td>\n",
       "      <td>644700.0</td>\n",
       "      <td>31330.0</td>\n",
       "      <td>Larra</td>\n",
       "      <td>Maison</td>\n",
       "      <td>293.0</td>\n",
       "      <td>7.0</td>\n",
       "      <td>terres</td>\n",
       "      <td>NaN</td>\n",
       "      <td>35040.0</td>\n",
       "    </tr>\n",
       "    <tr>\n",
       "      <th>22568</th>\n",
       "      <td>2023-12-14</td>\n",
       "      <td>515100.0</td>\n",
       "      <td>31330.0</td>\n",
       "      <td>Larra</td>\n",
       "      <td>Appartement</td>\n",
       "      <td>159.0</td>\n",
       "      <td>4.0</td>\n",
       "      <td>terres</td>\n",
       "      <td>NaN</td>\n",
       "      <td>31425.0</td>\n",
       "    </tr>\n",
       "    <tr>\n",
       "      <th>22570</th>\n",
       "      <td>2023-12-26</td>\n",
       "      <td>453100.0</td>\n",
       "      <td>31330.0</td>\n",
       "      <td>Larra</td>\n",
       "      <td>Maison</td>\n",
       "      <td>139.0</td>\n",
       "      <td>6.0</td>\n",
       "      <td>sols</td>\n",
       "      <td>NaN</td>\n",
       "      <td>1500.0</td>\n",
       "    </tr>\n",
       "    <tr>\n",
       "      <th>22572</th>\n",
       "      <td>2023-02-14</td>\n",
       "      <td>120000.0</td>\n",
       "      <td>31230.0</td>\n",
       "      <td>Cazac</td>\n",
       "      <td>Maison</td>\n",
       "      <td>102.0</td>\n",
       "      <td>2.0</td>\n",
       "      <td>sols</td>\n",
       "      <td>NaN</td>\n",
       "      <td>1859.0</td>\n",
       "    </tr>\n",
       "    <tr>\n",
       "      <th>22573</th>\n",
       "      <td>2023-08-09</td>\n",
       "      <td>165000.0</td>\n",
       "      <td>31230.0</td>\n",
       "      <td>Cazac</td>\n",
       "      <td>Maison</td>\n",
       "      <td>134.0</td>\n",
       "      <td>4.0</td>\n",
       "      <td>sols</td>\n",
       "      <td>NaN</td>\n",
       "      <td>500.0</td>\n",
       "    </tr>\n",
       "  </tbody>\n",
       "</table>\n",
       "<p>18786 rows × 10 columns</p>\n",
       "</div>"
      ],
      "text/plain": [
       "      date_mutation  valeur_fonciere  code_postal   nom_commune   type_local  \\\n",
       "0        2023-03-04         150000.0      31230.0       Agassac       Maison   \n",
       "5        2023-10-27         150000.0      31230.0       Agassac  Appartement   \n",
       "7        2023-04-14          90000.0      31550.0        Aignes       Maison   \n",
       "8        2023-04-19         186570.0      31280.0  Aigrefeuille  Appartement   \n",
       "9        2023-04-24         845000.0      31280.0  Aigrefeuille       Maison   \n",
       "...             ...              ...          ...           ...          ...   \n",
       "22567    2023-12-05         644700.0      31330.0         Larra       Maison   \n",
       "22568    2023-12-14         515100.0      31330.0         Larra  Appartement   \n",
       "22570    2023-12-26         453100.0      31330.0         Larra       Maison   \n",
       "22572    2023-02-14         120000.0      31230.0         Cazac       Maison   \n",
       "22573    2023-08-09         165000.0      31230.0         Cazac       Maison   \n",
       "\n",
       "       surface_reelle_bati  nombre_pieces_principales       nature_culture  \\\n",
       "0                    149.0                        6.0               vignes   \n",
       "5                     66.0                        3.0                 sols   \n",
       "7                     36.0                        1.0                 sols   \n",
       "8                     63.0                        3.0                  NaN   \n",
       "9                    360.0                        7.0  terrains d'agrément   \n",
       "...                    ...                        ...                  ...   \n",
       "22567                293.0                        7.0               terres   \n",
       "22568                159.0                        4.0               terres   \n",
       "22570                139.0                        6.0                 sols   \n",
       "22572                102.0                        2.0                 sols   \n",
       "22573                134.0                        4.0                 sols   \n",
       "\n",
       "      nature_culture_speciale  surface_terrain  \n",
       "0                         NaN           1296.0  \n",
       "5                         NaN            359.0  \n",
       "7                         NaN           1758.0  \n",
       "8                         NaN              NaN  \n",
       "9                        Parc           1794.0  \n",
       "...                       ...              ...  \n",
       "22567                     NaN          35040.0  \n",
       "22568                     NaN          31425.0  \n",
       "22570                     NaN           1500.0  \n",
       "22572                     NaN           1859.0  \n",
       "22573                     NaN            500.0  \n",
       "\n",
       "[18786 rows x 10 columns]"
      ]
     },
     "execution_count": 247,
     "metadata": {},
     "output_type": "execute_result"
    }
   ],
   "source": [
    "df"
   ]
  },
  {
   "cell_type": "code",
   "execution_count": 249,
   "id": "36cd320a-548f-4aef-9a07-f6542581e26a",
   "metadata": {
    "tags": []
   },
   "outputs": [
    {
     "data": {
      "text/html": [
       "<div>\n",
       "<style scoped>\n",
       "    .dataframe tbody tr th:only-of-type {\n",
       "        vertical-align: middle;\n",
       "    }\n",
       "\n",
       "    .dataframe tbody tr th {\n",
       "        vertical-align: top;\n",
       "    }\n",
       "\n",
       "    .dataframe thead th {\n",
       "        text-align: right;\n",
       "    }\n",
       "</style>\n",
       "<table border=\"1\" class=\"dataframe\">\n",
       "  <thead>\n",
       "    <tr style=\"text-align: right;\">\n",
       "      <th></th>\n",
       "      <th>date_mutation</th>\n",
       "      <th>valeur_fonciere</th>\n",
       "      <th>code_postal</th>\n",
       "      <th>nom_commune</th>\n",
       "      <th>type_local</th>\n",
       "      <th>surface_reelle_bati</th>\n",
       "      <th>nombre_pieces_principales</th>\n",
       "      <th>nature_culture</th>\n",
       "      <th>nature_culture_speciale</th>\n",
       "      <th>surface_terrain</th>\n",
       "    </tr>\n",
       "  </thead>\n",
       "  <tbody>\n",
       "    <tr>\n",
       "      <th>0</th>\n",
       "      <td>2023-03-04</td>\n",
       "      <td>150000.0</td>\n",
       "      <td>31230.0</td>\n",
       "      <td>Agassac</td>\n",
       "      <td>Maison</td>\n",
       "      <td>149.0</td>\n",
       "      <td>6.0</td>\n",
       "      <td>vignes</td>\n",
       "      <td>NaN</td>\n",
       "      <td>1296.0</td>\n",
       "    </tr>\n",
       "    <tr>\n",
       "      <th>1</th>\n",
       "      <td>2023-10-27</td>\n",
       "      <td>150000.0</td>\n",
       "      <td>31230.0</td>\n",
       "      <td>Agassac</td>\n",
       "      <td>Appartement</td>\n",
       "      <td>66.0</td>\n",
       "      <td>3.0</td>\n",
       "      <td>sols</td>\n",
       "      <td>NaN</td>\n",
       "      <td>359.0</td>\n",
       "    </tr>\n",
       "    <tr>\n",
       "      <th>2</th>\n",
       "      <td>2023-04-14</td>\n",
       "      <td>90000.0</td>\n",
       "      <td>31550.0</td>\n",
       "      <td>Aignes</td>\n",
       "      <td>Maison</td>\n",
       "      <td>36.0</td>\n",
       "      <td>1.0</td>\n",
       "      <td>sols</td>\n",
       "      <td>NaN</td>\n",
       "      <td>1758.0</td>\n",
       "    </tr>\n",
       "    <tr>\n",
       "      <th>3</th>\n",
       "      <td>2023-04-19</td>\n",
       "      <td>186570.0</td>\n",
       "      <td>31280.0</td>\n",
       "      <td>Aigrefeuille</td>\n",
       "      <td>Appartement</td>\n",
       "      <td>63.0</td>\n",
       "      <td>3.0</td>\n",
       "      <td>NaN</td>\n",
       "      <td>NaN</td>\n",
       "      <td>NaN</td>\n",
       "    </tr>\n",
       "    <tr>\n",
       "      <th>4</th>\n",
       "      <td>2023-04-24</td>\n",
       "      <td>845000.0</td>\n",
       "      <td>31280.0</td>\n",
       "      <td>Aigrefeuille</td>\n",
       "      <td>Maison</td>\n",
       "      <td>360.0</td>\n",
       "      <td>7.0</td>\n",
       "      <td>terrains d'agrément</td>\n",
       "      <td>Parc</td>\n",
       "      <td>1794.0</td>\n",
       "    </tr>\n",
       "    <tr>\n",
       "      <th>...</th>\n",
       "      <td>...</td>\n",
       "      <td>...</td>\n",
       "      <td>...</td>\n",
       "      <td>...</td>\n",
       "      <td>...</td>\n",
       "      <td>...</td>\n",
       "      <td>...</td>\n",
       "      <td>...</td>\n",
       "      <td>...</td>\n",
       "      <td>...</td>\n",
       "    </tr>\n",
       "    <tr>\n",
       "      <th>18781</th>\n",
       "      <td>2023-12-05</td>\n",
       "      <td>644700.0</td>\n",
       "      <td>31330.0</td>\n",
       "      <td>Larra</td>\n",
       "      <td>Maison</td>\n",
       "      <td>293.0</td>\n",
       "      <td>7.0</td>\n",
       "      <td>terres</td>\n",
       "      <td>NaN</td>\n",
       "      <td>35040.0</td>\n",
       "    </tr>\n",
       "    <tr>\n",
       "      <th>18782</th>\n",
       "      <td>2023-12-14</td>\n",
       "      <td>515100.0</td>\n",
       "      <td>31330.0</td>\n",
       "      <td>Larra</td>\n",
       "      <td>Appartement</td>\n",
       "      <td>159.0</td>\n",
       "      <td>4.0</td>\n",
       "      <td>terres</td>\n",
       "      <td>NaN</td>\n",
       "      <td>31425.0</td>\n",
       "    </tr>\n",
       "    <tr>\n",
       "      <th>18783</th>\n",
       "      <td>2023-12-26</td>\n",
       "      <td>453100.0</td>\n",
       "      <td>31330.0</td>\n",
       "      <td>Larra</td>\n",
       "      <td>Maison</td>\n",
       "      <td>139.0</td>\n",
       "      <td>6.0</td>\n",
       "      <td>sols</td>\n",
       "      <td>NaN</td>\n",
       "      <td>1500.0</td>\n",
       "    </tr>\n",
       "    <tr>\n",
       "      <th>18784</th>\n",
       "      <td>2023-02-14</td>\n",
       "      <td>120000.0</td>\n",
       "      <td>31230.0</td>\n",
       "      <td>Cazac</td>\n",
       "      <td>Maison</td>\n",
       "      <td>102.0</td>\n",
       "      <td>2.0</td>\n",
       "      <td>sols</td>\n",
       "      <td>NaN</td>\n",
       "      <td>1859.0</td>\n",
       "    </tr>\n",
       "    <tr>\n",
       "      <th>18785</th>\n",
       "      <td>2023-08-09</td>\n",
       "      <td>165000.0</td>\n",
       "      <td>31230.0</td>\n",
       "      <td>Cazac</td>\n",
       "      <td>Maison</td>\n",
       "      <td>134.0</td>\n",
       "      <td>4.0</td>\n",
       "      <td>sols</td>\n",
       "      <td>NaN</td>\n",
       "      <td>500.0</td>\n",
       "    </tr>\n",
       "  </tbody>\n",
       "</table>\n",
       "<p>18786 rows × 10 columns</p>\n",
       "</div>"
      ],
      "text/plain": [
       "      date_mutation  valeur_fonciere  code_postal   nom_commune   type_local  \\\n",
       "0        2023-03-04         150000.0      31230.0       Agassac       Maison   \n",
       "1        2023-10-27         150000.0      31230.0       Agassac  Appartement   \n",
       "2        2023-04-14          90000.0      31550.0        Aignes       Maison   \n",
       "3        2023-04-19         186570.0      31280.0  Aigrefeuille  Appartement   \n",
       "4        2023-04-24         845000.0      31280.0  Aigrefeuille       Maison   \n",
       "...             ...              ...          ...           ...          ...   \n",
       "18781    2023-12-05         644700.0      31330.0         Larra       Maison   \n",
       "18782    2023-12-14         515100.0      31330.0         Larra  Appartement   \n",
       "18783    2023-12-26         453100.0      31330.0         Larra       Maison   \n",
       "18784    2023-02-14         120000.0      31230.0         Cazac       Maison   \n",
       "18785    2023-08-09         165000.0      31230.0         Cazac       Maison   \n",
       "\n",
       "       surface_reelle_bati  nombre_pieces_principales       nature_culture  \\\n",
       "0                    149.0                        6.0               vignes   \n",
       "1                     66.0                        3.0                 sols   \n",
       "2                     36.0                        1.0                 sols   \n",
       "3                     63.0                        3.0                  NaN   \n",
       "4                    360.0                        7.0  terrains d'agrément   \n",
       "...                    ...                        ...                  ...   \n",
       "18781                293.0                        7.0               terres   \n",
       "18782                159.0                        4.0               terres   \n",
       "18783                139.0                        6.0                 sols   \n",
       "18784                102.0                        2.0                 sols   \n",
       "18785                134.0                        4.0                 sols   \n",
       "\n",
       "      nature_culture_speciale  surface_terrain  \n",
       "0                         NaN           1296.0  \n",
       "1                         NaN            359.0  \n",
       "2                         NaN           1758.0  \n",
       "3                         NaN              NaN  \n",
       "4                        Parc           1794.0  \n",
       "...                       ...              ...  \n",
       "18781                     NaN          35040.0  \n",
       "18782                     NaN          31425.0  \n",
       "18783                     NaN           1500.0  \n",
       "18784                     NaN           1859.0  \n",
       "18785                     NaN            500.0  \n",
       "\n",
       "[18786 rows x 10 columns]"
      ]
     },
     "execution_count": 249,
     "metadata": {},
     "output_type": "execute_result"
    }
   ],
   "source": [
    "#reset_index\n",
    "df = df.reset_index(drop=True)\n",
    "df"
   ]
  },
  {
   "cell_type": "code",
   "execution_count": null,
   "id": "8c4c8007-4673-4ac4-b296-5d7331bd8efe",
   "metadata": {
    "tags": []
   },
   "outputs": [],
   "source": [
    "# separer année/mois\n",
    "df.date_mutation = pd.to_datetime(df.date_mutation)"
   ]
  },
  {
   "cell_type": "code",
   "execution_count": 271,
   "id": "c61a3275-8aff-4acb-96b9-afc39cfb522f",
   "metadata": {
    "tags": []
   },
   "outputs": [
    {
     "data": {
      "text/plain": [
       "dtype('<M8[ns]')"
      ]
     },
     "execution_count": 271,
     "metadata": {},
     "output_type": "execute_result"
    }
   ],
   "source": [
    "df.date_mutation.dtypes"
   ]
  },
  {
   "cell_type": "code",
   "execution_count": 273,
   "id": "07f0f817-3a6a-4eea-bac1-d0d73285da45",
   "metadata": {
    "tags": []
   },
   "outputs": [
    {
     "name": "stderr",
     "output_type": "stream",
     "text": [
      "C:\\Users\\melan\\AppData\\Local\\Temp\\ipykernel_24144\\1311382442.py:1: UserWarning: Pandas doesn't allow columns to be created via a new attribute name - see https://pandas.pydata.org/pandas-docs/stable/indexing.html#attribute-access\n",
      "  df.year = df.date_mutation.dt.year\n"
     ]
    }
   ],
   "source": [
    "df.year = df.date_mutation.dt.year"
   ]
  },
  {
   "cell_type": "code",
   "execution_count": null,
   "id": "15aebab8-0734-42b7-b35f-9b1747a6fb1b",
   "metadata": {},
   "outputs": [],
   "source": [
    "df"
   ]
  },
  {
   "cell_type": "code",
   "execution_count": null,
   "id": "d04cdb17-44e4-450b-a12f-9f9a5faab4a3",
   "metadata": {},
   "outputs": [],
   "source": [
    "# Séparer appartement et Maison\n"
   ]
  },
  {
   "cell_type": "code",
   "execution_count": null,
   "id": "57e9b198-7677-4b3c-a0d0-7ee8196b1a6d",
   "metadata": {},
   "outputs": [],
   "source": [
    "# fusionner type_nature ? \n"
   ]
  },
  {
   "cell_type": "code",
   "execution_count": null,
   "id": "e9490f26-b76d-4f28-87d7-fcf1054712fc",
   "metadata": {},
   "outputs": [],
   "source": [
    "### explo simple\n",
    "# correlation\n",
    "# distribution"
   ]
  },
  {
   "cell_type": "code",
   "execution_count": null,
   "id": "0038b31f-ab56-4e9c-a2e4-3931ca978457",
   "metadata": {},
   "outputs": [],
   "source": [
    "### feature engineering"
   ]
  },
  {
   "cell_type": "code",
   "execution_count": null,
   "id": "2ebdeda3-f4e8-4d80-b168-c4e1facc94cc",
   "metadata": {},
   "outputs": [],
   "source": [
    "# outliers\n"
   ]
  },
  {
   "cell_type": "code",
   "execution_count": null,
   "id": "b664555c-bce0-4871-b3fb-578f03fe5a20",
   "metadata": {},
   "outputs": [],
   "source": [
    "# données manquante\n"
   ]
  },
  {
   "cell_type": "code",
   "execution_count": null,
   "id": "c6bfe930-4f04-4e89-9bac-661b96e06d16",
   "metadata": {},
   "outputs": [],
   "source": [
    "# dummy ? \n"
   ]
  },
  {
   "cell_type": "markdown",
   "id": "4dbf4e98-10d6-4c50-a240-1fecabf221bd",
   "metadata": {
    "tags": []
   },
   "source": [
    "## Analysis explo"
   ]
  },
  {
   "cell_type": "code",
   "execution_count": 206,
   "id": "655dac6f-63ad-43f9-b4d8-c5212d3bd0e8",
   "metadata": {
    "tags": []
   },
   "outputs": [],
   "source": [
    "import seaborn as sns\n",
    "import matplotlib.pyplot as plt"
   ]
  },
  {
   "cell_type": "code",
   "execution_count": null,
   "id": "332ce474-543c-4b77-9d8d-cef206e743e9",
   "metadata": {},
   "outputs": [],
   "source": [
    "df.corr(numeric_only = True)['valeur_fonciere'].sort_values()"
   ]
  },
  {
   "cell_type": "code",
   "execution_count": 216,
   "id": "a43812a7-5711-4c64-9a98-07198216f4ea",
   "metadata": {
    "tags": []
   },
   "outputs": [],
   "source": [
    "df_final = df_final[df_final['nature_mutation'] == 'Vente']"
   ]
  },
  {
   "cell_type": "code",
   "execution_count": 218,
   "id": "3f28a404-eb19-4ab7-ac30-9360cfd132ad",
   "metadata": {
    "tags": []
   },
   "outputs": [],
   "source": [
    "df_maison = df_final[df_final.type_local == 'Maison']\n",
    "df_appt = df_final[df_final.type_local == 'Appartement']"
   ]
  },
  {
   "cell_type": "code",
   "execution_count": 220,
   "id": "b1b55e1a-5cb3-4642-8282-baab0cf07777",
   "metadata": {
    "tags": []
   },
   "outputs": [
    {
     "data": {
      "text/plain": [
       "<Axes: xlabel='surface_reelle_bati', ylabel='valeur_fonciere'>"
      ]
     },
     "execution_count": 220,
     "metadata": {},
     "output_type": "execute_result"
    },
    {
     "data": {
      "image/png": "[encoded data removed]",
      "text/plain": [
       "<Figure size 640x480 with 1 Axes>"
      ]
     },
     "metadata": {},
     "output_type": "display_data"
    }
   ],
   "source": [
    "sns.scatterplot(data=df_maison, x='surface_reelle_bati',y='valeur_fonciere')"
   ]
  },
  {
   "cell_type": "code",
   "execution_count": 224,
   "id": "ca04dd9c-fcc3-4810-895c-9e1732cb05eb",
   "metadata": {
    "tags": []
   },
   "outputs": [
    {
     "data": {
      "text/plain": [
       "<Axes: xlabel='nombre_pieces_principales', ylabel='valeur_fonciere'>"
      ]
     },
     "execution_count": 224,
     "metadata": {},
     "output_type": "execute_result"
    },
    {
     "data": {
      "image/png": "[encoded data removed]",
      "text/plain": [
       "<Figure size 640x480 with 1 Axes>"
      ]
     },
     "metadata": {},
     "output_type": "display_data"
    }
   ],
   "source": [
    "sns.scatterplot(data=df_maison, x='nombre_pieces_principales',y='valeur_fonciere')"
   ]
  },
  {
   "cell_type": "code",
   "execution_count": 230,
   "id": "4d50331e-3345-4eac-9087-f828c3261fba",
   "metadata": {
    "tags": []
   },
   "outputs": [],
   "source": [
    "df_appt_31400 = df_appt[df_appt['code_postal'] == 31400]"
   ]
  },
  {
   "cell_type": "code",
   "execution_count": 232,
   "id": "992c0262-ba73-4406-9a06-889f1b4c092b",
   "metadata": {
    "tags": []
   },
   "outputs": [
    {
     "data": {
      "text/plain": [
       "<Axes: xlabel='surface_reelle_bati', ylabel='valeur_fonciere'>"
      ]
     },
     "execution_count": 232,
     "metadata": {},
     "output_type": "execute_result"
    },
    {
     "data": {
      "image/png": "[encoded data removed]",
      "text/plain": [
       "<Figure size 640x480 with 1 Axes>"
      ]
     },
     "metadata": {},
     "output_type": "display_data"
    }
   ],
   "source": [
    "sns.scatterplot(data=df_appt_31400, x='surface_reelle_bati',y='valeur_fonciere')"
   ]
  },
  {
   "cell_type": "code",
   "execution_count": 234,
   "id": "c2291c66-11dc-46da-b07c-d72e4babae8b",
   "metadata": {
    "tags": []
   },
   "outputs": [],
   "source": [
    "def calculate_correlation(group):\n",
    "    return group['valeur_fonciere'].corr(group['surface_reelle_bati'])"
   ]
  },
  {
   "cell_type": "code",
   "execution_count": 242,
   "id": "5edcb3a7-6df7-4840-8b9c-748064d3b01d",
   "metadata": {
    "tags": []
   },
   "outputs": [
    {
     "name": "stdout",
     "output_type": "stream",
     "text": [
      "Code Postal: 31180.0, Corrélation: 0.79\n",
      "Code Postal: 31290.0, Corrélation: 0.94\n",
      "Code Postal: 31540.0, Corrélation: 0.78\n",
      "Code Postal: 31820.0, Corrélation: 0.85\n",
      "Code Postal: 31840.0, Corrélation: 0.79\n",
      "Code Postal: 31850.0, Corrélation: 0.88\n",
      "Code Postal: 31870.0, Corrélation: 0.77\n"
     ]
    }
   ],
   "source": [
    "correlation_by_postal_code = df.groupby('code_postal').apply(calculate_correlation)\n",
    "\n",
    "for code_postal, correlation in correlation_by_postal_code.items():\n",
    "    if correlation > 0.75:\n",
    "        print(f'Code Postal: {code_postal}, Corrélation: {correlation:.2f}')"
   ]
  },
  {
   "cell_type": "code",
   "execution_count": null,
   "id": "3772db85-549e-482d-af86-e597315991a5",
   "metadata": {},
   "outputs": [],
   "source": []
  },
  {
   "cell_type": "code",
   "execution_count": null,
   "id": "2f7163ac-8116-4aed-b87b-748dc28bc044",
   "metadata": {},
   "outputs": [],
   "source": []
  },
  {
   "cell_type": "code",
   "execution_count": null,
   "id": "c85de89e-19c8-448e-8fc1-2cf8060111ea",
   "metadata": {},
   "outputs": [],
   "source": []
  },
  {
   "cell_type": "code",
   "execution_count": null,
   "id": "4355bb75-d81f-4d6c-9279-18794e07cfd9",
   "metadata": {},
   "outputs": [],
   "source": []
  },
  {
   "cell_type": "code",
   "execution_count": null,
   "id": "122f3dd8-3f81-4280-ad01-e8c5afd28113",
   "metadata": {},
   "outputs": [],
   "source": []
  }
 ],
 "metadata": {
  "kernelspec": {
   "display_name": "Python 3 (ipykernel)",
   "language": "python",
   "name": "python3"
  },
  "language_info": {
   "codemirror_mode": {
    "name": "ipython",
    "version": 3
   },
   "file_extension": ".py",
   "mimetype": "text/x-python",
   "name": "python",
   "nbconvert_exporter": "python",
   "pygments_lexer": "ipython3",
   "version": "3.11.7"
  }
 },
 "nbformat": 4,
 "nbformat_minor": 5
}
