{
 "cells": [
  {
   "cell_type": "code",
   "execution_count": 4,
   "id": "adcfc418-908e-4d84-8e08-a355bb6eac51",
   "metadata": {
    "tags": []
   },
   "outputs": [],
   "source": [
    "import pandas as pd\n",
    "import os\n",
    "import requests\n",
    "from bs4 import BeautifulSoup\n",
    "from urllib.parse import urljoin\n",
    "import time"
   ]
  },
  {
   "cell_type": "markdown",
   "id": "f046443b-9cd8-4450-96d5-b05fac91d945",
   "metadata": {
    "tags": []
   },
   "source": [
    "# dl all data from data.gouv in 2023 in the department 31"
   ]
  },
  {
   "cell_type": "code",
   "execution_count": 3,
   "id": "a333b4cd-ae45-44d2-9a1d-139b118004ac",
   "metadata": {
    "tags": []
   },
   "outputs": [],
   "source": [
    "url = 'https://files.data.gouv.fr/geo-dvf/latest/csv/2023/communes/31/'"
   ]
  },
  {
   "cell_type": "code",
   "execution_count": 11,
   "id": "e8d442a5-db8e-46de-8411-c53fdb95d0dd",
   "metadata": {
    "tags": []
   },
   "outputs": [],
   "source": [
    "download_folder = r'C:\\Users\\melan\\Desktop\\DeveloppementInfo\\Portfolio\\PortfolioData\\House_Price_Toulouse\\CSV'"
   ]
  },
  {
   "cell_type": "code",
   "execution_count": 13,
   "id": "83ee408a-c341-4914-b759-3c9e3ee9fb45",
   "metadata": {
    "tags": []
   },
   "outputs": [],
   "source": [
    "response = requests.get(url)\n",
    "response.raise_for_status()"
   ]
  },
  {
   "cell_type": "code",
   "execution_count": 15,
   "id": "085ec1b9-363c-4f3f-a9b2-0b34e52ad2d4",
   "metadata": {
    "tags": []
   },
   "outputs": [],
   "source": [
    "soup = BeautifulSoup(response.content, 'html.parser')"
   ]
  },
  {
   "cell_type": "code",
   "execution_count": 17,
   "id": "4a76b614-24b9-447f-87e9-7bab10f021e2",
   "metadata": {
    "tags": []
   },
   "outputs": [],
   "source": [
    "csv_links = soup.find_all('a', href=True)\n",
    "csv_links = [link for link in csv_links if link['href'].endswith('.csv')]"
   ]
  },
  {
   "cell_type": "code",
   "execution_count": null,
   "id": "0f8fd91a-1b8c-45a2-b85f-ef13eec29fd0",
   "metadata": {
    "tags": []
   },
   "outputs": [],
   "source": [
    "for link in csv_links:\n",
    "    file_url = urljoin(url, link['href'])\n",
    "    file_name = os.path.basename(link['href'])\n",
    "    file_path = os.path.join(download_folder, file_name)\n",
    "    \n",
    "    file_response = requests.get(file_url)\n",
    "    file_response.raise_for_status()\n",
    "    \n",
    "    with open(file_path, 'wb') as file:\n",
    "        file.write(file_response.content)\n",
    "    \n",
    "print('Téléchargement terminé.')"
   ]
  },
  {
   "cell_type": "code",
   "execution_count": null,
   "id": "266c3bc3-8ff0-4b56-b959-7186f0243197",
   "metadata": {},
   "outputs": [],
   "source": [
    "for link in csv_links:\n",
    "    file_url = urljoin(url, link['href'])\n",
    "    file_name = os.path.basename(link['href'])\n",
    "    file_path = os.path.join(download_folder, file_name)\n",
    "    \n",
    "    file_response = requests.get(file_url)\n",
    "    file_response.raise_for_status()\n",
    "    \n",
    "    with open(file_path, 'wb') as file:\n",
    "        file.write(file_response.content)\n",
    "    \n",
    "print('Téléchargement terminé.')"
   ]
  },
  {
   "cell_type": "markdown",
   "id": "71ef508e-2cb1-4a7c-a63f-7c90acc5e8af",
   "metadata": {
    "tags": []
   },
   "source": [
    "## concate in one file "
   ]
  },
  {
   "cell_type": "code",
   "execution_count": 29,
   "id": "ae435009-9e68-4686-b248-91ef5d6d450e",
   "metadata": {
    "tags": []
   },
   "outputs": [
    {
     "name": "stdout",
     "output_type": "stream",
     "text": [
      "Tous les fichiers CSV ont été concaténés en : C:\\Users\\melan\\Desktop\\DeveloppementInfo\\Portfolio\\PortfolioData\\House_Price_Toulouse\\CSV\\concatenated.csv\n"
     ]
    }
   ],
   "source": [
    "dfs = []\n",
    "for file_name in os.listdir(download_folder):\n",
    "    if file_name.endswith('.csv'):\n",
    "        file_path = os.path.join(download_folder, file_name)\n",
    "        # Lire chaque fichier CSV et l'ajouter à la liste des DataFrames\n",
    "        df = pd.read_csv(file_path)\n",
    "        dfs.append(df)\n",
    "        \n",
    "concatenated_df = pd.concat(dfs, ignore_index=True)\n",
    "output_file = os.path.join(download_folder, 'concatenated.csv')\n",
    "concatenated_df.to_csv(output_file, index=False)\n",
    "\n",
    "print(f'Tous les fichiers CSV ont été concaténés en : {output_file}')"
   ]
  },
  {
   "cell_type": "markdown",
   "id": "d443de54-9860-45f7-a1aa-85fbe17a3f38",
   "metadata": {
    "tags": []
   },
   "source": [
    "# read csv"
   ]
  },
  {
   "cell_type": "code",
   "execution_count": 43,
   "id": "3387c342-2e3b-475a-8dca-cb2755340ccd",
   "metadata": {
    "tags": []
   },
   "outputs": [
    {
     "data": {
      "text/html": [
       "<div>\n",
       "<style scoped>\n",
       "    .dataframe tbody tr th:only-of-type {\n",
       "        vertical-align: middle;\n",
       "    }\n",
       "\n",
       "    .dataframe tbody tr th {\n",
       "        vertical-align: top;\n",
       "    }\n",
       "\n",
       "    .dataframe thead th {\n",
       "        text-align: right;\n",
       "    }\n",
       "</style>\n",
       "<table border=\"1\" class=\"dataframe\">\n",
       "  <thead>\n",
       "    <tr style=\"text-align: right;\">\n",
       "      <th></th>\n",
       "      <th>id_mutation</th>\n",
       "      <th>date_mutation</th>\n",
       "      <th>numero_disposition</th>\n",
       "      <th>nature_mutation</th>\n",
       "      <th>valeur_fonciere</th>\n",
       "      <th>adresse_numero</th>\n",
       "      <th>adresse_suffixe</th>\n",
       "      <th>adresse_nom_voie</th>\n",
       "      <th>adresse_code_voie</th>\n",
       "      <th>code_postal</th>\n",
       "      <th>...</th>\n",
       "      <th>type_local</th>\n",
       "      <th>surface_reelle_bati</th>\n",
       "      <th>nombre_pieces_principales</th>\n",
       "      <th>code_nature_culture</th>\n",
       "      <th>nature_culture</th>\n",
       "      <th>code_nature_culture_speciale</th>\n",
       "      <th>nature_culture_speciale</th>\n",
       "      <th>surface_terrain</th>\n",
       "      <th>longitude</th>\n",
       "      <th>latitude</th>\n",
       "    </tr>\n",
       "  </thead>\n",
       "  <tbody>\n",
       "    <tr>\n",
       "      <th>0</th>\n",
       "      <td>2023-387434</td>\n",
       "      <td>2023-03-04</td>\n",
       "      <td>1</td>\n",
       "      <td>Vente</td>\n",
       "      <td>150000.0</td>\n",
       "      <td>62.0</td>\n",
       "      <td>A</td>\n",
       "      <td>BOIS DE BONSOM</td>\n",
       "      <td>B006</td>\n",
       "      <td>31230.0</td>\n",
       "      <td>...</td>\n",
       "      <td>Maison</td>\n",
       "      <td>149.0</td>\n",
       "      <td>6.0</td>\n",
       "      <td>VI</td>\n",
       "      <td>vignes</td>\n",
       "      <td>NaN</td>\n",
       "      <td>NaN</td>\n",
       "      <td>1296.0</td>\n",
       "      <td>0.875032</td>\n",
       "      <td>43.36364</td>\n",
       "    </tr>\n",
       "    <tr>\n",
       "      <th>1</th>\n",
       "      <td>2023-387434</td>\n",
       "      <td>2023-03-04</td>\n",
       "      <td>1</td>\n",
       "      <td>Vente</td>\n",
       "      <td>150000.0</td>\n",
       "      <td>62.0</td>\n",
       "      <td>A</td>\n",
       "      <td>BOIS DE BONSOM</td>\n",
       "      <td>B006</td>\n",
       "      <td>31230.0</td>\n",
       "      <td>...</td>\n",
       "      <td>Dépendance</td>\n",
       "      <td>NaN</td>\n",
       "      <td>0.0</td>\n",
       "      <td>VI</td>\n",
       "      <td>vignes</td>\n",
       "      <td>NaN</td>\n",
       "      <td>NaN</td>\n",
       "      <td>1296.0</td>\n",
       "      <td>0.875032</td>\n",
       "      <td>43.36364</td>\n",
       "    </tr>\n",
       "    <tr>\n",
       "      <th>2</th>\n",
       "      <td>2023-387434</td>\n",
       "      <td>2023-03-04</td>\n",
       "      <td>1</td>\n",
       "      <td>Vente</td>\n",
       "      <td>150000.0</td>\n",
       "      <td>62.0</td>\n",
       "      <td>A</td>\n",
       "      <td>BOIS DE BONSOM</td>\n",
       "      <td>B006</td>\n",
       "      <td>31230.0</td>\n",
       "      <td>...</td>\n",
       "      <td>Dépendance</td>\n",
       "      <td>NaN</td>\n",
       "      <td>0.0</td>\n",
       "      <td>VI</td>\n",
       "      <td>vignes</td>\n",
       "      <td>NaN</td>\n",
       "      <td>NaN</td>\n",
       "      <td>1296.0</td>\n",
       "      <td>0.875032</td>\n",
       "      <td>43.36364</td>\n",
       "    </tr>\n",
       "    <tr>\n",
       "      <th>3</th>\n",
       "      <td>2023-387434</td>\n",
       "      <td>2023-03-04</td>\n",
       "      <td>1</td>\n",
       "      <td>Vente</td>\n",
       "      <td>150000.0</td>\n",
       "      <td>62.0</td>\n",
       "      <td>A</td>\n",
       "      <td>BOIS DE BONSOM</td>\n",
       "      <td>B006</td>\n",
       "      <td>31230.0</td>\n",
       "      <td>...</td>\n",
       "      <td>Maison</td>\n",
       "      <td>149.0</td>\n",
       "      <td>6.0</td>\n",
       "      <td>AG</td>\n",
       "      <td>terrains d'agrément</td>\n",
       "      <td>PARC</td>\n",
       "      <td>Parc</td>\n",
       "      <td>750.0</td>\n",
       "      <td>0.875032</td>\n",
       "      <td>43.36364</td>\n",
       "    </tr>\n",
       "    <tr>\n",
       "      <th>4</th>\n",
       "      <td>2023-387434</td>\n",
       "      <td>2023-03-04</td>\n",
       "      <td>1</td>\n",
       "      <td>Vente</td>\n",
       "      <td>150000.0</td>\n",
       "      <td>62.0</td>\n",
       "      <td>A</td>\n",
       "      <td>BOIS DE BONSOM</td>\n",
       "      <td>B006</td>\n",
       "      <td>31230.0</td>\n",
       "      <td>...</td>\n",
       "      <td>Dépendance</td>\n",
       "      <td>NaN</td>\n",
       "      <td>0.0</td>\n",
       "      <td>AG</td>\n",
       "      <td>terrains d'agrément</td>\n",
       "      <td>PARC</td>\n",
       "      <td>Parc</td>\n",
       "      <td>750.0</td>\n",
       "      <td>0.875032</td>\n",
       "      <td>43.36364</td>\n",
       "    </tr>\n",
       "    <tr>\n",
       "      <th>5</th>\n",
       "      <td>2023-387434</td>\n",
       "      <td>2023-03-04</td>\n",
       "      <td>1</td>\n",
       "      <td>Vente</td>\n",
       "      <td>150000.0</td>\n",
       "      <td>62.0</td>\n",
       "      <td>A</td>\n",
       "      <td>BOIS DE BONSOM</td>\n",
       "      <td>B006</td>\n",
       "      <td>31230.0</td>\n",
       "      <td>...</td>\n",
       "      <td>Dépendance</td>\n",
       "      <td>NaN</td>\n",
       "      <td>0.0</td>\n",
       "      <td>AG</td>\n",
       "      <td>terrains d'agrément</td>\n",
       "      <td>PARC</td>\n",
       "      <td>Parc</td>\n",
       "      <td>750.0</td>\n",
       "      <td>0.875032</td>\n",
       "      <td>43.36364</td>\n",
       "    </tr>\n",
       "    <tr>\n",
       "      <th>6</th>\n",
       "      <td>2023-387434</td>\n",
       "      <td>2023-03-04</td>\n",
       "      <td>1</td>\n",
       "      <td>Vente</td>\n",
       "      <td>150000.0</td>\n",
       "      <td>62.0</td>\n",
       "      <td>A</td>\n",
       "      <td>BOIS DE BONSOM</td>\n",
       "      <td>B006</td>\n",
       "      <td>31230.0</td>\n",
       "      <td>...</td>\n",
       "      <td>Maison</td>\n",
       "      <td>149.0</td>\n",
       "      <td>6.0</td>\n",
       "      <td>AG</td>\n",
       "      <td>terrains d'agrément</td>\n",
       "      <td>PARC</td>\n",
       "      <td>Parc</td>\n",
       "      <td>539.0</td>\n",
       "      <td>0.875032</td>\n",
       "      <td>43.36364</td>\n",
       "    </tr>\n",
       "    <tr>\n",
       "      <th>7</th>\n",
       "      <td>2023-387434</td>\n",
       "      <td>2023-03-04</td>\n",
       "      <td>1</td>\n",
       "      <td>Vente</td>\n",
       "      <td>150000.0</td>\n",
       "      <td>62.0</td>\n",
       "      <td>A</td>\n",
       "      <td>BOIS DE BONSOM</td>\n",
       "      <td>B006</td>\n",
       "      <td>31230.0</td>\n",
       "      <td>...</td>\n",
       "      <td>Dépendance</td>\n",
       "      <td>NaN</td>\n",
       "      <td>0.0</td>\n",
       "      <td>AG</td>\n",
       "      <td>terrains d'agrément</td>\n",
       "      <td>PARC</td>\n",
       "      <td>Parc</td>\n",
       "      <td>539.0</td>\n",
       "      <td>0.875032</td>\n",
       "      <td>43.36364</td>\n",
       "    </tr>\n",
       "    <tr>\n",
       "      <th>8</th>\n",
       "      <td>2023-387434</td>\n",
       "      <td>2023-03-04</td>\n",
       "      <td>1</td>\n",
       "      <td>Vente</td>\n",
       "      <td>150000.0</td>\n",
       "      <td>62.0</td>\n",
       "      <td>A</td>\n",
       "      <td>BOIS DE BONSOM</td>\n",
       "      <td>B006</td>\n",
       "      <td>31230.0</td>\n",
       "      <td>...</td>\n",
       "      <td>Dépendance</td>\n",
       "      <td>NaN</td>\n",
       "      <td>0.0</td>\n",
       "      <td>AG</td>\n",
       "      <td>terrains d'agrément</td>\n",
       "      <td>PARC</td>\n",
       "      <td>Parc</td>\n",
       "      <td>539.0</td>\n",
       "      <td>0.875032</td>\n",
       "      <td>43.36364</td>\n",
       "    </tr>\n",
       "    <tr>\n",
       "      <th>9</th>\n",
       "      <td>2023-387434</td>\n",
       "      <td>2023-03-04</td>\n",
       "      <td>1</td>\n",
       "      <td>Vente</td>\n",
       "      <td>150000.0</td>\n",
       "      <td>62.0</td>\n",
       "      <td>A</td>\n",
       "      <td>BOIS DE BONSOM</td>\n",
       "      <td>B006</td>\n",
       "      <td>31230.0</td>\n",
       "      <td>...</td>\n",
       "      <td>Maison</td>\n",
       "      <td>149.0</td>\n",
       "      <td>6.0</td>\n",
       "      <td>J</td>\n",
       "      <td>jardins</td>\n",
       "      <td>NaN</td>\n",
       "      <td>NaN</td>\n",
       "      <td>756.0</td>\n",
       "      <td>0.875032</td>\n",
       "      <td>43.36364</td>\n",
       "    </tr>\n",
       "  </tbody>\n",
       "</table>\n",
       "<p>10 rows × 40 columns</p>\n",
       "</div>"
      ],
      "text/plain": [
       "   id_mutation date_mutation  numero_disposition nature_mutation  \\\n",
       "0  2023-387434    2023-03-04                   1           Vente   \n",
       "1  2023-387434    2023-03-04                   1           Vente   \n",
       "2  2023-387434    2023-03-04                   1           Vente   \n",
       "3  2023-387434    2023-03-04                   1           Vente   \n",
       "4  2023-387434    2023-03-04                   1           Vente   \n",
       "5  2023-387434    2023-03-04                   1           Vente   \n",
       "6  2023-387434    2023-03-04                   1           Vente   \n",
       "7  2023-387434    2023-03-04                   1           Vente   \n",
       "8  2023-387434    2023-03-04                   1           Vente   \n",
       "9  2023-387434    2023-03-04                   1           Vente   \n",
       "\n",
       "   valeur_fonciere  adresse_numero adresse_suffixe adresse_nom_voie  \\\n",
       "0         150000.0            62.0               A   BOIS DE BONSOM   \n",
       "1         150000.0            62.0               A   BOIS DE BONSOM   \n",
       "2         150000.0            62.0               A   BOIS DE BONSOM   \n",
       "3         150000.0            62.0               A   BOIS DE BONSOM   \n",
       "4         150000.0            62.0               A   BOIS DE BONSOM   \n",
       "5         150000.0            62.0               A   BOIS DE BONSOM   \n",
       "6         150000.0            62.0               A   BOIS DE BONSOM   \n",
       "7         150000.0            62.0               A   BOIS DE BONSOM   \n",
       "8         150000.0            62.0               A   BOIS DE BONSOM   \n",
       "9         150000.0            62.0               A   BOIS DE BONSOM   \n",
       "\n",
       "  adresse_code_voie  code_postal  ...  type_local surface_reelle_bati  \\\n",
       "0              B006      31230.0  ...      Maison               149.0   \n",
       "1              B006      31230.0  ...  Dépendance                 NaN   \n",
       "2              B006      31230.0  ...  Dépendance                 NaN   \n",
       "3              B006      31230.0  ...      Maison               149.0   \n",
       "4              B006      31230.0  ...  Dépendance                 NaN   \n",
       "5              B006      31230.0  ...  Dépendance                 NaN   \n",
       "6              B006      31230.0  ...      Maison               149.0   \n",
       "7              B006      31230.0  ...  Dépendance                 NaN   \n",
       "8              B006      31230.0  ...  Dépendance                 NaN   \n",
       "9              B006      31230.0  ...      Maison               149.0   \n",
       "\n",
       "   nombre_pieces_principales  code_nature_culture       nature_culture  \\\n",
       "0                        6.0                   VI               vignes   \n",
       "1                        0.0                   VI               vignes   \n",
       "2                        0.0                   VI               vignes   \n",
       "3                        6.0                   AG  terrains d'agrément   \n",
       "4                        0.0                   AG  terrains d'agrément   \n",
       "5                        0.0                   AG  terrains d'agrément   \n",
       "6                        6.0                   AG  terrains d'agrément   \n",
       "7                        0.0                   AG  terrains d'agrément   \n",
       "8                        0.0                   AG  terrains d'agrément   \n",
       "9                        6.0                    J              jardins   \n",
       "\n",
       "  code_nature_culture_speciale  nature_culture_speciale  surface_terrain  \\\n",
       "0                          NaN                      NaN           1296.0   \n",
       "1                          NaN                      NaN           1296.0   \n",
       "2                          NaN                      NaN           1296.0   \n",
       "3                         PARC                     Parc            750.0   \n",
       "4                         PARC                     Parc            750.0   \n",
       "5                         PARC                     Parc            750.0   \n",
       "6                         PARC                     Parc            539.0   \n",
       "7                         PARC                     Parc            539.0   \n",
       "8                         PARC                     Parc            539.0   \n",
       "9                          NaN                      NaN            756.0   \n",
       "\n",
       "   longitude  latitude  \n",
       "0   0.875032  43.36364  \n",
       "1   0.875032  43.36364  \n",
       "2   0.875032  43.36364  \n",
       "3   0.875032  43.36364  \n",
       "4   0.875032  43.36364  \n",
       "5   0.875032  43.36364  \n",
       "6   0.875032  43.36364  \n",
       "7   0.875032  43.36364  \n",
       "8   0.875032  43.36364  \n",
       "9   0.875032  43.36364  \n",
       "\n",
       "[10 rows x 40 columns]"
      ]
     },
     "execution_count": 43,
     "metadata": {},
     "output_type": "execute_result"
    }
   ],
   "source": [
    "df = pd.read_csv(\"CSV/concatenated.csv\")\n",
    "df.head(10)"
   ]
  },
  {
   "cell_type": "code",
   "execution_count": 11,
   "id": "b32e11ef-5836-4077-8971-c10ec2d88aad",
   "metadata": {
    "tags": []
   },
   "outputs": [
    {
     "data": {
      "text/plain": [
       "73135"
      ]
     },
     "execution_count": 11,
     "metadata": {},
     "output_type": "execute_result"
    }
   ],
   "source": [
    "len(df)"
   ]
  },
  {
   "cell_type": "markdown",
   "id": "105658df-7104-4321-8055-8c6013acb4ad",
   "metadata": {
    "tags": []
   },
   "source": [
    "## cleaning"
   ]
  },
  {
   "cell_type": "markdown",
   "id": "73e260e3-1725-447f-906e-ecbe0fb59847",
   "metadata": {
    "tags": []
   },
   "source": [
    "### lines : keep only House and Appartment, drop the duplicate"
   ]
  },
  {
   "cell_type": "code",
   "execution_count": 45,
   "id": "76223fe1-3872-4578-8e50-ab31589618c9",
   "metadata": {
    "tags": []
   },
   "outputs": [],
   "source": [
    "df = df[(df.type_local==\"Maison\")|(df.type_local==\"Appartement\")].reset_index()"
   ]
  },
  {
   "cell_type": "code",
   "execution_count": 47,
   "id": "b0f467cf-81c1-4243-b125-732381e0835f",
   "metadata": {
    "tags": []
   },
   "outputs": [
    {
     "data": {
      "text/plain": [
       "0        False\n",
       "1         True\n",
       "2         True\n",
       "3         True\n",
       "4         True\n",
       "         ...  \n",
       "22570    False\n",
       "22571     True\n",
       "22572    False\n",
       "22573    False\n",
       "22574     True\n",
       "Length: 22575, dtype: bool"
      ]
     },
     "execution_count": 47,
     "metadata": {},
     "output_type": "execute_result"
    }
   ],
   "source": [
    "df.duplicated(subset=['id_mutation'])"
   ]
  },
  {
   "cell_type": "code",
   "execution_count": 49,
   "id": "94003dfc-5073-4838-9752-f101cf5cc6d4",
   "metadata": {
    "tags": []
   },
   "outputs": [],
   "source": [
    "df = df.drop_duplicates(subset=['id_mutation'])"
   ]
  },
  {
   "cell_type": "code",
   "execution_count": 51,
   "id": "3bc57be9-2aa5-4f07-9fd3-bee9fdc65a7d",
   "metadata": {
    "tags": []
   },
   "outputs": [],
   "source": [
    "df = df[df.nature_mutation=='Vente']"
   ]
  },
  {
   "cell_type": "code",
   "execution_count": 53,
   "id": "50fad3d1-1642-48f3-8fc5-9c5b288efbf5",
   "metadata": {
    "tags": []
   },
   "outputs": [
    {
     "data": {
      "text/plain": [
       "18786"
      ]
     },
     "execution_count": 53,
     "metadata": {},
     "output_type": "execute_result"
    }
   ],
   "source": [
    "len(df)"
   ]
  },
  {
   "cell_type": "markdown",
   "id": "612d09f5-e57d-4489-9c7c-4aae6c22d658",
   "metadata": {},
   "source": [
    "### columns : drop"
   ]
  },
  {
   "cell_type": "code",
   "execution_count": 55,
   "id": "5000a36e-e387-48d9-b310-45fa209c8529",
   "metadata": {
    "tags": []
   },
   "outputs": [],
   "source": [
    "df=df.dropna(axis=1, how='all')"
   ]
  },
  {
   "cell_type": "code",
   "execution_count": 57,
   "id": "366e56ad-a67e-4991-94ca-fc714a3c8daf",
   "metadata": {
    "tags": []
   },
   "outputs": [],
   "source": [
    "df = df[['date_mutation','valeur_fonciere','code_postal','nom_commune','type_local','surface_reelle_bati','nombre_pieces_principales','nature_culture','nature_culture_speciale','surface_terrain']]"
   ]
  },
  {
   "cell_type": "code",
   "execution_count": 59,
   "id": "6acfa770-3aa8-4f72-88dc-902b1cf038f9",
   "metadata": {
    "tags": []
   },
   "outputs": [
    {
     "data": {
      "text/html": [
       "<div>\n",
       "<style scoped>\n",
       "    .dataframe tbody tr th:only-of-type {\n",
       "        vertical-align: middle;\n",
       "    }\n",
       "\n",
       "    .dataframe tbody tr th {\n",
       "        vertical-align: top;\n",
       "    }\n",
       "\n",
       "    .dataframe thead th {\n",
       "        text-align: right;\n",
       "    }\n",
       "</style>\n",
       "<table border=\"1\" class=\"dataframe\">\n",
       "  <thead>\n",
       "    <tr style=\"text-align: right;\">\n",
       "      <th></th>\n",
       "      <th>date_mutation</th>\n",
       "      <th>valeur_fonciere</th>\n",
       "      <th>code_postal</th>\n",
       "      <th>nom_commune</th>\n",
       "      <th>type_local</th>\n",
       "      <th>surface_reelle_bati</th>\n",
       "      <th>nombre_pieces_principales</th>\n",
       "      <th>nature_culture</th>\n",
       "      <th>nature_culture_speciale</th>\n",
       "      <th>surface_terrain</th>\n",
       "    </tr>\n",
       "  </thead>\n",
       "  <tbody>\n",
       "    <tr>\n",
       "      <th>0</th>\n",
       "      <td>2023-03-04</td>\n",
       "      <td>150000.0</td>\n",
       "      <td>31230.0</td>\n",
       "      <td>Agassac</td>\n",
       "      <td>Maison</td>\n",
       "      <td>149.0</td>\n",
       "      <td>6.0</td>\n",
       "      <td>vignes</td>\n",
       "      <td>NaN</td>\n",
       "      <td>1296.0</td>\n",
       "    </tr>\n",
       "    <tr>\n",
       "      <th>5</th>\n",
       "      <td>2023-10-27</td>\n",
       "      <td>150000.0</td>\n",
       "      <td>31230.0</td>\n",
       "      <td>Agassac</td>\n",
       "      <td>Appartement</td>\n",
       "      <td>66.0</td>\n",
       "      <td>3.0</td>\n",
       "      <td>sols</td>\n",
       "      <td>NaN</td>\n",
       "      <td>359.0</td>\n",
       "    </tr>\n",
       "    <tr>\n",
       "      <th>7</th>\n",
       "      <td>2023-04-14</td>\n",
       "      <td>90000.0</td>\n",
       "      <td>31550.0</td>\n",
       "      <td>Aignes</td>\n",
       "      <td>Maison</td>\n",
       "      <td>36.0</td>\n",
       "      <td>1.0</td>\n",
       "      <td>sols</td>\n",
       "      <td>NaN</td>\n",
       "      <td>1758.0</td>\n",
       "    </tr>\n",
       "    <tr>\n",
       "      <th>8</th>\n",
       "      <td>2023-04-19</td>\n",
       "      <td>186570.0</td>\n",
       "      <td>31280.0</td>\n",
       "      <td>Aigrefeuille</td>\n",
       "      <td>Appartement</td>\n",
       "      <td>63.0</td>\n",
       "      <td>3.0</td>\n",
       "      <td>NaN</td>\n",
       "      <td>NaN</td>\n",
       "      <td>NaN</td>\n",
       "    </tr>\n",
       "    <tr>\n",
       "      <th>9</th>\n",
       "      <td>2023-04-24</td>\n",
       "      <td>845000.0</td>\n",
       "      <td>31280.0</td>\n",
       "      <td>Aigrefeuille</td>\n",
       "      <td>Maison</td>\n",
       "      <td>360.0</td>\n",
       "      <td>7.0</td>\n",
       "      <td>terrains d'agrément</td>\n",
       "      <td>Parc</td>\n",
       "      <td>1794.0</td>\n",
       "    </tr>\n",
       "    <tr>\n",
       "      <th>...</th>\n",
       "      <td>...</td>\n",
       "      <td>...</td>\n",
       "      <td>...</td>\n",
       "      <td>...</td>\n",
       "      <td>...</td>\n",
       "      <td>...</td>\n",
       "      <td>...</td>\n",
       "      <td>...</td>\n",
       "      <td>...</td>\n",
       "      <td>...</td>\n",
       "    </tr>\n",
       "    <tr>\n",
       "      <th>22567</th>\n",
       "      <td>2023-12-05</td>\n",
       "      <td>644700.0</td>\n",
       "      <td>31330.0</td>\n",
       "      <td>Larra</td>\n",
       "      <td>Maison</td>\n",
       "      <td>293.0</td>\n",
       "      <td>7.0</td>\n",
       "      <td>terres</td>\n",
       "      <td>NaN</td>\n",
       "      <td>35040.0</td>\n",
       "    </tr>\n",
       "    <tr>\n",
       "      <th>22568</th>\n",
       "      <td>2023-12-14</td>\n",
       "      <td>515100.0</td>\n",
       "      <td>31330.0</td>\n",
       "      <td>Larra</td>\n",
       "      <td>Appartement</td>\n",
       "      <td>159.0</td>\n",
       "      <td>4.0</td>\n",
       "      <td>terres</td>\n",
       "      <td>NaN</td>\n",
       "      <td>31425.0</td>\n",
       "    </tr>\n",
       "    <tr>\n",
       "      <th>22570</th>\n",
       "      <td>2023-12-26</td>\n",
       "      <td>453100.0</td>\n",
       "      <td>31330.0</td>\n",
       "      <td>Larra</td>\n",
       "      <td>Maison</td>\n",
       "      <td>139.0</td>\n",
       "      <td>6.0</td>\n",
       "      <td>sols</td>\n",
       "      <td>NaN</td>\n",
       "      <td>1500.0</td>\n",
       "    </tr>\n",
       "    <tr>\n",
       "      <th>22572</th>\n",
       "      <td>2023-02-14</td>\n",
       "      <td>120000.0</td>\n",
       "      <td>31230.0</td>\n",
       "      <td>Cazac</td>\n",
       "      <td>Maison</td>\n",
       "      <td>102.0</td>\n",
       "      <td>2.0</td>\n",
       "      <td>sols</td>\n",
       "      <td>NaN</td>\n",
       "      <td>1859.0</td>\n",
       "    </tr>\n",
       "    <tr>\n",
       "      <th>22573</th>\n",
       "      <td>2023-08-09</td>\n",
       "      <td>165000.0</td>\n",
       "      <td>31230.0</td>\n",
       "      <td>Cazac</td>\n",
       "      <td>Maison</td>\n",
       "      <td>134.0</td>\n",
       "      <td>4.0</td>\n",
       "      <td>sols</td>\n",
       "      <td>NaN</td>\n",
       "      <td>500.0</td>\n",
       "    </tr>\n",
       "  </tbody>\n",
       "</table>\n",
       "<p>18786 rows × 10 columns</p>\n",
       "</div>"
      ],
      "text/plain": [
       "      date_mutation  valeur_fonciere  code_postal   nom_commune   type_local  \\\n",
       "0        2023-03-04         150000.0      31230.0       Agassac       Maison   \n",
       "5        2023-10-27         150000.0      31230.0       Agassac  Appartement   \n",
       "7        2023-04-14          90000.0      31550.0        Aignes       Maison   \n",
       "8        2023-04-19         186570.0      31280.0  Aigrefeuille  Appartement   \n",
       "9        2023-04-24         845000.0      31280.0  Aigrefeuille       Maison   \n",
       "...             ...              ...          ...           ...          ...   \n",
       "22567    2023-12-05         644700.0      31330.0         Larra       Maison   \n",
       "22568    2023-12-14         515100.0      31330.0         Larra  Appartement   \n",
       "22570    2023-12-26         453100.0      31330.0         Larra       Maison   \n",
       "22572    2023-02-14         120000.0      31230.0         Cazac       Maison   \n",
       "22573    2023-08-09         165000.0      31230.0         Cazac       Maison   \n",
       "\n",
       "       surface_reelle_bati  nombre_pieces_principales       nature_culture  \\\n",
       "0                    149.0                        6.0               vignes   \n",
       "5                     66.0                        3.0                 sols   \n",
       "7                     36.0                        1.0                 sols   \n",
       "8                     63.0                        3.0                  NaN   \n",
       "9                    360.0                        7.0  terrains d'agrément   \n",
       "...                    ...                        ...                  ...   \n",
       "22567                293.0                        7.0               terres   \n",
       "22568                159.0                        4.0               terres   \n",
       "22570                139.0                        6.0                 sols   \n",
       "22572                102.0                        2.0                 sols   \n",
       "22573                134.0                        4.0                 sols   \n",
       "\n",
       "      nature_culture_speciale  surface_terrain  \n",
       "0                         NaN           1296.0  \n",
       "5                         NaN            359.0  \n",
       "7                         NaN           1758.0  \n",
       "8                         NaN              NaN  \n",
       "9                        Parc           1794.0  \n",
       "...                       ...              ...  \n",
       "22567                     NaN          35040.0  \n",
       "22568                     NaN          31425.0  \n",
       "22570                     NaN           1500.0  \n",
       "22572                     NaN           1859.0  \n",
       "22573                     NaN            500.0  \n",
       "\n",
       "[18786 rows x 10 columns]"
      ]
     },
     "execution_count": 59,
     "metadata": {},
     "output_type": "execute_result"
    }
   ],
   "source": [
    "df"
   ]
  },
  {
   "cell_type": "code",
   "execution_count": 61,
   "id": "36cd320a-548f-4aef-9a07-f6542581e26a",
   "metadata": {
    "tags": []
   },
   "outputs": [
    {
     "data": {
      "text/html": [
       "<div>\n",
       "<style scoped>\n",
       "    .dataframe tbody tr th:only-of-type {\n",
       "        vertical-align: middle;\n",
       "    }\n",
       "\n",
       "    .dataframe tbody tr th {\n",
       "        vertical-align: top;\n",
       "    }\n",
       "\n",
       "    .dataframe thead th {\n",
       "        text-align: right;\n",
       "    }\n",
       "</style>\n",
       "<table border=\"1\" class=\"dataframe\">\n",
       "  <thead>\n",
       "    <tr style=\"text-align: right;\">\n",
       "      <th></th>\n",
       "      <th>date_mutation</th>\n",
       "      <th>valeur_fonciere</th>\n",
       "      <th>code_postal</th>\n",
       "      <th>nom_commune</th>\n",
       "      <th>type_local</th>\n",
       "      <th>surface_reelle_bati</th>\n",
       "      <th>nombre_pieces_principales</th>\n",
       "      <th>nature_culture</th>\n",
       "      <th>nature_culture_speciale</th>\n",
       "      <th>surface_terrain</th>\n",
       "    </tr>\n",
       "  </thead>\n",
       "  <tbody>\n",
       "    <tr>\n",
       "      <th>0</th>\n",
       "      <td>2023-03-04</td>\n",
       "      <td>150000.0</td>\n",
       "      <td>31230.0</td>\n",
       "      <td>Agassac</td>\n",
       "      <td>Maison</td>\n",
       "      <td>149.0</td>\n",
       "      <td>6.0</td>\n",
       "      <td>vignes</td>\n",
       "      <td>NaN</td>\n",
       "      <td>1296.0</td>\n",
       "    </tr>\n",
       "    <tr>\n",
       "      <th>1</th>\n",
       "      <td>2023-10-27</td>\n",
       "      <td>150000.0</td>\n",
       "      <td>31230.0</td>\n",
       "      <td>Agassac</td>\n",
       "      <td>Appartement</td>\n",
       "      <td>66.0</td>\n",
       "      <td>3.0</td>\n",
       "      <td>sols</td>\n",
       "      <td>NaN</td>\n",
       "      <td>359.0</td>\n",
       "    </tr>\n",
       "    <tr>\n",
       "      <th>2</th>\n",
       "      <td>2023-04-14</td>\n",
       "      <td>90000.0</td>\n",
       "      <td>31550.0</td>\n",
       "      <td>Aignes</td>\n",
       "      <td>Maison</td>\n",
       "      <td>36.0</td>\n",
       "      <td>1.0</td>\n",
       "      <td>sols</td>\n",
       "      <td>NaN</td>\n",
       "      <td>1758.0</td>\n",
       "    </tr>\n",
       "    <tr>\n",
       "      <th>3</th>\n",
       "      <td>2023-04-19</td>\n",
       "      <td>186570.0</td>\n",
       "      <td>31280.0</td>\n",
       "      <td>Aigrefeuille</td>\n",
       "      <td>Appartement</td>\n",
       "      <td>63.0</td>\n",
       "      <td>3.0</td>\n",
       "      <td>NaN</td>\n",
       "      <td>NaN</td>\n",
       "      <td>NaN</td>\n",
       "    </tr>\n",
       "    <tr>\n",
       "      <th>4</th>\n",
       "      <td>2023-04-24</td>\n",
       "      <td>845000.0</td>\n",
       "      <td>31280.0</td>\n",
       "      <td>Aigrefeuille</td>\n",
       "      <td>Maison</td>\n",
       "      <td>360.0</td>\n",
       "      <td>7.0</td>\n",
       "      <td>terrains d'agrément</td>\n",
       "      <td>Parc</td>\n",
       "      <td>1794.0</td>\n",
       "    </tr>\n",
       "    <tr>\n",
       "      <th>...</th>\n",
       "      <td>...</td>\n",
       "      <td>...</td>\n",
       "      <td>...</td>\n",
       "      <td>...</td>\n",
       "      <td>...</td>\n",
       "      <td>...</td>\n",
       "      <td>...</td>\n",
       "      <td>...</td>\n",
       "      <td>...</td>\n",
       "      <td>...</td>\n",
       "    </tr>\n",
       "    <tr>\n",
       "      <th>18781</th>\n",
       "      <td>2023-12-05</td>\n",
       "      <td>644700.0</td>\n",
       "      <td>31330.0</td>\n",
       "      <td>Larra</td>\n",
       "      <td>Maison</td>\n",
       "      <td>293.0</td>\n",
       "      <td>7.0</td>\n",
       "      <td>terres</td>\n",
       "      <td>NaN</td>\n",
       "      <td>35040.0</td>\n",
       "    </tr>\n",
       "    <tr>\n",
       "      <th>18782</th>\n",
       "      <td>2023-12-14</td>\n",
       "      <td>515100.0</td>\n",
       "      <td>31330.0</td>\n",
       "      <td>Larra</td>\n",
       "      <td>Appartement</td>\n",
       "      <td>159.0</td>\n",
       "      <td>4.0</td>\n",
       "      <td>terres</td>\n",
       "      <td>NaN</td>\n",
       "      <td>31425.0</td>\n",
       "    </tr>\n",
       "    <tr>\n",
       "      <th>18783</th>\n",
       "      <td>2023-12-26</td>\n",
       "      <td>453100.0</td>\n",
       "      <td>31330.0</td>\n",
       "      <td>Larra</td>\n",
       "      <td>Maison</td>\n",
       "      <td>139.0</td>\n",
       "      <td>6.0</td>\n",
       "      <td>sols</td>\n",
       "      <td>NaN</td>\n",
       "      <td>1500.0</td>\n",
       "    </tr>\n",
       "    <tr>\n",
       "      <th>18784</th>\n",
       "      <td>2023-02-14</td>\n",
       "      <td>120000.0</td>\n",
       "      <td>31230.0</td>\n",
       "      <td>Cazac</td>\n",
       "      <td>Maison</td>\n",
       "      <td>102.0</td>\n",
       "      <td>2.0</td>\n",
       "      <td>sols</td>\n",
       "      <td>NaN</td>\n",
       "      <td>1859.0</td>\n",
       "    </tr>\n",
       "    <tr>\n",
       "      <th>18785</th>\n",
       "      <td>2023-08-09</td>\n",
       "      <td>165000.0</td>\n",
       "      <td>31230.0</td>\n",
       "      <td>Cazac</td>\n",
       "      <td>Maison</td>\n",
       "      <td>134.0</td>\n",
       "      <td>4.0</td>\n",
       "      <td>sols</td>\n",
       "      <td>NaN</td>\n",
       "      <td>500.0</td>\n",
       "    </tr>\n",
       "  </tbody>\n",
       "</table>\n",
       "<p>18786 rows × 10 columns</p>\n",
       "</div>"
      ],
      "text/plain": [
       "      date_mutation  valeur_fonciere  code_postal   nom_commune   type_local  \\\n",
       "0        2023-03-04         150000.0      31230.0       Agassac       Maison   \n",
       "1        2023-10-27         150000.0      31230.0       Agassac  Appartement   \n",
       "2        2023-04-14          90000.0      31550.0        Aignes       Maison   \n",
       "3        2023-04-19         186570.0      31280.0  Aigrefeuille  Appartement   \n",
       "4        2023-04-24         845000.0      31280.0  Aigrefeuille       Maison   \n",
       "...             ...              ...          ...           ...          ...   \n",
       "18781    2023-12-05         644700.0      31330.0         Larra       Maison   \n",
       "18782    2023-12-14         515100.0      31330.0         Larra  Appartement   \n",
       "18783    2023-12-26         453100.0      31330.0         Larra       Maison   \n",
       "18784    2023-02-14         120000.0      31230.0         Cazac       Maison   \n",
       "18785    2023-08-09         165000.0      31230.0         Cazac       Maison   \n",
       "\n",
       "       surface_reelle_bati  nombre_pieces_principales       nature_culture  \\\n",
       "0                    149.0                        6.0               vignes   \n",
       "1                     66.0                        3.0                 sols   \n",
       "2                     36.0                        1.0                 sols   \n",
       "3                     63.0                        3.0                  NaN   \n",
       "4                    360.0                        7.0  terrains d'agrément   \n",
       "...                    ...                        ...                  ...   \n",
       "18781                293.0                        7.0               terres   \n",
       "18782                159.0                        4.0               terres   \n",
       "18783                139.0                        6.0                 sols   \n",
       "18784                102.0                        2.0                 sols   \n",
       "18785                134.0                        4.0                 sols   \n",
       "\n",
       "      nature_culture_speciale  surface_terrain  \n",
       "0                         NaN           1296.0  \n",
       "1                         NaN            359.0  \n",
       "2                         NaN           1758.0  \n",
       "3                         NaN              NaN  \n",
       "4                        Parc           1794.0  \n",
       "...                       ...              ...  \n",
       "18781                     NaN          35040.0  \n",
       "18782                     NaN          31425.0  \n",
       "18783                     NaN           1500.0  \n",
       "18784                     NaN           1859.0  \n",
       "18785                     NaN            500.0  \n",
       "\n",
       "[18786 rows x 10 columns]"
      ]
     },
     "execution_count": 61,
     "metadata": {},
     "output_type": "execute_result"
    }
   ],
   "source": [
    "#reset_index\n",
    "df = df.reset_index(drop=True)\n",
    "df"
   ]
  },
  {
   "cell_type": "code",
   "execution_count": 63,
   "id": "28a0f21c-fc7d-4227-9e20-5cc12adaba19",
   "metadata": {
    "tags": []
   },
   "outputs": [],
   "source": [
    "#save version df final\n",
    "df.to_csv(\"HousePrice_Tls_2023.csv\",index=False)"
   ]
  },
  {
   "cell_type": "markdown",
   "id": "bf683f22-b52e-4eb4-ab97-a114dbf7927f",
   "metadata": {},
   "source": [
    "### clean date, outliers, NA"
   ]
  },
  {
   "cell_type": "code",
   "execution_count": 353,
   "id": "b851064a-fc79-4e7c-903d-41b4684434f1",
   "metadata": {
    "tags": []
   },
   "outputs": [],
   "source": [
    "df = pd.read_csv(\"HousePrice_Tls_2023.csv\")"
   ]
  },
  {
   "cell_type": "code",
   "execution_count": 355,
   "id": "8c4c8007-4673-4ac4-b296-5d7331bd8efe",
   "metadata": {
    "tags": []
   },
   "outputs": [],
   "source": [
    "# separer année/mois\n",
    "df.date_mutation = pd.to_datetime(df.date_mutation)"
   ]
  },
  {
   "cell_type": "code",
   "execution_count": 357,
   "id": "c61a3275-8aff-4acb-96b9-afc39cfb522f",
   "metadata": {
    "tags": []
   },
   "outputs": [
    {
     "data": {
      "text/plain": [
       "dtype('<M8[ns]')"
      ]
     },
     "execution_count": 357,
     "metadata": {},
     "output_type": "execute_result"
    }
   ],
   "source": [
    "df.date_mutation.dtypes"
   ]
  },
  {
   "cell_type": "code",
   "execution_count": 359,
   "id": "15aebab8-0734-42b7-b35f-9b1747a6fb1b",
   "metadata": {},
   "outputs": [],
   "source": [
    "df['year'] = df['date_mutation'].dt.year\n",
    "df['month'] = df['date_mutation'].dt.month"
   ]
  },
  {
   "cell_type": "code",
   "execution_count": 361,
   "id": "5f437840-cb8a-4ddb-a90f-ac54d2473948",
   "metadata": {
    "tags": []
   },
   "outputs": [
    {
     "name": "stdout",
     "output_type": "stream",
     "text": [
      "<class 'pandas.core.frame.DataFrame'>\n",
      "RangeIndex: 18786 entries, 0 to 18785\n",
      "Data columns (total 12 columns):\n",
      " #   Column                     Non-Null Count  Dtype         \n",
      "---  ------                     --------------  -----         \n",
      " 0   date_mutation              18786 non-null  datetime64[ns]\n",
      " 1   valeur_fonciere            18775 non-null  float64       \n",
      " 2   code_postal                18786 non-null  float64       \n",
      " 3   nom_commune                18786 non-null  object        \n",
      " 4   type_local                 18786 non-null  object        \n",
      " 5   surface_reelle_bati        18786 non-null  float64       \n",
      " 6   nombre_pieces_principales  18786 non-null  float64       \n",
      " 7   nature_culture             8199 non-null   object        \n",
      " 8   nature_culture_speciale    387 non-null    object        \n",
      " 9   surface_terrain            8199 non-null   float64       \n",
      " 10  year                       18786 non-null  int32         \n",
      " 11  month                      18786 non-null  int32         \n",
      "dtypes: datetime64[ns](1), float64(5), int32(2), object(4)\n",
      "memory usage: 1.6+ MB\n"
     ]
    }
   ],
   "source": [
    "df.info()"
   ]
  },
  {
   "cell_type": "code",
   "execution_count": 363,
   "id": "850c9a7d-48c6-47ff-92ba-3271bd17193c",
   "metadata": {
    "tags": []
   },
   "outputs": [
    {
     "data": {
      "text/plain": [
       "0        31230\n",
       "1        31230\n",
       "2        31550\n",
       "3        31280\n",
       "4        31280\n",
       "         ...  \n",
       "18781    31330\n",
       "18782    31330\n",
       "18783    31330\n",
       "18784    31230\n",
       "18785    31230\n",
       "Name: code_postal, Length: 18786, dtype: object"
      ]
     },
     "execution_count": 363,
     "metadata": {},
     "output_type": "execute_result"
    }
   ],
   "source": [
    "#code postal in a string\n",
    "df['code_postal'] = df['code_postal'].apply(str)\n",
    "df['code_postal'] = df['code_postal'].str.split('.').str[0]\n",
    "df['code_postal']"
   ]
  },
  {
   "cell_type": "code",
   "execution_count": 365,
   "id": "5acbcd23-afef-476b-8eef-f380ce7f613d",
   "metadata": {
    "tags": []
   },
   "outputs": [
    {
     "data": {
      "text/plain": [
       "nature_culture_speciale\n",
       "Parc              341\n",
       "Jardin potager     37\n",
       "Pré marais          4\n",
       "Rue                 2\n",
       "Ruines              1\n",
       "Pâture plantée      1\n",
       "Pacage              1\n",
       "Name: count, dtype: int64"
      ]
     },
     "execution_count": 365,
     "metadata": {},
     "output_type": "execute_result"
    }
   ],
   "source": [
    "#nature_cultutre_spé est ce necessaire, fusion avec nature ou drop ? \n",
    "df['nature_culture_speciale'].value_counts()"
   ]
  },
  {
   "cell_type": "code",
   "execution_count": 367,
   "id": "4da385ed-03f6-4854-8ed3-5a1c72c506ec",
   "metadata": {
    "tags": []
   },
   "outputs": [
    {
     "data": {
      "text/plain": [
       "nature_culture_speciale\n",
       "Parc    341\n",
       "Name: count, dtype: int64"
      ]
     },
     "execution_count": 367,
     "metadata": {},
     "output_type": "execute_result"
    }
   ],
   "source": [
    "df[df.nature_culture == \"terrains d'agrément\"]['nature_culture_speciale'].value_counts()"
   ]
  },
  {
   "cell_type": "code",
   "execution_count": 369,
   "id": "e2fdee80-a12d-4655-8756-33ef99c6c39b",
   "metadata": {
    "tags": []
   },
   "outputs": [
    {
     "data": {
      "text/html": [
       "<div>\n",
       "<style scoped>\n",
       "    .dataframe tbody tr th:only-of-type {\n",
       "        vertical-align: middle;\n",
       "    }\n",
       "\n",
       "    .dataframe tbody tr th {\n",
       "        vertical-align: top;\n",
       "    }\n",
       "\n",
       "    .dataframe thead th {\n",
       "        text-align: right;\n",
       "    }\n",
       "</style>\n",
       "<table border=\"1\" class=\"dataframe\">\n",
       "  <thead>\n",
       "    <tr style=\"text-align: right;\">\n",
       "      <th></th>\n",
       "      <th>date_mutation</th>\n",
       "      <th>valeur_fonciere</th>\n",
       "      <th>code_postal</th>\n",
       "      <th>nom_commune</th>\n",
       "      <th>type_local</th>\n",
       "      <th>surface_reelle_bati</th>\n",
       "      <th>nombre_pieces_principales</th>\n",
       "      <th>nature_culture</th>\n",
       "      <th>nature_culture_speciale</th>\n",
       "      <th>surface_terrain</th>\n",
       "      <th>year</th>\n",
       "      <th>month</th>\n",
       "    </tr>\n",
       "  </thead>\n",
       "  <tbody>\n",
       "    <tr>\n",
       "      <th>137</th>\n",
       "      <td>2023-04-04</td>\n",
       "      <td>451950.0</td>\n",
       "      <td>31140</td>\n",
       "      <td>Aucamville</td>\n",
       "      <td>Maison</td>\n",
       "      <td>130.0</td>\n",
       "      <td>4.0</td>\n",
       "      <td>jardins</td>\n",
       "      <td>Jardin potager</td>\n",
       "      <td>1483.0</td>\n",
       "      <td>2023</td>\n",
       "      <td>4</td>\n",
       "    </tr>\n",
       "    <tr>\n",
       "      <th>174</th>\n",
       "      <td>2023-07-13</td>\n",
       "      <td>600000.0</td>\n",
       "      <td>31140</td>\n",
       "      <td>Aucamville</td>\n",
       "      <td>Maison</td>\n",
       "      <td>70.0</td>\n",
       "      <td>4.0</td>\n",
       "      <td>jardins</td>\n",
       "      <td>Jardin potager</td>\n",
       "      <td>1135.0</td>\n",
       "      <td>2023</td>\n",
       "      <td>7</td>\n",
       "    </tr>\n",
       "    <tr>\n",
       "      <th>1300</th>\n",
       "      <td>2023-04-26</td>\n",
       "      <td>260000.0</td>\n",
       "      <td>31660</td>\n",
       "      <td>Bessières</td>\n",
       "      <td>Maison</td>\n",
       "      <td>94.0</td>\n",
       "      <td>3.0</td>\n",
       "      <td>jardins</td>\n",
       "      <td>Jardin potager</td>\n",
       "      <td>1345.0</td>\n",
       "      <td>2023</td>\n",
       "      <td>4</td>\n",
       "    </tr>\n",
       "    <tr>\n",
       "      <th>2118</th>\n",
       "      <td>2023-03-09</td>\n",
       "      <td>190000.0</td>\n",
       "      <td>31460</td>\n",
       "      <td>Caraman</td>\n",
       "      <td>Maison</td>\n",
       "      <td>135.0</td>\n",
       "      <td>4.0</td>\n",
       "      <td>jardins</td>\n",
       "      <td>Jardin potager</td>\n",
       "      <td>1265.0</td>\n",
       "      <td>2023</td>\n",
       "      <td>3</td>\n",
       "    </tr>\n",
       "    <tr>\n",
       "      <th>2174</th>\n",
       "      <td>2023-06-10</td>\n",
       "      <td>150000.0</td>\n",
       "      <td>31390</td>\n",
       "      <td>Carbonne</td>\n",
       "      <td>Maison</td>\n",
       "      <td>82.0</td>\n",
       "      <td>4.0</td>\n",
       "      <td>jardins</td>\n",
       "      <td>Jardin potager</td>\n",
       "      <td>1500.0</td>\n",
       "      <td>2023</td>\n",
       "      <td>6</td>\n",
       "    </tr>\n",
       "    <tr>\n",
       "      <th>2887</th>\n",
       "      <td>2023-01-25</td>\n",
       "      <td>290000.0</td>\n",
       "      <td>31550</td>\n",
       "      <td>Cintegabelle</td>\n",
       "      <td>Maison</td>\n",
       "      <td>140.0</td>\n",
       "      <td>4.0</td>\n",
       "      <td>jardins</td>\n",
       "      <td>Jardin potager</td>\n",
       "      <td>130.0</td>\n",
       "      <td>2023</td>\n",
       "      <td>1</td>\n",
       "    </tr>\n",
       "    <tr>\n",
       "      <th>2899</th>\n",
       "      <td>2023-05-02</td>\n",
       "      <td>270000.0</td>\n",
       "      <td>31550</td>\n",
       "      <td>Cintegabelle</td>\n",
       "      <td>Maison</td>\n",
       "      <td>123.0</td>\n",
       "      <td>6.0</td>\n",
       "      <td>jardins</td>\n",
       "      <td>Jardin potager</td>\n",
       "      <td>1553.0</td>\n",
       "      <td>2023</td>\n",
       "      <td>5</td>\n",
       "    </tr>\n",
       "    <tr>\n",
       "      <th>3588</th>\n",
       "      <td>2023-01-05</td>\n",
       "      <td>176000.0</td>\n",
       "      <td>31270</td>\n",
       "      <td>Cugnaux</td>\n",
       "      <td>Maison</td>\n",
       "      <td>65.0</td>\n",
       "      <td>4.0</td>\n",
       "      <td>jardins</td>\n",
       "      <td>Jardin potager</td>\n",
       "      <td>681.0</td>\n",
       "      <td>2023</td>\n",
       "      <td>1</td>\n",
       "    </tr>\n",
       "    <tr>\n",
       "      <th>3734</th>\n",
       "      <td>2023-09-12</td>\n",
       "      <td>409000.0</td>\n",
       "      <td>31270</td>\n",
       "      <td>Cugnaux</td>\n",
       "      <td>Maison</td>\n",
       "      <td>90.0</td>\n",
       "      <td>4.0</td>\n",
       "      <td>jardins</td>\n",
       "      <td>Jardin potager</td>\n",
       "      <td>1488.0</td>\n",
       "      <td>2023</td>\n",
       "      <td>9</td>\n",
       "    </tr>\n",
       "    <tr>\n",
       "      <th>3756</th>\n",
       "      <td>2023-09-25</td>\n",
       "      <td>426500.0</td>\n",
       "      <td>31270</td>\n",
       "      <td>Cugnaux</td>\n",
       "      <td>Maison</td>\n",
       "      <td>70.0</td>\n",
       "      <td>3.0</td>\n",
       "      <td>jardins</td>\n",
       "      <td>Jardin potager</td>\n",
       "      <td>521.0</td>\n",
       "      <td>2023</td>\n",
       "      <td>9</td>\n",
       "    </tr>\n",
       "    <tr>\n",
       "      <th>4150</th>\n",
       "      <td>2023-04-11</td>\n",
       "      <td>245000.0</td>\n",
       "      <td>31150</td>\n",
       "      <td>Fenouillet</td>\n",
       "      <td>Maison</td>\n",
       "      <td>52.0</td>\n",
       "      <td>3.0</td>\n",
       "      <td>jardins</td>\n",
       "      <td>Jardin potager</td>\n",
       "      <td>827.0</td>\n",
       "      <td>2023</td>\n",
       "      <td>4</td>\n",
       "    </tr>\n",
       "    <tr>\n",
       "      <th>4162</th>\n",
       "      <td>2023-06-20</td>\n",
       "      <td>98500.0</td>\n",
       "      <td>31150</td>\n",
       "      <td>Fenouillet</td>\n",
       "      <td>Maison</td>\n",
       "      <td>90.0</td>\n",
       "      <td>3.0</td>\n",
       "      <td>jardins</td>\n",
       "      <td>Jardin potager</td>\n",
       "      <td>982.0</td>\n",
       "      <td>2023</td>\n",
       "      <td>6</td>\n",
       "    </tr>\n",
       "    <tr>\n",
       "      <th>4181</th>\n",
       "      <td>2023-09-02</td>\n",
       "      <td>100000.0</td>\n",
       "      <td>31150</td>\n",
       "      <td>Fenouillet</td>\n",
       "      <td>Maison</td>\n",
       "      <td>150.0</td>\n",
       "      <td>6.0</td>\n",
       "      <td>jardins</td>\n",
       "      <td>Jardin potager</td>\n",
       "      <td>2147.0</td>\n",
       "      <td>2023</td>\n",
       "      <td>9</td>\n",
       "    </tr>\n",
       "    <tr>\n",
       "      <th>4547</th>\n",
       "      <td>2023-05-02</td>\n",
       "      <td>309000.0</td>\n",
       "      <td>31620</td>\n",
       "      <td>Fronton</td>\n",
       "      <td>Maison</td>\n",
       "      <td>91.0</td>\n",
       "      <td>4.0</td>\n",
       "      <td>jardins</td>\n",
       "      <td>Jardin potager</td>\n",
       "      <td>924.0</td>\n",
       "      <td>2023</td>\n",
       "      <td>5</td>\n",
       "    </tr>\n",
       "    <tr>\n",
       "      <th>5092</th>\n",
       "      <td>2023-08-10</td>\n",
       "      <td>99640.0</td>\n",
       "      <td>31230</td>\n",
       "      <td>L'Isle-en-Dodon</td>\n",
       "      <td>Maison</td>\n",
       "      <td>90.0</td>\n",
       "      <td>6.0</td>\n",
       "      <td>jardins</td>\n",
       "      <td>Jardin potager</td>\n",
       "      <td>1244.0</td>\n",
       "      <td>2023</td>\n",
       "      <td>8</td>\n",
       "    </tr>\n",
       "    <tr>\n",
       "      <th>5729</th>\n",
       "      <td>2023-03-21</td>\n",
       "      <td>450000.0</td>\n",
       "      <td>31490</td>\n",
       "      <td>Léguevin</td>\n",
       "      <td>Maison</td>\n",
       "      <td>64.0</td>\n",
       "      <td>4.0</td>\n",
       "      <td>jardins</td>\n",
       "      <td>Jardin potager</td>\n",
       "      <td>1872.0</td>\n",
       "      <td>2023</td>\n",
       "      <td>3</td>\n",
       "    </tr>\n",
       "    <tr>\n",
       "      <th>6859</th>\n",
       "      <td>2023-03-25</td>\n",
       "      <td>456040.0</td>\n",
       "      <td>31600</td>\n",
       "      <td>Muret</td>\n",
       "      <td>Maison</td>\n",
       "      <td>124.0</td>\n",
       "      <td>4.0</td>\n",
       "      <td>jardins</td>\n",
       "      <td>Jardin potager</td>\n",
       "      <td>1000.0</td>\n",
       "      <td>2023</td>\n",
       "      <td>3</td>\n",
       "    </tr>\n",
       "    <tr>\n",
       "      <th>7125</th>\n",
       "      <td>2023-12-27</td>\n",
       "      <td>230000.0</td>\n",
       "      <td>31600</td>\n",
       "      <td>Muret</td>\n",
       "      <td>Maison</td>\n",
       "      <td>100.0</td>\n",
       "      <td>4.0</td>\n",
       "      <td>jardins</td>\n",
       "      <td>Jardin potager</td>\n",
       "      <td>900.0</td>\n",
       "      <td>2023</td>\n",
       "      <td>12</td>\n",
       "    </tr>\n",
       "    <tr>\n",
       "      <th>7127</th>\n",
       "      <td>2023-12-21</td>\n",
       "      <td>450000.0</td>\n",
       "      <td>31600</td>\n",
       "      <td>Muret</td>\n",
       "      <td>Maison</td>\n",
       "      <td>107.0</td>\n",
       "      <td>5.0</td>\n",
       "      <td>jardins</td>\n",
       "      <td>Jardin potager</td>\n",
       "      <td>1315.0</td>\n",
       "      <td>2023</td>\n",
       "      <td>12</td>\n",
       "    </tr>\n",
       "    <tr>\n",
       "      <th>7234</th>\n",
       "      <td>2023-01-20</td>\n",
       "      <td>351000.0</td>\n",
       "      <td>31410</td>\n",
       "      <td>Noé</td>\n",
       "      <td>Maison</td>\n",
       "      <td>102.0</td>\n",
       "      <td>5.0</td>\n",
       "      <td>jardins</td>\n",
       "      <td>Jardin potager</td>\n",
       "      <td>1630.0</td>\n",
       "      <td>2023</td>\n",
       "      <td>1</td>\n",
       "    </tr>\n",
       "    <tr>\n",
       "      <th>7260</th>\n",
       "      <td>2023-08-29</td>\n",
       "      <td>260000.0</td>\n",
       "      <td>31410</td>\n",
       "      <td>Noé</td>\n",
       "      <td>Maison</td>\n",
       "      <td>101.0</td>\n",
       "      <td>5.0</td>\n",
       "      <td>jardins</td>\n",
       "      <td>Jardin potager</td>\n",
       "      <td>707.0</td>\n",
       "      <td>2023</td>\n",
       "      <td>8</td>\n",
       "    </tr>\n",
       "    <tr>\n",
       "      <th>7527</th>\n",
       "      <td>2023-05-23</td>\n",
       "      <td>218000.0</td>\n",
       "      <td>31120</td>\n",
       "      <td>Pinsaguel</td>\n",
       "      <td>Maison</td>\n",
       "      <td>78.0</td>\n",
       "      <td>4.0</td>\n",
       "      <td>jardins</td>\n",
       "      <td>Jardin potager</td>\n",
       "      <td>746.0</td>\n",
       "      <td>2023</td>\n",
       "      <td>5</td>\n",
       "    </tr>\n",
       "    <tr>\n",
       "      <th>7853</th>\n",
       "      <td>2023-03-22</td>\n",
       "      <td>110000.0</td>\n",
       "      <td>31430</td>\n",
       "      <td>Polastron</td>\n",
       "      <td>Maison</td>\n",
       "      <td>53.0</td>\n",
       "      <td>2.0</td>\n",
       "      <td>jardins</td>\n",
       "      <td>Jardin potager</td>\n",
       "      <td>3800.0</td>\n",
       "      <td>2023</td>\n",
       "      <td>3</td>\n",
       "    </tr>\n",
       "    <tr>\n",
       "      <th>7891</th>\n",
       "      <td>2023-01-30</td>\n",
       "      <td>500300.0</td>\n",
       "      <td>31120</td>\n",
       "      <td>Portet-sur-Garonne</td>\n",
       "      <td>Maison</td>\n",
       "      <td>120.0</td>\n",
       "      <td>4.0</td>\n",
       "      <td>jardins</td>\n",
       "      <td>Jardin potager</td>\n",
       "      <td>758.0</td>\n",
       "      <td>2023</td>\n",
       "      <td>1</td>\n",
       "    </tr>\n",
       "    <tr>\n",
       "      <th>8308</th>\n",
       "      <td>2023-06-01</td>\n",
       "      <td>175000.0</td>\n",
       "      <td>31250</td>\n",
       "      <td>Revel</td>\n",
       "      <td>Maison</td>\n",
       "      <td>137.0</td>\n",
       "      <td>5.0</td>\n",
       "      <td>jardins</td>\n",
       "      <td>Jardin potager</td>\n",
       "      <td>2057.0</td>\n",
       "      <td>2023</td>\n",
       "      <td>6</td>\n",
       "    </tr>\n",
       "    <tr>\n",
       "      <th>8349</th>\n",
       "      <td>2023-09-22</td>\n",
       "      <td>140000.0</td>\n",
       "      <td>31250</td>\n",
       "      <td>Revel</td>\n",
       "      <td>Maison</td>\n",
       "      <td>57.0</td>\n",
       "      <td>4.0</td>\n",
       "      <td>jardins</td>\n",
       "      <td>Jardin potager</td>\n",
       "      <td>306.0</td>\n",
       "      <td>2023</td>\n",
       "      <td>9</td>\n",
       "    </tr>\n",
       "    <tr>\n",
       "      <th>8355</th>\n",
       "      <td>2023-10-17</td>\n",
       "      <td>195000.0</td>\n",
       "      <td>31250</td>\n",
       "      <td>Revel</td>\n",
       "      <td>Maison</td>\n",
       "      <td>122.0</td>\n",
       "      <td>4.0</td>\n",
       "      <td>jardins</td>\n",
       "      <td>Jardin potager</td>\n",
       "      <td>500.0</td>\n",
       "      <td>2023</td>\n",
       "      <td>10</td>\n",
       "    </tr>\n",
       "    <tr>\n",
       "      <th>8894</th>\n",
       "      <td>2023-08-10</td>\n",
       "      <td>95500.0</td>\n",
       "      <td>31800</td>\n",
       "      <td>Saint-Gaudens</td>\n",
       "      <td>Maison</td>\n",
       "      <td>98.0</td>\n",
       "      <td>3.0</td>\n",
       "      <td>jardins</td>\n",
       "      <td>Jardin potager</td>\n",
       "      <td>589.0</td>\n",
       "      <td>2023</td>\n",
       "      <td>8</td>\n",
       "    </tr>\n",
       "    <tr>\n",
       "      <th>9324</th>\n",
       "      <td>2023-04-24</td>\n",
       "      <td>187500.0</td>\n",
       "      <td>31470</td>\n",
       "      <td>Saint-Lys</td>\n",
       "      <td>Maison</td>\n",
       "      <td>109.0</td>\n",
       "      <td>4.0</td>\n",
       "      <td>jardins</td>\n",
       "      <td>Jardin potager</td>\n",
       "      <td>1190.0</td>\n",
       "      <td>2023</td>\n",
       "      <td>4</td>\n",
       "    </tr>\n",
       "    <tr>\n",
       "      <th>9390</th>\n",
       "      <td>2023-09-29</td>\n",
       "      <td>140000.0</td>\n",
       "      <td>31470</td>\n",
       "      <td>Saint-Lys</td>\n",
       "      <td>Maison</td>\n",
       "      <td>130.0</td>\n",
       "      <td>4.0</td>\n",
       "      <td>jardins</td>\n",
       "      <td>Jardin potager</td>\n",
       "      <td>900.0</td>\n",
       "      <td>2023</td>\n",
       "      <td>9</td>\n",
       "    </tr>\n",
       "    <tr>\n",
       "      <th>9407</th>\n",
       "      <td>2023-11-29</td>\n",
       "      <td>375240.0</td>\n",
       "      <td>31470</td>\n",
       "      <td>Saint-Lys</td>\n",
       "      <td>Maison</td>\n",
       "      <td>127.0</td>\n",
       "      <td>6.0</td>\n",
       "      <td>jardins</td>\n",
       "      <td>Jardin potager</td>\n",
       "      <td>900.0</td>\n",
       "      <td>2023</td>\n",
       "      <td>11</td>\n",
       "    </tr>\n",
       "    <tr>\n",
       "      <th>13451</th>\n",
       "      <td>2023-06-01</td>\n",
       "      <td>380000.0</td>\n",
       "      <td>31400</td>\n",
       "      <td>Toulouse</td>\n",
       "      <td>Maison</td>\n",
       "      <td>97.0</td>\n",
       "      <td>4.0</td>\n",
       "      <td>jardins</td>\n",
       "      <td>Jardin potager</td>\n",
       "      <td>100.0</td>\n",
       "      <td>2023</td>\n",
       "      <td>6</td>\n",
       "    </tr>\n",
       "    <tr>\n",
       "      <th>13728</th>\n",
       "      <td>2023-06-16</td>\n",
       "      <td>400000.0</td>\n",
       "      <td>31100</td>\n",
       "      <td>Toulouse</td>\n",
       "      <td>Maison</td>\n",
       "      <td>101.0</td>\n",
       "      <td>5.0</td>\n",
       "      <td>jardins</td>\n",
       "      <td>Jardin potager</td>\n",
       "      <td>750.0</td>\n",
       "      <td>2023</td>\n",
       "      <td>6</td>\n",
       "    </tr>\n",
       "    <tr>\n",
       "      <th>15167</th>\n",
       "      <td>2023-08-30</td>\n",
       "      <td>490000.0</td>\n",
       "      <td>31100</td>\n",
       "      <td>Toulouse</td>\n",
       "      <td>Maison</td>\n",
       "      <td>150.0</td>\n",
       "      <td>7.0</td>\n",
       "      <td>jardins</td>\n",
       "      <td>Jardin potager</td>\n",
       "      <td>440.0</td>\n",
       "      <td>2023</td>\n",
       "      <td>8</td>\n",
       "    </tr>\n",
       "    <tr>\n",
       "      <th>16436</th>\n",
       "      <td>2023-10-02</td>\n",
       "      <td>420000.0</td>\n",
       "      <td>31300</td>\n",
       "      <td>Toulouse</td>\n",
       "      <td>Maison</td>\n",
       "      <td>89.0</td>\n",
       "      <td>5.0</td>\n",
       "      <td>jardins</td>\n",
       "      <td>Jardin potager</td>\n",
       "      <td>201.0</td>\n",
       "      <td>2023</td>\n",
       "      <td>10</td>\n",
       "    </tr>\n",
       "    <tr>\n",
       "      <th>18665</th>\n",
       "      <td>2023-06-01</td>\n",
       "      <td>164000.0</td>\n",
       "      <td>31270</td>\n",
       "      <td>Villeneuve-Tolosane</td>\n",
       "      <td>Maison</td>\n",
       "      <td>130.0</td>\n",
       "      <td>6.0</td>\n",
       "      <td>jardins</td>\n",
       "      <td>Jardin potager</td>\n",
       "      <td>409.0</td>\n",
       "      <td>2023</td>\n",
       "      <td>6</td>\n",
       "    </tr>\n",
       "    <tr>\n",
       "      <th>18678</th>\n",
       "      <td>2023-06-20</td>\n",
       "      <td>300000.0</td>\n",
       "      <td>31270</td>\n",
       "      <td>Villeneuve-Tolosane</td>\n",
       "      <td>Maison</td>\n",
       "      <td>82.0</td>\n",
       "      <td>4.0</td>\n",
       "      <td>jardins</td>\n",
       "      <td>Jardin potager</td>\n",
       "      <td>916.0</td>\n",
       "      <td>2023</td>\n",
       "      <td>6</td>\n",
       "    </tr>\n",
       "  </tbody>\n",
       "</table>\n",
       "</div>"
      ],
      "text/plain": [
       "      date_mutation  valeur_fonciere code_postal          nom_commune  \\\n",
       "137      2023-04-04         451950.0       31140           Aucamville   \n",
       "174      2023-07-13         600000.0       31140           Aucamville   \n",
       "1300     2023-04-26         260000.0       31660            Bessières   \n",
       "2118     2023-03-09         190000.0       31460              Caraman   \n",
       "2174     2023-06-10         150000.0       31390             Carbonne   \n",
       "2887     2023-01-25         290000.0       31550         Cintegabelle   \n",
       "2899     2023-05-02         270000.0       31550         Cintegabelle   \n",
       "3588     2023-01-05         176000.0       31270              Cugnaux   \n",
       "3734     2023-09-12         409000.0       31270              Cugnaux   \n",
       "3756     2023-09-25         426500.0       31270              Cugnaux   \n",
       "4150     2023-04-11         245000.0       31150           Fenouillet   \n",
       "4162     2023-06-20          98500.0       31150           Fenouillet   \n",
       "4181     2023-09-02         100000.0       31150           Fenouillet   \n",
       "4547     2023-05-02         309000.0       31620              Fronton   \n",
       "5092     2023-08-10          99640.0       31230      L'Isle-en-Dodon   \n",
       "5729     2023-03-21         450000.0       31490             Léguevin   \n",
       "6859     2023-03-25         456040.0       31600                Muret   \n",
       "7125     2023-12-27         230000.0       31600                Muret   \n",
       "7127     2023-12-21         450000.0       31600                Muret   \n",
       "7234     2023-01-20         351000.0       31410                  Noé   \n",
       "7260     2023-08-29         260000.0       31410                  Noé   \n",
       "7527     2023-05-23         218000.0       31120            Pinsaguel   \n",
       "7853     2023-03-22         110000.0       31430            Polastron   \n",
       "7891     2023-01-30         500300.0       31120   Portet-sur-Garonne   \n",
       "8308     2023-06-01         175000.0       31250                Revel   \n",
       "8349     2023-09-22         140000.0       31250                Revel   \n",
       "8355     2023-10-17         195000.0       31250                Revel   \n",
       "8894     2023-08-10          95500.0       31800        Saint-Gaudens   \n",
       "9324     2023-04-24         187500.0       31470            Saint-Lys   \n",
       "9390     2023-09-29         140000.0       31470            Saint-Lys   \n",
       "9407     2023-11-29         375240.0       31470            Saint-Lys   \n",
       "13451    2023-06-01         380000.0       31400             Toulouse   \n",
       "13728    2023-06-16         400000.0       31100             Toulouse   \n",
       "15167    2023-08-30         490000.0       31100             Toulouse   \n",
       "16436    2023-10-02         420000.0       31300             Toulouse   \n",
       "18665    2023-06-01         164000.0       31270  Villeneuve-Tolosane   \n",
       "18678    2023-06-20         300000.0       31270  Villeneuve-Tolosane   \n",
       "\n",
       "      type_local  surface_reelle_bati  nombre_pieces_principales  \\\n",
       "137       Maison                130.0                        4.0   \n",
       "174       Maison                 70.0                        4.0   \n",
       "1300      Maison                 94.0                        3.0   \n",
       "2118      Maison                135.0                        4.0   \n",
       "2174      Maison                 82.0                        4.0   \n",
       "2887      Maison                140.0                        4.0   \n",
       "2899      Maison                123.0                        6.0   \n",
       "3588      Maison                 65.0                        4.0   \n",
       "3734      Maison                 90.0                        4.0   \n",
       "3756      Maison                 70.0                        3.0   \n",
       "4150      Maison                 52.0                        3.0   \n",
       "4162      Maison                 90.0                        3.0   \n",
       "4181      Maison                150.0                        6.0   \n",
       "4547      Maison                 91.0                        4.0   \n",
       "5092      Maison                 90.0                        6.0   \n",
       "5729      Maison                 64.0                        4.0   \n",
       "6859      Maison                124.0                        4.0   \n",
       "7125      Maison                100.0                        4.0   \n",
       "7127      Maison                107.0                        5.0   \n",
       "7234      Maison                102.0                        5.0   \n",
       "7260      Maison                101.0                        5.0   \n",
       "7527      Maison                 78.0                        4.0   \n",
       "7853      Maison                 53.0                        2.0   \n",
       "7891      Maison                120.0                        4.0   \n",
       "8308      Maison                137.0                        5.0   \n",
       "8349      Maison                 57.0                        4.0   \n",
       "8355      Maison                122.0                        4.0   \n",
       "8894      Maison                 98.0                        3.0   \n",
       "9324      Maison                109.0                        4.0   \n",
       "9390      Maison                130.0                        4.0   \n",
       "9407      Maison                127.0                        6.0   \n",
       "13451     Maison                 97.0                        4.0   \n",
       "13728     Maison                101.0                        5.0   \n",
       "15167     Maison                150.0                        7.0   \n",
       "16436     Maison                 89.0                        5.0   \n",
       "18665     Maison                130.0                        6.0   \n",
       "18678     Maison                 82.0                        4.0   \n",
       "\n",
       "      nature_culture nature_culture_speciale  surface_terrain  year  month  \n",
       "137          jardins          Jardin potager           1483.0  2023      4  \n",
       "174          jardins          Jardin potager           1135.0  2023      7  \n",
       "1300         jardins          Jardin potager           1345.0  2023      4  \n",
       "2118         jardins          Jardin potager           1265.0  2023      3  \n",
       "2174         jardins          Jardin potager           1500.0  2023      6  \n",
       "2887         jardins          Jardin potager            130.0  2023      1  \n",
       "2899         jardins          Jardin potager           1553.0  2023      5  \n",
       "3588         jardins          Jardin potager            681.0  2023      1  \n",
       "3734         jardins          Jardin potager           1488.0  2023      9  \n",
       "3756         jardins          Jardin potager            521.0  2023      9  \n",
       "4150         jardins          Jardin potager            827.0  2023      4  \n",
       "4162         jardins          Jardin potager            982.0  2023      6  \n",
       "4181         jardins          Jardin potager           2147.0  2023      9  \n",
       "4547         jardins          Jardin potager            924.0  2023      5  \n",
       "5092         jardins          Jardin potager           1244.0  2023      8  \n",
       "5729         jardins          Jardin potager           1872.0  2023      3  \n",
       "6859         jardins          Jardin potager           1000.0  2023      3  \n",
       "7125         jardins          Jardin potager            900.0  2023     12  \n",
       "7127         jardins          Jardin potager           1315.0  2023     12  \n",
       "7234         jardins          Jardin potager           1630.0  2023      1  \n",
       "7260         jardins          Jardin potager            707.0  2023      8  \n",
       "7527         jardins          Jardin potager            746.0  2023      5  \n",
       "7853         jardins          Jardin potager           3800.0  2023      3  \n",
       "7891         jardins          Jardin potager            758.0  2023      1  \n",
       "8308         jardins          Jardin potager           2057.0  2023      6  \n",
       "8349         jardins          Jardin potager            306.0  2023      9  \n",
       "8355         jardins          Jardin potager            500.0  2023     10  \n",
       "8894         jardins          Jardin potager            589.0  2023      8  \n",
       "9324         jardins          Jardin potager           1190.0  2023      4  \n",
       "9390         jardins          Jardin potager            900.0  2023      9  \n",
       "9407         jardins          Jardin potager            900.0  2023     11  \n",
       "13451        jardins          Jardin potager            100.0  2023      6  \n",
       "13728        jardins          Jardin potager            750.0  2023      6  \n",
       "15167        jardins          Jardin potager            440.0  2023      8  \n",
       "16436        jardins          Jardin potager            201.0  2023     10  \n",
       "18665        jardins          Jardin potager            409.0  2023      6  \n",
       "18678        jardins          Jardin potager            916.0  2023      6  "
      ]
     },
     "execution_count": 369,
     "metadata": {},
     "output_type": "execute_result"
    }
   ],
   "source": [
    "df[df.nature_culture_speciale == \"Jardin potager\"]"
   ]
  },
  {
   "cell_type": "code",
   "execution_count": 120,
   "id": "36df153f-681a-4383-b375-aa0ffd6bad8e",
   "metadata": {
    "tags": []
   },
   "outputs": [],
   "source": [
    "# Pour nature culture speciale  = juste quelque ajour a la 'nature' = drop colonne (precision : jaridin, potage ou pré marais. 'terrain d'agrément' peut etre un parc)"
   ]
  },
  {
   "cell_type": "code",
   "execution_count": 371,
   "id": "13373a65-a3f9-4a1c-8696-c1f085146115",
   "metadata": {
    "tags": []
   },
   "outputs": [],
   "source": [
    "df = df.drop('nature_culture_speciale',axis=1)"
   ]
  },
  {
   "cell_type": "code",
   "execution_count": 373,
   "id": "f7b584aa-da4a-4abc-aec4-62ca5e93086d",
   "metadata": {
    "tags": []
   },
   "outputs": [],
   "source": [
    "# donnée manquante\n",
    "def percent_missing(df):\n",
    "    per_nan = 100*df.isnull().sum() /len(df)\n",
    "    per_nan = per_nan[per_nan >0].sort_values()\n",
    "    \n",
    "    return per_nan"
   ]
  },
  {
   "cell_type": "code",
   "execution_count": 375,
   "id": "cbf154f2-9e55-401c-bb0f-b4fd82f7224e",
   "metadata": {
    "tags": []
   },
   "outputs": [
    {
     "data": {
      "text/plain": [
       "valeur_fonciere     0.058554\n",
       "nature_culture     56.355797\n",
       "surface_terrain    56.355797\n",
       "dtype: float64"
      ]
     },
     "execution_count": 375,
     "metadata": {},
     "output_type": "execute_result"
    }
   ],
   "source": [
    "per_nan = percent_missing(df)\n",
    "per_nan"
   ]
  },
  {
   "cell_type": "code",
   "execution_count": 377,
   "id": "d5026df8-b945-4f63-90be-fc2d9433a97b",
   "metadata": {
    "tags": []
   },
   "outputs": [],
   "source": [
    "df = df.dropna(subset=['valeur_fonciere'])"
   ]
  },
  {
   "cell_type": "code",
   "execution_count": 379,
   "id": "0c77f278-76f2-4e32-b039-1ce9c57f3a8f",
   "metadata": {
    "tags": []
   },
   "outputs": [
    {
     "data": {
      "text/plain": [
       "nature_culture     56.362184\n",
       "surface_terrain    56.362184\n",
       "dtype: float64"
      ]
     },
     "execution_count": 379,
     "metadata": {},
     "output_type": "execute_result"
    }
   ],
   "source": [
    "per_nan = percent_missing(df)\n",
    "per_nan"
   ]
  },
  {
   "cell_type": "code",
   "execution_count": 381,
   "id": "24097e0c-71a8-4a04-808b-fc4736ea2c91",
   "metadata": {
    "tags": []
   },
   "outputs": [],
   "source": [
    "df['nature_culture'] = df['nature_culture'].fillna('None')\n",
    "df['surface_terrain'] = df['surface_terrain'].fillna(0)"
   ]
  },
  {
   "cell_type": "code",
   "execution_count": 401,
   "id": "d04cdb17-44e4-450b-a12f-9f9a5faab4a3",
   "metadata": {},
   "outputs": [],
   "source": [
    "# Séparer appartement et Maison\n",
    "df_maison = df[df['type_local']=='Maison']\n",
    "df_appt = df[df['type_local']=='Appartement']"
   ]
  },
  {
   "cell_type": "markdown",
   "id": "4dbf4e98-10d6-4c50-a240-1fecabf221bd",
   "metadata": {
    "tags": []
   },
   "source": [
    "## Analysis explo"
   ]
  },
  {
   "cell_type": "code",
   "execution_count": 234,
   "id": "655dac6f-63ad-43f9-b4d8-c5212d3bd0e8",
   "metadata": {
    "tags": []
   },
   "outputs": [],
   "source": [
    "import seaborn as sns\n",
    "import matplotlib.pyplot as plt\n",
    "import numpy as np"
   ]
  },
  {
   "cell_type": "code",
   "execution_count": 385,
   "id": "b1b55e1a-5cb3-4642-8282-baab0cf07777",
   "metadata": {
    "tags": []
   },
   "outputs": [
    {
     "data": {
      "text/plain": [
       "<Axes: xlabel='surface_reelle_bati', ylabel='valeur_fonciere'>"
      ]
     },
     "execution_count": 385,
     "metadata": {},
     "output_type": "execute_result"
    },
    {
     "data": {
      "image/png": "[encoded data removed]",
      "text/plain": [
       "<Figure size 640x480 with 1 Axes>"
      ]
     },
     "metadata": {},
     "output_type": "display_data"
    }
   ],
   "source": [
    "sns.scatterplot(data=df_maison, x='surface_reelle_bati',y='valeur_fonciere')"
   ]
  },
  {
   "cell_type": "code",
   "execution_count": null,
   "id": "765a10b7-22f7-4e04-8d85-998a941a0dfc",
   "metadata": {},
   "outputs": [],
   "source": [
    "# outliers valeur subjective"
   ]
  },
  {
   "cell_type": "code",
   "execution_count": null,
   "id": "d39c9026-57ff-458b-a630-f0b5c96a2eca",
   "metadata": {
    "tags": []
   },
   "outputs": [],
   "source": [
    "df_maison[df_maison['valeur_fonciere']>2000000]"
   ]
  },
  {
   "cell_type": "code",
   "execution_count": 403,
   "id": "207ff2f5-cfcf-446a-8783-a9375ec2089a",
   "metadata": {
    "tags": []
   },
   "outputs": [],
   "source": [
    "drop_ind = df_maison[(df_maison['valeur_fonciere']>2000000)].index"
   ]
  },
  {
   "cell_type": "code",
   "execution_count": 405,
   "id": "cda0f878-69f1-4419-85ad-9c7001935760",
   "metadata": {
    "tags": []
   },
   "outputs": [],
   "source": [
    "df_maison = df_maison.drop(drop_ind,axis=0)"
   ]
  },
  {
   "cell_type": "code",
   "execution_count": 407,
   "id": "1066ca94-39fd-49b0-8ba4-76831f9ca2bd",
   "metadata": {
    "tags": []
   },
   "outputs": [
    {
     "data": {
      "text/plain": [
       "<Axes: xlabel='surface_reelle_bati', ylabel='valeur_fonciere'>"
      ]
     },
     "execution_count": 407,
     "metadata": {},
     "output_type": "execute_result"
    },
    {
     "data": {
      "image/png": "[encoded data removed]",
      "text/plain": [
       "<Figure size 640x480 with 1 Axes>"
      ]
     },
     "metadata": {},
     "output_type": "display_data"
    }
   ],
   "source": [
    "sns.scatterplot(data=df_maison, x='surface_reelle_bati',y='valeur_fonciere')"
   ]
  },
  {
   "cell_type": "code",
   "execution_count": 415,
   "id": "6faf7611-3453-4d1e-bf66-cf548a9e2ad6",
   "metadata": {
    "tags": []
   },
   "outputs": [],
   "source": [
    "drop_ind = df_maison[(df_maison['surface_terrain']>5000)].index\n",
    "df_maison = df_maison.drop(drop_ind,axis=0)"
   ]
  },
  {
   "cell_type": "code",
   "execution_count": 417,
   "id": "5804f921-eafa-443a-8372-5f699979ecbc",
   "metadata": {
    "tags": []
   },
   "outputs": [
    {
     "data": {
      "text/plain": [
       "<Axes: xlabel='surface_terrain', ylabel='valeur_fonciere'>"
      ]
     },
     "execution_count": 417,
     "metadata": {},
     "output_type": "execute_result"
    },
    {
     "data": {
      "image/png": "[encoded data removed]",
      "text/plain": [
       "<Figure size 640x480 with 1 Axes>"
      ]
     },
     "metadata": {},
     "output_type": "display_data"
    }
   ],
   "source": [
    "sns.scatterplot(data=df_maison, x='surface_terrain',y='valeur_fonciere')"
   ]
  },
  {
   "cell_type": "code",
   "execution_count": 300,
   "id": "b4e8b0be-063e-4d74-9930-9b24595987ee",
   "metadata": {
    "tags": []
   },
   "outputs": [
    {
     "data": {
      "text/plain": [
       "<Axes: xlabel='nombre_pieces_principales', ylabel='valeur_fonciere'>"
      ]
     },
     "execution_count": 300,
     "metadata": {},
     "output_type": "execute_result"
    },
    {
     "data": {
      "image/png": "[encoded data removed]",
      "text/plain": [
       "<Figure size 640x480 with 1 Axes>"
      ]
     },
     "metadata": {},
     "output_type": "display_data"
    }
   ],
   "source": [
    "sns.scatterplot(data=df_maison, x='nombre_pieces_principales',y='valeur_fonciere')"
   ]
  },
  {
   "cell_type": "code",
   "execution_count": 419,
   "id": "85417385-d520-47cc-a917-99c7c08fc068",
   "metadata": {
    "tags": []
   },
   "outputs": [
    {
     "data": {
      "text/plain": [
       "month                       -0.025936\n",
       "surface_terrain              0.184521\n",
       "nombre_pieces_principales    0.383316\n",
       "surface_reelle_bati          0.474200\n",
       "valeur_fonciere              1.000000\n",
       "year                              NaN\n",
       "Name: valeur_fonciere, dtype: float64"
      ]
     },
     "execution_count": 419,
     "metadata": {},
     "output_type": "execute_result"
    }
   ],
   "source": [
    "df_maison.corr(numeric_only = True)['valeur_fonciere'].sort_values()"
   ]
  },
  {
   "cell_type": "code",
   "execution_count": 433,
   "id": "9f35ec27-3693-4972-9537-0fba2b90a6d2",
   "metadata": {
    "tags": []
   },
   "outputs": [
    {
     "data": {
      "text/plain": [
       "code_postal\n",
       "31600    377\n",
       "31200    294\n",
       "31700    287\n",
       "31470    277\n",
       "31140    252\n",
       "        ... \n",
       "31540     28\n",
       "31280     27\n",
       "31850     24\n",
       "31580     23\n",
       "31670     15\n",
       "Name: count, Length: 70, dtype: int64"
      ]
     },
     "execution_count": 433,
     "metadata": {},
     "output_type": "execute_result"
    }
   ],
   "source": [
    "df_maison['code_postal'].value_counts()"
   ]
  },
  {
   "cell_type": "code",
   "execution_count": 447,
   "id": "4d50331e-3345-4eac-9087-f828c3261fba",
   "metadata": {
    "tags": []
   },
   "outputs": [],
   "source": [
    "df_maison_31600 = df_maison[df_maison['code_postal'] == '31600']"
   ]
  },
  {
   "cell_type": "code",
   "execution_count": 449,
   "id": "992c0262-ba73-4406-9a06-889f1b4c092b",
   "metadata": {
    "tags": []
   },
   "outputs": [
    {
     "data": {
      "text/plain": [
       "<Axes: xlabel='surface_reelle_bati', ylabel='valeur_fonciere'>"
      ]
     },
     "execution_count": 449,
     "metadata": {},
     "output_type": "execute_result"
    },
    {
     "data": {
      "image/png": "[encoded data removed]",
      "text/plain": [
       "<Figure size 640x480 with 1 Axes>"
      ]
     },
     "metadata": {},
     "output_type": "display_data"
    }
   ],
   "source": [
    "sns.scatterplot(data=df_maison_31600, x='surface_reelle_bati',y='valeur_fonciere')"
   ]
  },
  {
   "cell_type": "code",
   "execution_count": 451,
   "id": "c2291c66-11dc-46da-b07c-d72e4babae8b",
   "metadata": {
    "tags": []
   },
   "outputs": [],
   "source": [
    "def calculate_correlation(group):\n",
    "    return group['valeur_fonciere'].corr(group['surface_reelle_bati'])"
   ]
  },
  {
   "cell_type": "code",
   "execution_count": 461,
   "id": "5edcb3a7-6df7-4840-8b9c-748064d3b01d",
   "metadata": {
    "tags": []
   },
   "outputs": [
    {
     "name": "stdout",
     "output_type": "stream",
     "text": [
      "Code Postal: 31110, Corrélation: 0.69\n",
      "Code Postal: 31120, Corrélation: 0.77\n",
      "Code Postal: 31140, Corrélation: 0.71\n",
      "Code Postal: 31170, Corrélation: 0.66\n",
      "Code Postal: 31180, Corrélation: 0.81\n",
      "Code Postal: 31190, Corrélation: 0.70\n",
      "Code Postal: 31240, Corrélation: 0.60\n",
      "Code Postal: 31250, Corrélation: 0.62\n",
      "Code Postal: 31270, Corrélation: 0.70\n",
      "Code Postal: 31280, Corrélation: 0.72\n",
      "Code Postal: 31320, Corrélation: 0.68\n",
      "Code Postal: 31330, Corrélation: 0.70\n",
      "Code Postal: 31340, Corrélation: 0.66\n",
      "Code Postal: 31380, Corrélation: 0.64\n",
      "Code Postal: 31400, Corrélation: 0.63\n",
      "Code Postal: 31450, Corrélation: 0.61\n",
      "Code Postal: 31470, Corrélation: 0.65\n",
      "Code Postal: 31480, Corrélation: 0.64\n",
      "Code Postal: 31490, Corrélation: 0.77\n",
      "Code Postal: 31530, Corrélation: 0.82\n",
      "Code Postal: 31540, Corrélation: 0.80\n",
      "Code Postal: 31560, Corrélation: 0.80\n",
      "Code Postal: 31580, Corrélation: 0.74\n",
      "Code Postal: 31600, Corrélation: 0.65\n",
      "Code Postal: 31650, Corrélation: 0.74\n",
      "Code Postal: 31660, Corrélation: 0.74\n",
      "Code Postal: 31700, Corrélation: 0.82\n",
      "Code Postal: 31750, Corrélation: 0.77\n",
      "Code Postal: 31770, Corrélation: 0.72\n",
      "Code Postal: 31780, Corrélation: 0.76\n",
      "Code Postal: 31820, Corrélation: 0.86\n",
      "Code Postal: 31830, Corrélation: 0.71\n",
      "Code Postal: 31840, Corrélation: 0.82\n",
      "Code Postal: 31850, Corrélation: 0.93\n",
      "Code Postal: 31870, Corrélation: 0.81\n"
     ]
    }
   ],
   "source": [
    "correlation_by_postal_code = df.groupby('code_postal').apply(calculate_correlation)\n",
    "\n",
    "for code_postal, correlation in correlation_by_postal_code.items():\n",
    "    if correlation >= 0.6:\n",
    "        print(f'Code Postal: {code_postal}, Corrélation: {correlation:.2f}')"
   ]
  },
  {
   "cell_type": "code",
   "execution_count": 459,
   "id": "3772db85-549e-482d-af86-e597315991a5",
   "metadata": {},
   "outputs": [
    {
     "name": "stdout",
     "output_type": "stream",
     "text": [
      "Code Postal: 31000, Corrélation: 0.50\n",
      "Code Postal: 31100, Corrélation: 0.59\n",
      "Code Postal: 31130, Corrélation: 0.40\n",
      "Code Postal: 31150, Corrélation: 0.51\n",
      "Code Postal: 31160, Corrélation: 0.47\n",
      "Code Postal: 31200, Corrélation: 0.27\n",
      "Code Postal: 31210, Corrélation: 0.47\n",
      "Code Postal: 31220, Corrélation: 0.46\n",
      "Code Postal: 31230, Corrélation: 0.33\n",
      "Code Postal: 31260, Corrélation: 0.36\n",
      "Code Postal: 31290, Corrélation: 0.54\n",
      "Code Postal: 31300, Corrélation: 0.39\n",
      "Code Postal: 31310, Corrélation: 0.46\n",
      "Code Postal: 31350, Corrélation: 0.48\n",
      "Code Postal: 31360, Corrélation: 0.59\n",
      "Code Postal: 31370, Corrélation: 0.47\n",
      "Code Postal: 31390, Corrélation: 0.10\n",
      "Code Postal: 31410, Corrélation: 0.55\n",
      "Code Postal: 31420, Corrélation: 0.33\n",
      "Code Postal: 31430, Corrélation: 0.37\n",
      "Code Postal: 31440, Corrélation: 0.21\n",
      "Code Postal: 31460, Corrélation: 0.60\n",
      "Code Postal: 31500, Corrélation: 0.31\n",
      "Code Postal: 31510, Corrélation: 0.59\n",
      "Code Postal: 31520, Corrélation: 0.51\n",
      "Code Postal: 31550, Corrélation: 0.39\n",
      "Code Postal: 31570, Corrélation: 0.17\n",
      "Code Postal: 31590, Corrélation: 0.50\n",
      "Code Postal: 31620, Corrélation: 0.57\n",
      "Code Postal: 31670, Corrélation: 0.53\n",
      "Code Postal: 31790, Corrélation: 0.56\n",
      "Code Postal: 31800, Corrélation: 0.04\n",
      "Code Postal: 31810, Corrélation: 0.34\n",
      "Code Postal: 31860, Corrélation: 0.11\n",
      "Code Postal: 31880, Corrélation: 0.25\n"
     ]
    }
   ],
   "source": [
    "for code_postal, correlation in correlation_by_postal_code.items():\n",
    "    if correlation < 0.6:\n",
    "        print(f'Code Postal: {code_postal}, Corrélation: {correlation:.2f}')"
   ]
  },
  {
   "cell_type": "code",
   "execution_count": null,
   "id": "2f7163ac-8116-4aed-b87b-748dc28bc044",
   "metadata": {},
   "outputs": [],
   "source": []
  },
  {
   "cell_type": "code",
   "execution_count": null,
   "id": "c85de89e-19c8-448e-8fc1-2cf8060111ea",
   "metadata": {},
   "outputs": [],
   "source": []
  },
  {
   "cell_type": "code",
   "execution_count": null,
   "id": "4355bb75-d81f-4d6c-9279-18794e07cfd9",
   "metadata": {},
   "outputs": [],
   "source": []
  },
  {
   "cell_type": "code",
   "execution_count": null,
   "id": "122f3dd8-3f81-4280-ad01-e8c5afd28113",
   "metadata": {},
   "outputs": [],
   "source": []
  }
 ],
 "metadata": {
  "kernelspec": {
   "display_name": "Python 3 (ipykernel)",
   "language": "python",
   "name": "python3"
  },
  "language_info": {
   "codemirror_mode": {
    "name": "ipython",
    "version": 3
   },
   "file_extension": ".py",
   "mimetype": "text/x-python",
   "name": "python",
   "nbconvert_exporter": "python",
   "pygments_lexer": "ipython3",
   "version": "3.11.7"
  }
 },
 "nbformat": 4,
 "nbformat_minor": 5
}
