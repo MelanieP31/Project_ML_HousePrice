{
 "cells": [
  {
   "cell_type": "markdown",
   "id": "5e752056-9a95-4155-8ad2-2b9b33608029",
   "metadata": {
    "tags": []
   },
   "source": [
    "# House and Appartement pricing in Haute_Garonne (31)"
   ]
  },
  {
   "cell_type": "markdown",
   "id": "c67de74c-0dcc-4fc6-815b-0ab33937c0c2",
   "metadata": {},
   "source": [
    "The goal is to fecth data from data.gouv.fr of the house sell in the department 31 for finding some patterns and deploy a model to predict the value of an house or appartment.\n",
    " \n",
    "---\n",
    "The notebook is separated like that : \\\n",
    "1 - Necessary importation  \n",
    "2 - Recuperation the data (.csv) from the first Notebook  \n",
    "3 - Analysis for Outliers determination   \n",
    "4 - Feature Engeneering for Machine Learning  \n",
    "5 - Test Model : GridSearch - ElasticNet - Random Forest  \n",
    "\\\n",
    "7 - Prediction Model\n",
    "\n",
    "\n",
    "---  \n",
    "* valeur_fonciere : value the house as been sold (euros)\n",
    "* code_postal :\n",
    "* surface_reelle_bati\n",
    "* nombre_pieces_principales :\n",
    "* surface_terrain : total surface, cadestral value (m²)\n",
    "* exterieur : 0 if no surface outside, else 1"
   ]
  },
  {
   "cell_type": "markdown",
   "id": "dcd93542-bd09-4d43-a7ad-2dab486e5a5b",
   "metadata": {
    "tags": []
   },
   "source": [
    "## Importation"
   ]
  },
  {
   "cell_type": "code",
   "execution_count": 3,
   "id": "d8dc733e-9890-45ce-9f55-d04aa3534f15",
   "metadata": {
    "tags": []
   },
   "outputs": [],
   "source": [
    "import os\n",
    "import uuid\n",
    "import requests\n",
    "from bs4 import BeautifulSoup\n",
    "from urllib.parse import urljoin\n",
    "\n",
    "import pandas as pd\n",
    "import numpy as np\n",
    "import seaborn as sns\n",
    "import matplotlib.pyplot as plt\n",
    "import time\n",
    "import scipy.stats as stats"
   ]
  },
  {
   "cell_type": "markdown",
   "id": "3ae137b2-8d6a-4793-9b53-7ef43a123eef",
   "metadata": {
    "jp-MarkdownHeadingCollapsed": true,
    "tags": []
   },
   "source": [
    "## Read Data"
   ]
  },
  {
   "cell_type": "code",
   "execution_count": 197,
   "id": "59fe0e78-7c75-4fab-9d5b-3139ca615b7d",
   "metadata": {},
   "outputs": [],
   "source": [
    "df = pd.read_csv(\"HousePrice_Tls_2021_2023.csv\")"
   ]
  },
  {
   "cell_type": "code",
   "execution_count": 151,
   "id": "0245666a-6d21-4db1-ad47-728f30b6d8c7",
   "metadata": {},
   "outputs": [
    {
     "data": {
      "text/html": [
       "<div>\n",
       "<style scoped>\n",
       "    .dataframe tbody tr th:only-of-type {\n",
       "        vertical-align: middle;\n",
       "    }\n",
       "\n",
       "    .dataframe tbody tr th {\n",
       "        vertical-align: top;\n",
       "    }\n",
       "\n",
       "    .dataframe thead th {\n",
       "        text-align: right;\n",
       "    }\n",
       "</style>\n",
       "<table border=\"1\" class=\"dataframe\">\n",
       "  <thead>\n",
       "    <tr style=\"text-align: right;\">\n",
       "      <th></th>\n",
       "      <th>valeur_fonciere</th>\n",
       "      <th>code_postal</th>\n",
       "      <th>surface_reelle_bati</th>\n",
       "      <th>nombre_pieces_principales</th>\n",
       "      <th>surface_terrain</th>\n",
       "      <th>exterieur</th>\n",
       "    </tr>\n",
       "  </thead>\n",
       "  <tbody>\n",
       "    <tr>\n",
       "      <th>0</th>\n",
       "      <td>277000.0</td>\n",
       "      <td>31800.0</td>\n",
       "      <td>180.0</td>\n",
       "      <td>5.0</td>\n",
       "      <td>2248.0</td>\n",
       "      <td>1</td>\n",
       "    </tr>\n",
       "    <tr>\n",
       "      <th>1</th>\n",
       "      <td>220900.0</td>\n",
       "      <td>31800.0</td>\n",
       "      <td>129.0</td>\n",
       "      <td>4.0</td>\n",
       "      <td>500.0</td>\n",
       "      <td>1</td>\n",
       "    </tr>\n",
       "    <tr>\n",
       "      <th>2</th>\n",
       "      <td>154600.0</td>\n",
       "      <td>31510.0</td>\n",
       "      <td>60.0</td>\n",
       "      <td>3.0</td>\n",
       "      <td>555.0</td>\n",
       "      <td>1</td>\n",
       "    </tr>\n",
       "    <tr>\n",
       "      <th>3</th>\n",
       "      <td>18000.0</td>\n",
       "      <td>31510.0</td>\n",
       "      <td>20.0</td>\n",
       "      <td>0.0</td>\n",
       "      <td>40.0</td>\n",
       "      <td>1</td>\n",
       "    </tr>\n",
       "    <tr>\n",
       "      <th>4</th>\n",
       "      <td>248000.0</td>\n",
       "      <td>31190.0</td>\n",
       "      <td>92.0</td>\n",
       "      <td>4.0</td>\n",
       "      <td>528.0</td>\n",
       "      <td>1</td>\n",
       "    </tr>\n",
       "  </tbody>\n",
       "</table>\n",
       "</div>"
      ],
      "text/plain": [
       "   valeur_fonciere  code_postal  surface_reelle_bati  \\\n",
       "0         277000.0      31800.0                180.0   \n",
       "1         220900.0      31800.0                129.0   \n",
       "2         154600.0      31510.0                 60.0   \n",
       "3          18000.0      31510.0                 20.0   \n",
       "4         248000.0      31190.0                 92.0   \n",
       "\n",
       "   nombre_pieces_principales  surface_terrain  exterieur  \n",
       "0                        5.0           2248.0          1  \n",
       "1                        4.0            500.0          1  \n",
       "2                        3.0            555.0          1  \n",
       "3                        0.0             40.0          1  \n",
       "4                        4.0            528.0          1  "
      ]
     },
     "execution_count": 151,
     "metadata": {},
     "output_type": "execute_result"
    }
   ],
   "source": [
    "df.head()"
   ]
  },
  {
   "cell_type": "code",
   "execution_count": 153,
   "id": "d54d3c27-1662-4bbb-91bc-5b611769eb9e",
   "metadata": {
    "tags": []
   },
   "outputs": [
    {
     "name": "stdout",
     "output_type": "stream",
     "text": [
      "<class 'pandas.core.frame.DataFrame'>\n",
      "RangeIndex: 31278 entries, 0 to 31277\n",
      "Data columns (total 6 columns):\n",
      " #   Column                     Non-Null Count  Dtype  \n",
      "---  ------                     --------------  -----  \n",
      " 0   valeur_fonciere            31278 non-null  float64\n",
      " 1   code_postal                31278 non-null  float64\n",
      " 2   surface_reelle_bati        31278 non-null  float64\n",
      " 3   nombre_pieces_principales  31278 non-null  float64\n",
      " 4   surface_terrain            31278 non-null  float64\n",
      " 5   exterieur                  31278 non-null  int64  \n",
      "dtypes: float64(5), int64(1)\n",
      "memory usage: 1.4 MB\n"
     ]
    }
   ],
   "source": [
    "df.info()"
   ]
  },
  {
   "cell_type": "markdown",
   "id": "27039bf2-f009-45b2-9f4e-d720598c738a",
   "metadata": {
    "jp-MarkdownHeadingCollapsed": true,
    "tags": []
   },
   "source": [
    "## Analysis for outliers determination"
   ]
  },
  {
   "cell_type": "markdown",
   "id": "a9c31293-554c-4429-9ad3-a7b848079858",
   "metadata": {
    "tags": []
   },
   "source": [
    "### Analysis"
   ]
  },
  {
   "cell_type": "code",
   "execution_count": 155,
   "id": "5b0c2c43-a424-42e6-8b9f-6fd32bbc82ba",
   "metadata": {
    "tags": []
   },
   "outputs": [
    {
     "data": {
      "text/plain": [
       "count    3.127800e+04\n",
       "mean     3.123052e+05\n",
       "std      2.780479e+05\n",
       "min      1.000000e+00\n",
       "25%      1.917050e+05\n",
       "50%      2.760000e+05\n",
       "75%      3.750000e+05\n",
       "max      1.865382e+07\n",
       "Name: valeur_fonciere, dtype: float64"
      ]
     },
     "execution_count": 155,
     "metadata": {},
     "output_type": "execute_result"
    }
   ],
   "source": [
    "df['valeur_fonciere'].describe()"
   ]
  },
  {
   "cell_type": "code",
   "execution_count": 199,
   "id": "3e036479-ea5a-40a6-8bca-1c2b186bf257",
   "metadata": {
    "tags": []
   },
   "outputs": [],
   "source": [
    "df['price_mcarre'] = df['valeur_fonciere']/df['surface_reelle_bati']"
   ]
  },
  {
   "cell_type": "code",
   "execution_count": 159,
   "id": "b7908c77-ab49-422b-87b5-f239dde667c6",
   "metadata": {
    "tags": []
   },
   "outputs": [
    {
     "name": "stderr",
     "output_type": "stream",
     "text": [
      "C:\\Users\\melan\\anaconda3\\Lib\\site-packages\\seaborn\\_oldcore.py:1119: FutureWarning: use_inf_as_na option is deprecated and will be removed in a future version. Convert inf values to NaN before operating instead.\n",
      "  with pd.option_context('mode.use_inf_as_na', True):\n",
      "C:\\Users\\melan\\anaconda3\\Lib\\site-packages\\seaborn\\_oldcore.py:1119: FutureWarning: use_inf_as_na option is deprecated and will be removed in a future version. Convert inf values to NaN before operating instead.\n",
      "  with pd.option_context('mode.use_inf_as_na', True):\n"
     ]
    },
    {
     "data": {
      "image/png": "[encoded data removed]",
      "text/plain": [
       "<Figure size 1600x800 with 4 Axes>"
      ]
     },
     "metadata": {},
     "output_type": "display_data"
    }
   ],
   "source": [
    "fig, axes = plt.subplots(2,2,figsize=(16, 8))\n",
    "\n",
    "sns.boxplot(x=df['valeur_fonciere'], ax=axes[0][0])\n",
    "axes[0][0].set_xlabel('House Price (€)')\n",
    "axes[0][0].set_title('Boxplot of House Price')\n",
    "\n",
    "sns.boxplot(x=df['price_mcarre'], ax=axes[0][1])\n",
    "axes[0][1].set_xlabel('House Price per m² (€)')\n",
    "axes[0][1].set_title('Boxplot of House Price per m²')\n",
    "\n",
    "sns.histplot(df['valeur_fonciere'], bins=100, kde=True,ax=axes[1][0])\n",
    "axes[1][0].set_xlabel('House Price (€)')\n",
    "axes[1][0].set_ylabel('Frequence')\n",
    "axes[1][0].set_title('Distribution of House Price')\n",
    "\n",
    "sns.histplot(df['price_mcarre'], bins=100, kde=True,ax=axes[1][1])\n",
    "axes[1][1].set_xlabel('House Price per m² (€)')\n",
    "axes[1][1].set_ylabel('Frequence')\n",
    "axes[1][1].set_title('Distribution of House Price per m²')\n",
    "\n",
    "fig.suptitle('Distribution of House Price')  \n",
    "plt.tight_layout()\n",
    "plt.show()"
   ]
  },
  {
   "cell_type": "markdown",
   "id": "3dbded2d-3305-4541-b782-9d88c4517a24",
   "metadata": {
    "tags": []
   },
   "source": [
    "### Outliers"
   ]
  },
  {
   "cell_type": "markdown",
   "id": "b9d9e5e0-fa94-4036-a04b-2ae18673ef16",
   "metadata": {
    "tags": []
   },
   "source": [
    "##### Par Prix"
   ]
  },
  {
   "cell_type": "code",
   "execution_count": 201,
   "id": "163b1c55-dc55-4c7a-b58d-2d8e131ff3e2",
   "metadata": {},
   "outputs": [],
   "source": [
    "def find_outliers(df):\n",
    "    q1 = df.quantile(0.25)\n",
    "    q3 = df.quantile(0.75)\n",
    "    IQR = q3-q1\n",
    "    outliers=df[((df<(q1-1.5*IQR)) | (df>(q3 + 1.5*IQR)))]\n",
    "    return outliers "
   ]
  },
  {
   "cell_type": "code",
   "execution_count": 203,
   "id": "76c9e43e-6438-4ce5-b084-0c7ddcf6f75b",
   "metadata": {
    "tags": []
   },
   "outputs": [],
   "source": [
    "outliers_valeur_fonciere = pd.DataFrame(find_outliers(df['valeur_fonciere']))"
   ]
  },
  {
   "cell_type": "code",
   "execution_count": 227,
   "id": "e8b3ac27-8241-4180-83fb-c340c70c291a",
   "metadata": {},
   "outputs": [
    {
     "data": {
      "text/plain": [
       "1445"
      ]
     },
     "execution_count": 227,
     "metadata": {},
     "output_type": "execute_result"
    }
   ],
   "source": [
    "index_outliers_valeur_fonciere = outliers_valeur_fonciere.index\n",
    "len(index_outliers_valeur_fonciere)"
   ]
  },
  {
   "cell_type": "code",
   "execution_count": 229,
   "id": "c79da189-e3ab-40f1-b485-8c45e4e316c5",
   "metadata": {},
   "outputs": [],
   "source": [
    "df = df.drop(index=index_outliers_valeur_fonciere)"
   ]
  },
  {
   "cell_type": "code",
   "execution_count": 233,
   "id": "8a70edb0-183c-4baa-ac98-173ac650b4dc",
   "metadata": {
    "tags": []
   },
   "outputs": [
    {
     "data": {
      "text/plain": [
       "649700.0"
      ]
     },
     "execution_count": 233,
     "metadata": {},
     "output_type": "execute_result"
    }
   ],
   "source": [
    "df['valeur_fonciere'].max()"
   ]
  },
  {
   "cell_type": "code",
   "execution_count": 235,
   "id": "31e190a5-1b23-4211-9288-fedcc4f1153d",
   "metadata": {
    "tags": []
   },
   "outputs": [],
   "source": [
    "#supprimer les dons ou maison exceptionnellement peu chere.\n",
    "df = df[df['valeur_fonciere']>20000]"
   ]
  },
  {
   "cell_type": "code",
   "execution_count": 237,
   "id": "9cf4cbd1-b20f-4bc5-8dd6-69613bbd9e84",
   "metadata": {
    "tags": []
   },
   "outputs": [
    {
     "data": {
      "text/plain": [
       "count    29623.000000\n",
       "mean      2783.021245\n",
       "std       1335.302236\n",
       "min         87.037037\n",
       "25%       2007.435047\n",
       "50%       2740.227273\n",
       "75%       3379.259133\n",
       "max      38133.333333\n",
       "Name: price_mcarre, dtype: float64"
      ]
     },
     "execution_count": 237,
     "metadata": {},
     "output_type": "execute_result"
    }
   ],
   "source": [
    "# prix immobilier 31 : prix bas le plus bas (31800) : 715 euros/m², prix haut : 4 409 euros/m², moyenne : 2 939 euros/m² (seloger.com)\n",
    "df['price_mcarre'].describe()"
   ]
  },
  {
   "cell_type": "code",
   "execution_count": 239,
   "id": "a4215f4c-6735-495e-bdff-7425f408fe6c",
   "metadata": {
    "tags": []
   },
   "outputs": [],
   "source": [
    "df = df[(df['price_mcarre']>700)&(df['price_mcarre']<5500)]"
   ]
  },
  {
   "cell_type": "code",
   "execution_count": 241,
   "id": "f663d962-e525-40d4-806e-cacf9498e495",
   "metadata": {
    "tags": []
   },
   "outputs": [
    {
     "data": {
      "text/html": [
       "<div>\n",
       "<style scoped>\n",
       "    .dataframe tbody tr th:only-of-type {\n",
       "        vertical-align: middle;\n",
       "    }\n",
       "\n",
       "    .dataframe tbody tr th {\n",
       "        vertical-align: top;\n",
       "    }\n",
       "\n",
       "    .dataframe thead th {\n",
       "        text-align: right;\n",
       "    }\n",
       "</style>\n",
       "<table border=\"1\" class=\"dataframe\">\n",
       "  <thead>\n",
       "    <tr style=\"text-align: right;\">\n",
       "      <th></th>\n",
       "      <th>valeur_fonciere</th>\n",
       "      <th>code_postal</th>\n",
       "      <th>surface_reelle_bati</th>\n",
       "      <th>nombre_pieces_principales</th>\n",
       "      <th>surface_terrain</th>\n",
       "      <th>exterieur</th>\n",
       "      <th>price_mcarre</th>\n",
       "    </tr>\n",
       "  </thead>\n",
       "  <tbody>\n",
       "    <tr>\n",
       "      <th>0</th>\n",
       "      <td>277000.0</td>\n",
       "      <td>31800.0</td>\n",
       "      <td>180.0</td>\n",
       "      <td>5.0</td>\n",
       "      <td>2248.0</td>\n",
       "      <td>1</td>\n",
       "      <td>1538.888889</td>\n",
       "    </tr>\n",
       "    <tr>\n",
       "      <th>1</th>\n",
       "      <td>220900.0</td>\n",
       "      <td>31800.0</td>\n",
       "      <td>129.0</td>\n",
       "      <td>4.0</td>\n",
       "      <td>500.0</td>\n",
       "      <td>1</td>\n",
       "      <td>1712.403101</td>\n",
       "    </tr>\n",
       "    <tr>\n",
       "      <th>2</th>\n",
       "      <td>154600.0</td>\n",
       "      <td>31510.0</td>\n",
       "      <td>60.0</td>\n",
       "      <td>3.0</td>\n",
       "      <td>555.0</td>\n",
       "      <td>1</td>\n",
       "      <td>2576.666667</td>\n",
       "    </tr>\n",
       "    <tr>\n",
       "      <th>3</th>\n",
       "      <td>248000.0</td>\n",
       "      <td>31190.0</td>\n",
       "      <td>92.0</td>\n",
       "      <td>4.0</td>\n",
       "      <td>528.0</td>\n",
       "      <td>1</td>\n",
       "      <td>2695.652174</td>\n",
       "    </tr>\n",
       "    <tr>\n",
       "      <th>4</th>\n",
       "      <td>268000.0</td>\n",
       "      <td>31190.0</td>\n",
       "      <td>88.0</td>\n",
       "      <td>4.0</td>\n",
       "      <td>1370.0</td>\n",
       "      <td>1</td>\n",
       "      <td>3045.454545</td>\n",
       "    </tr>\n",
       "    <tr>\n",
       "      <th>...</th>\n",
       "      <td>...</td>\n",
       "      <td>...</td>\n",
       "      <td>...</td>\n",
       "      <td>...</td>\n",
       "      <td>...</td>\n",
       "      <td>...</td>\n",
       "      <td>...</td>\n",
       "    </tr>\n",
       "    <tr>\n",
       "      <th>27997</th>\n",
       "      <td>124250.0</td>\n",
       "      <td>31390.0</td>\n",
       "      <td>160.0</td>\n",
       "      <td>5.0</td>\n",
       "      <td>1334.0</td>\n",
       "      <td>1</td>\n",
       "      <td>776.562500</td>\n",
       "    </tr>\n",
       "    <tr>\n",
       "      <th>27998</th>\n",
       "      <td>249000.0</td>\n",
       "      <td>31390.0</td>\n",
       "      <td>87.0</td>\n",
       "      <td>4.0</td>\n",
       "      <td>804.0</td>\n",
       "      <td>1</td>\n",
       "      <td>2862.068966</td>\n",
       "    </tr>\n",
       "    <tr>\n",
       "      <th>27999</th>\n",
       "      <td>230000.0</td>\n",
       "      <td>31390.0</td>\n",
       "      <td>100.0</td>\n",
       "      <td>5.0</td>\n",
       "      <td>2937.0</td>\n",
       "      <td>1</td>\n",
       "      <td>2300.000000</td>\n",
       "    </tr>\n",
       "    <tr>\n",
       "      <th>28000</th>\n",
       "      <td>338000.0</td>\n",
       "      <td>31390.0</td>\n",
       "      <td>108.0</td>\n",
       "      <td>4.0</td>\n",
       "      <td>705.0</td>\n",
       "      <td>1</td>\n",
       "      <td>3129.629630</td>\n",
       "    </tr>\n",
       "    <tr>\n",
       "      <th>28001</th>\n",
       "      <td>216000.0</td>\n",
       "      <td>31390.0</td>\n",
       "      <td>129.0</td>\n",
       "      <td>6.0</td>\n",
       "      <td>80.0</td>\n",
       "      <td>1</td>\n",
       "      <td>1674.418605</td>\n",
       "    </tr>\n",
       "  </tbody>\n",
       "</table>\n",
       "<p>28002 rows × 7 columns</p>\n",
       "</div>"
      ],
      "text/plain": [
       "       valeur_fonciere  code_postal  surface_reelle_bati  \\\n",
       "0             277000.0      31800.0                180.0   \n",
       "1             220900.0      31800.0                129.0   \n",
       "2             154600.0      31510.0                 60.0   \n",
       "3             248000.0      31190.0                 92.0   \n",
       "4             268000.0      31190.0                 88.0   \n",
       "...                ...          ...                  ...   \n",
       "27997         124250.0      31390.0                160.0   \n",
       "27998         249000.0      31390.0                 87.0   \n",
       "27999         230000.0      31390.0                100.0   \n",
       "28000         338000.0      31390.0                108.0   \n",
       "28001         216000.0      31390.0                129.0   \n",
       "\n",
       "       nombre_pieces_principales  surface_terrain  exterieur  price_mcarre  \n",
       "0                            5.0           2248.0          1   1538.888889  \n",
       "1                            4.0            500.0          1   1712.403101  \n",
       "2                            3.0            555.0          1   2576.666667  \n",
       "3                            4.0            528.0          1   2695.652174  \n",
       "4                            4.0           1370.0          1   3045.454545  \n",
       "...                          ...              ...        ...           ...  \n",
       "27997                        5.0           1334.0          1    776.562500  \n",
       "27998                        4.0            804.0          1   2862.068966  \n",
       "27999                        5.0           2937.0          1   2300.000000  \n",
       "28000                        4.0            705.0          1   3129.629630  \n",
       "28001                        6.0             80.0          1   1674.418605  \n",
       "\n",
       "[28002 rows x 7 columns]"
      ]
     },
     "execution_count": 241,
     "metadata": {},
     "output_type": "execute_result"
    }
   ],
   "source": [
    "df = df.reset_index(drop=True)\n",
    "df"
   ]
  },
  {
   "cell_type": "code",
   "execution_count": 243,
   "id": "70d9aa65-943e-4615-bea4-ee130a79908a",
   "metadata": {
    "tags": []
   },
   "outputs": [
    {
     "data": {
      "text/plain": [
       "count     28002.000000\n",
       "mean     282104.397672\n",
       "std      120424.510645\n",
       "min       22000.000000\n",
       "25%      195000.000000\n",
       "50%      270500.000000\n",
       "75%      354000.000000\n",
       "max      649700.000000\n",
       "Name: valeur_fonciere, dtype: float64"
      ]
     },
     "execution_count": 243,
     "metadata": {},
     "output_type": "execute_result"
    }
   ],
   "source": [
    "df['valeur_fonciere'].describe()"
   ]
  },
  {
   "cell_type": "markdown",
   "id": "b8959881-d3f7-40e6-acdf-81eada73590a",
   "metadata": {
    "tags": []
   },
   "source": [
    "##### Par surface"
   ]
  },
  {
   "cell_type": "code",
   "execution_count": 245,
   "id": "ba6d67dd-7cb0-4ace-837b-b4514a49fbe1",
   "metadata": {
    "tags": []
   },
   "outputs": [],
   "source": [
    "df = df[df['surface_reelle_bati']>30]"
   ]
  },
  {
   "cell_type": "code",
   "execution_count": 247,
   "id": "fe9a0f7d-917c-4492-b00d-c940922a42fc",
   "metadata": {
    "tags": []
   },
   "outputs": [
    {
     "name": "stderr",
     "output_type": "stream",
     "text": [
      "C:\\Users\\melan\\AppData\\Local\\Temp\\ipykernel_10680\\1431247525.py:1: SettingWithCopyWarning: \n",
      "A value is trying to be set on a copy of a slice from a DataFrame.\n",
      "Try using .loc[row_indexer,col_indexer] = value instead\n",
      "\n",
      "See the caveats in the documentation: https://pandas.pydata.org/pandas-docs/stable/user_guide/indexing.html#returning-a-view-versus-a-copy\n",
      "  df['taille_per_piece'] = df['surface_reelle_bati']/df['nombre_pieces_principales']\n"
     ]
    }
   ],
   "source": [
    "df['taille_per_piece'] = df['surface_reelle_bati']/df['nombre_pieces_principales']"
   ]
  },
  {
   "cell_type": "code",
   "execution_count": 249,
   "id": "5849de7e-6f36-4302-be88-da826b180afc",
   "metadata": {
    "tags": []
   },
   "outputs": [],
   "source": [
    "df = df[df['taille_per_piece']>10]"
   ]
  },
  {
   "cell_type": "code",
   "execution_count": 251,
   "id": "f70fe15e-2926-4160-9868-af55b0611e7a",
   "metadata": {
    "tags": []
   },
   "outputs": [
    {
     "data": {
      "image/png": "[encoded data removed]",
      "text/plain": [
       "<Figure size 1500x500 with 3 Axes>"
      ]
     },
     "metadata": {},
     "output_type": "display_data"
    }
   ],
   "source": [
    "fig, axes = plt.subplots(nrows=1, ncols=3, figsize=(15, 5))\n",
    "\n",
    "sns.scatterplot(data=df, x='valeur_fonciere', y='surface_reelle_bati', ax=axes[0])\n",
    "axes[0].set_title('Valeur Fonciere vs Surface Réelle Bâtie')\n",
    "axes[0].axhline(y=400,color='red', linestyle='--')\n",
    "\n",
    "sns.scatterplot(data=df, x='valeur_fonciere', y='surface_terrain', ax=axes[1])\n",
    "axes[1].set_title('Valeur Fonciere vs Surface Terrain')\n",
    "axes[1].axhline(y=10000,color='red', linestyle='--')\n",
    "\n",
    "sns.scatterplot(data=df, x='valeur_fonciere', y='nombre_pieces_principales', ax=axes[2])\n",
    "axes[2].set_title('Valeur Fonciere vs Nombre de Pièces Principales')\n",
    "axes[2].axhline(y=11,color='red', linestyle='--')\n",
    "\n",
    "fig.suptitle('Analyse de la Valeur Fonciere without outliers', fontsize=16)\n",
    "plt.tight_layout(rect=[0, 0, 1, 0.95]) \n",
    "plt.show()"
   ]
  },
  {
   "cell_type": "code",
   "execution_count": 253,
   "id": "65e5af9a-fdd0-48d9-8e62-0f1143fee793",
   "metadata": {
    "tags": []
   },
   "outputs": [],
   "source": [
    "drop_ind_bati = df[(df['surface_reelle_bati']>400)].index\n",
    "drop_ind_terrain = df[(df['surface_terrain']>10000)].index\n",
    "drop_ind_piece = df[(df['nombre_pieces_principales']>11)].index\n",
    "\n",
    "drop_indices = drop_ind_bati.union(drop_ind_terrain).union(drop_ind_piece)\n",
    "\n",
    "df= df.drop(drop_indices,axis=0)"
   ]
  },
  {
   "cell_type": "markdown",
   "id": "a81b46eb-65de-49a5-ada5-80c01ace10a8",
   "metadata": {},
   "source": [
    "#### Value final"
   ]
  },
  {
   "cell_type": "code",
   "execution_count": 255,
   "id": "bd77803a-facd-4cef-b94d-4eb723d85c67",
   "metadata": {
    "tags": []
   },
   "outputs": [
    {
     "name": "stderr",
     "output_type": "stream",
     "text": [
      "C:\\Users\\melan\\anaconda3\\Lib\\site-packages\\seaborn\\_oldcore.py:1119: FutureWarning: use_inf_as_na option is deprecated and will be removed in a future version. Convert inf values to NaN before operating instead.\n",
      "  with pd.option_context('mode.use_inf_as_na', True):\n",
      "C:\\Users\\melan\\anaconda3\\Lib\\site-packages\\seaborn\\_oldcore.py:1119: FutureWarning: use_inf_as_na option is deprecated and will be removed in a future version. Convert inf values to NaN before operating instead.\n",
      "  with pd.option_context('mode.use_inf_as_na', True):\n"
     ]
    },
    {
     "data": {
      "image/png": "[encoded data removed]",
      "text/plain": [
       "<Figure size 1600x800 with 4 Axes>"
      ]
     },
     "metadata": {},
     "output_type": "display_data"
    }
   ],
   "source": [
    "fig, axes = plt.subplots(2,2,figsize=(16, 8))\n",
    "\n",
    "sns.boxplot(x=df['valeur_fonciere'], ax=axes[0][0])\n",
    "axes[0][0].set_xlabel('House Price (€)')\n",
    "axes[0][0].set_title('Boxplot of House Price')\n",
    "\n",
    "sns.boxplot(x=df['price_mcarre'], ax=axes[0][1])\n",
    "axes[0][1].set_xlabel('House Price per m² (€)')\n",
    "axes[0][1].set_title('Boxplot of House Price per m²')\n",
    "\n",
    "sns.histplot(df['valeur_fonciere'], bins=100, kde=True,ax=axes[1][0])\n",
    "axes[1][0].set_xlabel('House Price (€)')\n",
    "axes[1][0].set_ylabel('Frequence')\n",
    "axes[1][0].set_title('Distribution of House Price')\n",
    "\n",
    "sns.histplot(df['price_mcarre'], bins=100, kde=True,ax=axes[1][1])\n",
    "axes[1][1].set_xlabel('House Price per m² (€)')\n",
    "axes[1][1].set_ylabel('Frequence')\n",
    "axes[1][1].set_title('Distribution of House Price per m²')\n",
    "\n",
    "fig.suptitle('Distribution of House Price')  \n",
    "plt.tight_layout()\n",
    "plt.show()"
   ]
  },
  {
   "cell_type": "code",
   "execution_count": 257,
   "id": "fc704440-6e9b-4676-98af-7e9ab63c18c2",
   "metadata": {},
   "outputs": [],
   "source": [
    "df = df.drop(['price_mcarre','taille_per_piece'],axis=1)"
   ]
  },
  {
   "cell_type": "code",
   "execution_count": 259,
   "id": "2f31c30b-224a-4c60-b3fc-bc3f0f73877d",
   "metadata": {},
   "outputs": [],
   "source": [
    "df.to_csv('HousePrice_cleaned.csv',index=False)"
   ]
  },
  {
   "cell_type": "markdown",
   "id": "2a0818ae-f696-4175-b6de-acc9803835cc",
   "metadata": {
    "jp-MarkdownHeadingCollapsed": true,
    "tags": []
   },
   "source": [
    "## EDA"
   ]
  },
  {
   "cell_type": "code",
   "execution_count": 261,
   "id": "08f48169-9864-43ce-8bdd-d714d8c225df",
   "metadata": {
    "tags": []
   },
   "outputs": [],
   "source": [
    "df = pd.read_csv('HousePrice_cleaned.csv')"
   ]
  },
  {
   "cell_type": "markdown",
   "id": "51181444-aad7-4c83-aa2f-004f99af4dbc",
   "metadata": {
    "jp-MarkdownHeadingCollapsed": true,
    "tags": []
   },
   "source": [
    "### Correlation"
   ]
  },
  {
   "cell_type": "code",
   "execution_count": 263,
   "id": "ed808b07-c847-4e03-af46-238ddc23cd9f",
   "metadata": {
    "tags": []
   },
   "outputs": [
    {
     "data": {
      "text/html": [
       "<style type=\"text/css\">\n",
       "#T_2ec3d_row0_col0, #T_2ec3d_row1_col1, #T_2ec3d_row2_col2, #T_2ec3d_row3_col3, #T_2ec3d_row4_col4, #T_2ec3d_row5_col5 {\n",
       "  background-color: #b40426;\n",
       "  color: #f1f1f1;\n",
       "}\n",
       "#T_2ec3d_row0_col1 {\n",
       "  background-color: #3c4ec2;\n",
       "  color: #f1f1f1;\n",
       "}\n",
       "#T_2ec3d_row0_col2 {\n",
       "  background-color: #e1dad6;\n",
       "  color: #000000;\n",
       "}\n",
       "#T_2ec3d_row0_col3, #T_2ec3d_row3_col0 {\n",
       "  background-color: #c9d7f0;\n",
       "  color: #000000;\n",
       "}\n",
       "#T_2ec3d_row0_col4 {\n",
       "  background-color: #6282ea;\n",
       "  color: #f1f1f1;\n",
       "}\n",
       "#T_2ec3d_row0_col5 {\n",
       "  background-color: #5572df;\n",
       "  color: #f1f1f1;\n",
       "}\n",
       "#T_2ec3d_row1_col0, #T_2ec3d_row1_col2, #T_2ec3d_row1_col3, #T_2ec3d_row1_col4, #T_2ec3d_row1_col5, #T_2ec3d_row2_col1, #T_2ec3d_row5_col1 {\n",
       "  background-color: #3b4cc0;\n",
       "  color: #f1f1f1;\n",
       "}\n",
       "#T_2ec3d_row2_col0 {\n",
       "  background-color: #e0dbd8;\n",
       "  color: #000000;\n",
       "}\n",
       "#T_2ec3d_row2_col3 {\n",
       "  background-color: #f7ba9f;\n",
       "  color: #000000;\n",
       "}\n",
       "#T_2ec3d_row2_col4 {\n",
       "  background-color: #93b5fe;\n",
       "  color: #000000;\n",
       "}\n",
       "#T_2ec3d_row2_col5 {\n",
       "  background-color: #6180e9;\n",
       "  color: #f1f1f1;\n",
       "}\n",
       "#T_2ec3d_row3_col1 {\n",
       "  background-color: #3d50c3;\n",
       "  color: #f1f1f1;\n",
       "}\n",
       "#T_2ec3d_row3_col2 {\n",
       "  background-color: #f7b99e;\n",
       "  color: #000000;\n",
       "}\n",
       "#T_2ec3d_row3_col4 {\n",
       "  background-color: #5a78e4;\n",
       "  color: #f1f1f1;\n",
       "}\n",
       "#T_2ec3d_row3_col5 {\n",
       "  background-color: #4e68d8;\n",
       "  color: #f1f1f1;\n",
       "}\n",
       "#T_2ec3d_row4_col0 {\n",
       "  background-color: #688aef;\n",
       "  color: #f1f1f1;\n",
       "}\n",
       "#T_2ec3d_row4_col1 {\n",
       "  background-color: #4257c9;\n",
       "  color: #f1f1f1;\n",
       "}\n",
       "#T_2ec3d_row4_col2 {\n",
       "  background-color: #9abbff;\n",
       "  color: #000000;\n",
       "}\n",
       "#T_2ec3d_row4_col3, #T_2ec3d_row5_col2 {\n",
       "  background-color: #5f7fe8;\n",
       "  color: #f1f1f1;\n",
       "}\n",
       "#T_2ec3d_row4_col5 {\n",
       "  background-color: #90b2fe;\n",
       "  color: #000000;\n",
       "}\n",
       "#T_2ec3d_row5_col0 {\n",
       "  background-color: #5470de;\n",
       "  color: #f1f1f1;\n",
       "}\n",
       "#T_2ec3d_row5_col3 {\n",
       "  background-color: #4b64d5;\n",
       "  color: #f1f1f1;\n",
       "}\n",
       "#T_2ec3d_row5_col4 {\n",
       "  background-color: #89acfd;\n",
       "  color: #000000;\n",
       "}\n",
       "</style>\n",
       "<table id=\"T_2ec3d\">\n",
       "  <thead>\n",
       "    <tr>\n",
       "      <th class=\"blank level0\" >&nbsp;</th>\n",
       "      <th id=\"T_2ec3d_level0_col0\" class=\"col_heading level0 col0\" >valeur_fonciere</th>\n",
       "      <th id=\"T_2ec3d_level0_col1\" class=\"col_heading level0 col1\" >code_postal</th>\n",
       "      <th id=\"T_2ec3d_level0_col2\" class=\"col_heading level0 col2\" >surface_reelle_bati</th>\n",
       "      <th id=\"T_2ec3d_level0_col3\" class=\"col_heading level0 col3\" >nombre_pieces_principales</th>\n",
       "      <th id=\"T_2ec3d_level0_col4\" class=\"col_heading level0 col4\" >surface_terrain</th>\n",
       "      <th id=\"T_2ec3d_level0_col5\" class=\"col_heading level0 col5\" >exterieur</th>\n",
       "    </tr>\n",
       "  </thead>\n",
       "  <tbody>\n",
       "    <tr>\n",
       "      <th id=\"T_2ec3d_level0_row0\" class=\"row_heading level0 row0\" >valeur_fonciere</th>\n",
       "      <td id=\"T_2ec3d_row0_col0\" class=\"data row0 col0\" >1.000000</td>\n",
       "      <td id=\"T_2ec3d_row0_col1\" class=\"data row0 col1\" >0.026279</td>\n",
       "      <td id=\"T_2ec3d_row0_col2\" class=\"data row0 col2\" >0.528250</td>\n",
       "      <td id=\"T_2ec3d_row0_col3\" class=\"data row0 col3\" >0.442480</td>\n",
       "      <td id=\"T_2ec3d_row0_col4\" class=\"data row0 col4\" >0.167265</td>\n",
       "      <td id=\"T_2ec3d_row0_col5\" class=\"data row0 col5\" >0.106465</td>\n",
       "    </tr>\n",
       "    <tr>\n",
       "      <th id=\"T_2ec3d_level0_row1\" class=\"row_heading level0 row1\" >code_postal</th>\n",
       "      <td id=\"T_2ec3d_row1_col0\" class=\"data row1 col0\" >0.026279</td>\n",
       "      <td id=\"T_2ec3d_row1_col1\" class=\"data row1 col1\" >1.000000</td>\n",
       "      <td id=\"T_2ec3d_row1_col2\" class=\"data row1 col2\" >0.022012</td>\n",
       "      <td id=\"T_2ec3d_row1_col3\" class=\"data row1 col3\" >0.027798</td>\n",
       "      <td id=\"T_2ec3d_row1_col4\" class=\"data row1 col4\" >0.044344</td>\n",
       "      <td id=\"T_2ec3d_row1_col5\" class=\"data row1 col5\" >0.019101</td>\n",
       "    </tr>\n",
       "    <tr>\n",
       "      <th id=\"T_2ec3d_level0_row2\" class=\"row_heading level0 row2\" >surface_reelle_bati</th>\n",
       "      <td id=\"T_2ec3d_row2_col0\" class=\"data row2 col0\" >0.528250</td>\n",
       "      <td id=\"T_2ec3d_row2_col1\" class=\"data row2 col1\" >0.022012</td>\n",
       "      <td id=\"T_2ec3d_row2_col2\" class=\"data row2 col2\" >1.000000</td>\n",
       "      <td id=\"T_2ec3d_row2_col3\" class=\"data row2 col3\" >0.667684</td>\n",
       "      <td id=\"T_2ec3d_row2_col4\" class=\"data row2 col4\" >0.301898</td>\n",
       "      <td id=\"T_2ec3d_row2_col5\" class=\"data row2 col5\" >0.137926</td>\n",
       "    </tr>\n",
       "    <tr>\n",
       "      <th id=\"T_2ec3d_level0_row3\" class=\"row_heading level0 row3\" >nombre_pieces_principales</th>\n",
       "      <td id=\"T_2ec3d_row3_col0\" class=\"data row3 col0\" >0.442480</td>\n",
       "      <td id=\"T_2ec3d_row3_col1\" class=\"data row3 col1\" >0.027798</td>\n",
       "      <td id=\"T_2ec3d_row3_col2\" class=\"data row3 col2\" >0.667684</td>\n",
       "      <td id=\"T_2ec3d_row3_col3\" class=\"data row3 col3\" >1.000000</td>\n",
       "      <td id=\"T_2ec3d_row3_col4\" class=\"data row3 col4\" >0.144759</td>\n",
       "      <td id=\"T_2ec3d_row3_col5\" class=\"data row3 col5\" >0.081040</td>\n",
       "    </tr>\n",
       "    <tr>\n",
       "      <th id=\"T_2ec3d_level0_row4\" class=\"row_heading level0 row4\" >surface_terrain</th>\n",
       "      <td id=\"T_2ec3d_row4_col0\" class=\"data row4 col0\" >0.167265</td>\n",
       "      <td id=\"T_2ec3d_row4_col1\" class=\"data row4 col1\" >0.044344</td>\n",
       "      <td id=\"T_2ec3d_row4_col2\" class=\"data row4 col2\" >0.301898</td>\n",
       "      <td id=\"T_2ec3d_row4_col3\" class=\"data row4 col3\" >0.144759</td>\n",
       "      <td id=\"T_2ec3d_row4_col4\" class=\"data row4 col4\" >1.000000</td>\n",
       "      <td id=\"T_2ec3d_row4_col5\" class=\"data row4 col5\" >0.274640</td>\n",
       "    </tr>\n",
       "    <tr>\n",
       "      <th id=\"T_2ec3d_level0_row5\" class=\"row_heading level0 row5\" >exterieur</th>\n",
       "      <td id=\"T_2ec3d_row5_col0\" class=\"data row5 col0\" >0.106465</td>\n",
       "      <td id=\"T_2ec3d_row5_col1\" class=\"data row5 col1\" >0.019101</td>\n",
       "      <td id=\"T_2ec3d_row5_col2\" class=\"data row5 col2\" >0.137926</td>\n",
       "      <td id=\"T_2ec3d_row5_col3\" class=\"data row5 col3\" >0.081040</td>\n",
       "      <td id=\"T_2ec3d_row5_col4\" class=\"data row5 col4\" >0.274640</td>\n",
       "      <td id=\"T_2ec3d_row5_col5\" class=\"data row5 col5\" >1.000000</td>\n",
       "    </tr>\n",
       "  </tbody>\n",
       "</table>\n"
      ],
      "text/plain": [
       "<pandas.io.formats.style.Styler at 0x2c3aa2f8590>"
      ]
     },
     "execution_count": 263,
     "metadata": {},
     "output_type": "execute_result"
    }
   ],
   "source": [
    "corr = df.corr(numeric_only = True)\n",
    "corr.style.background_gradient(cmap='coolwarm')"
   ]
  },
  {
   "cell_type": "markdown",
   "id": "9ccc848e-1624-499a-bac4-e3453ebc9ed7",
   "metadata": {
    "tags": []
   },
   "source": [
    "### Filtering by postal code"
   ]
  },
  {
   "cell_type": "code",
   "execution_count": 265,
   "id": "886fe292-9080-4b70-9241-dca44d2f4b91",
   "metadata": {},
   "outputs": [],
   "source": [
    "#ex:\n",
    "df_house_31600 = df[df['code_postal'] == 31600]"
   ]
  },
  {
   "cell_type": "code",
   "execution_count": 267,
   "id": "664938be-71e3-486f-8cac-69e7a0549d0e",
   "metadata": {
    "tags": []
   },
   "outputs": [
    {
     "data": {
      "text/plain": [
       "LinregressResult(slope=0.00021853627720574897, intercept=46.04656914452435, rvalue=0.6427334452180817, pvalue=5.542449053945705e-164, stderr=6.966566483605711e-06, intercept_stderr=2.0273138022537522)"
      ]
     },
     "execution_count": 267,
     "metadata": {},
     "output_type": "execute_result"
    }
   ],
   "source": [
    "stats.linregress(df_house_31600['valeur_fonciere'],df_house_31600['surface_reelle_bati'])"
   ]
  },
  {
   "cell_type": "code",
   "execution_count": 269,
   "id": "0ae237ce-21e3-4830-9345-ba719105fc1c",
   "metadata": {
    "tags": []
   },
   "outputs": [
    {
     "data": {
      "text/plain": [
       "<Axes: xlabel='valeur_fonciere', ylabel='surface_reelle_bati'>"
      ]
     },
     "execution_count": 269,
     "metadata": {},
     "output_type": "execute_result"
    },
    {
     "data": {
      "image/png": "[encoded data removed]",
      "text/plain": [
       "<Figure size 640x480 with 1 Axes>"
      ]
     },
     "metadata": {},
     "output_type": "display_data"
    }
   ],
   "source": [
    "sns.regplot(x=df_house_31600['valeur_fonciere'], y=df_house_31600['surface_reelle_bati'],scatter_kws={'s':2})"
   ]
  },
  {
   "cell_type": "code",
   "execution_count": 271,
   "id": "dc550ecb-1a8b-42f4-b258-60fba42ecb1a",
   "metadata": {},
   "outputs": [],
   "source": [
    "def calculate_correlation(group):\n",
    "    return group['valeur_fonciere'].corr(group['surface_reelle_bati'])"
   ]
  },
  {
   "cell_type": "code",
   "execution_count": 273,
   "id": "421b1533-e33c-445d-9c46-375bdb0ae013",
   "metadata": {
    "tags": []
   },
   "outputs": [
    {
     "data": {
      "text/plain": [
       "81.42857142857143"
      ]
     },
     "execution_count": 273,
     "metadata": {},
     "output_type": "execute_result"
    }
   ],
   "source": [
    "correlation_by_postal_code = df.groupby('code_postal').apply(calculate_correlation)\n",
    "\n",
    "count_above_06 = (correlation_by_postal_code > 0.6).sum()\n",
    "100*count_above_06/len(df['code_postal'].value_counts())"
   ]
  },
  {
   "cell_type": "markdown",
   "id": "8decf062-b8c5-455c-8064-693a7e292809",
   "metadata": {
    "jp-MarkdownHeadingCollapsed": true,
    "tags": []
   },
   "source": [
    "## Feature Engeneering"
   ]
  },
  {
   "cell_type": "code",
   "execution_count": 275,
   "id": "bb6fd62f-535b-406c-8217-5556f4db98b6",
   "metadata": {
    "tags": []
   },
   "outputs": [
    {
     "name": "stdout",
     "output_type": "stream",
     "text": [
      "<class 'pandas.core.frame.DataFrame'>\n",
      "RangeIndex: 27842 entries, 0 to 27841\n",
      "Data columns (total 6 columns):\n",
      " #   Column                     Non-Null Count  Dtype  \n",
      "---  ------                     --------------  -----  \n",
      " 0   valeur_fonciere            27842 non-null  float64\n",
      " 1   code_postal                27842 non-null  float64\n",
      " 2   surface_reelle_bati        27842 non-null  float64\n",
      " 3   nombre_pieces_principales  27842 non-null  float64\n",
      " 4   surface_terrain            27842 non-null  float64\n",
      " 5   exterieur                  27842 non-null  int64  \n",
      "dtypes: float64(5), int64(1)\n",
      "memory usage: 1.3 MB\n"
     ]
    }
   ],
   "source": [
    "df = pd.read_csv('HousePrice_cleaned.csv')\n",
    "df.info()"
   ]
  },
  {
   "cell_type": "code",
   "execution_count": 277,
   "id": "5182d30e-5318-4c71-988e-6fcd0a9a2d19",
   "metadata": {},
   "outputs": [],
   "source": [
    "# Type colonne object (categorie):\n",
    "df['code_postal'] = df['code_postal'].astype(str)\n",
    "df['code_postal'] = df['code_postal'].str.split('.').str[0]"
   ]
  },
  {
   "cell_type": "code",
   "execution_count": 279,
   "id": "039768a7-4c36-4dcc-987f-e86a1c4bce0b",
   "metadata": {
    "tags": []
   },
   "outputs": [],
   "source": [
    "df['code_postal'] = df['code_postal'].astype(str)\n",
    "df['exterieur'] = df['exterieur'].astype(str)"
   ]
  },
  {
   "cell_type": "markdown",
   "id": "6f482483-c0ae-4fc1-9dd7-8754edfd3f2b",
   "metadata": {},
   "source": [
    "#### dummies"
   ]
  },
  {
   "cell_type": "code",
   "execution_count": 281,
   "id": "e0df5ce6-7d86-4824-b4b9-e38fb31d386e",
   "metadata": {
    "tags": []
   },
   "outputs": [],
   "source": [
    "my_object_df = df[['code_postal','exterieur']]"
   ]
  },
  {
   "cell_type": "code",
   "execution_count": 283,
   "id": "ee5c26f2-ac9a-4f14-97b4-eb602de6cb91",
   "metadata": {
    "tags": []
   },
   "outputs": [],
   "source": [
    "my_numeric_df = df[['valeur_fonciere','surface_reelle_bati','nombre_pieces_principales','surface_terrain']]"
   ]
  },
  {
   "cell_type": "code",
   "execution_count": 285,
   "id": "515ec96c-14fc-44c6-8413-7fef58729904",
   "metadata": {
    "tags": []
   },
   "outputs": [],
   "source": [
    "df_objects_dummies = pd.get_dummies(my_object_df,drop_first=True)"
   ]
  },
  {
   "cell_type": "code",
   "execution_count": 287,
   "id": "825ca071-88aa-439e-a53f-3957bc97578f",
   "metadata": {
    "tags": []
   },
   "outputs": [
    {
     "data": {
      "text/html": [
       "<div>\n",
       "<style scoped>\n",
       "    .dataframe tbody tr th:only-of-type {\n",
       "        vertical-align: middle;\n",
       "    }\n",
       "\n",
       "    .dataframe tbody tr th {\n",
       "        vertical-align: top;\n",
       "    }\n",
       "\n",
       "    .dataframe thead th {\n",
       "        text-align: right;\n",
       "    }\n",
       "</style>\n",
       "<table border=\"1\" class=\"dataframe\">\n",
       "  <thead>\n",
       "    <tr style=\"text-align: right;\">\n",
       "      <th></th>\n",
       "      <th>code_postal_31100</th>\n",
       "      <th>code_postal_31110</th>\n",
       "      <th>code_postal_31120</th>\n",
       "      <th>code_postal_31130</th>\n",
       "      <th>code_postal_31140</th>\n",
       "      <th>code_postal_31150</th>\n",
       "      <th>code_postal_31160</th>\n",
       "      <th>code_postal_31170</th>\n",
       "      <th>code_postal_31180</th>\n",
       "      <th>code_postal_31190</th>\n",
       "      <th>...</th>\n",
       "      <th>code_postal_31800</th>\n",
       "      <th>code_postal_31810</th>\n",
       "      <th>code_postal_31820</th>\n",
       "      <th>code_postal_31830</th>\n",
       "      <th>code_postal_31840</th>\n",
       "      <th>code_postal_31850</th>\n",
       "      <th>code_postal_31860</th>\n",
       "      <th>code_postal_31870</th>\n",
       "      <th>code_postal_31880</th>\n",
       "      <th>exterieur_1</th>\n",
       "    </tr>\n",
       "  </thead>\n",
       "  <tbody>\n",
       "    <tr>\n",
       "      <th>0</th>\n",
       "      <td>False</td>\n",
       "      <td>False</td>\n",
       "      <td>False</td>\n",
       "      <td>False</td>\n",
       "      <td>False</td>\n",
       "      <td>False</td>\n",
       "      <td>False</td>\n",
       "      <td>False</td>\n",
       "      <td>False</td>\n",
       "      <td>False</td>\n",
       "      <td>...</td>\n",
       "      <td>True</td>\n",
       "      <td>False</td>\n",
       "      <td>False</td>\n",
       "      <td>False</td>\n",
       "      <td>False</td>\n",
       "      <td>False</td>\n",
       "      <td>False</td>\n",
       "      <td>False</td>\n",
       "      <td>False</td>\n",
       "      <td>True</td>\n",
       "    </tr>\n",
       "    <tr>\n",
       "      <th>1</th>\n",
       "      <td>False</td>\n",
       "      <td>False</td>\n",
       "      <td>False</td>\n",
       "      <td>False</td>\n",
       "      <td>False</td>\n",
       "      <td>False</td>\n",
       "      <td>False</td>\n",
       "      <td>False</td>\n",
       "      <td>False</td>\n",
       "      <td>False</td>\n",
       "      <td>...</td>\n",
       "      <td>True</td>\n",
       "      <td>False</td>\n",
       "      <td>False</td>\n",
       "      <td>False</td>\n",
       "      <td>False</td>\n",
       "      <td>False</td>\n",
       "      <td>False</td>\n",
       "      <td>False</td>\n",
       "      <td>False</td>\n",
       "      <td>True</td>\n",
       "    </tr>\n",
       "    <tr>\n",
       "      <th>2</th>\n",
       "      <td>False</td>\n",
       "      <td>False</td>\n",
       "      <td>False</td>\n",
       "      <td>False</td>\n",
       "      <td>False</td>\n",
       "      <td>False</td>\n",
       "      <td>False</td>\n",
       "      <td>False</td>\n",
       "      <td>False</td>\n",
       "      <td>False</td>\n",
       "      <td>...</td>\n",
       "      <td>False</td>\n",
       "      <td>False</td>\n",
       "      <td>False</td>\n",
       "      <td>False</td>\n",
       "      <td>False</td>\n",
       "      <td>False</td>\n",
       "      <td>False</td>\n",
       "      <td>False</td>\n",
       "      <td>False</td>\n",
       "      <td>True</td>\n",
       "    </tr>\n",
       "    <tr>\n",
       "      <th>3</th>\n",
       "      <td>False</td>\n",
       "      <td>False</td>\n",
       "      <td>False</td>\n",
       "      <td>False</td>\n",
       "      <td>False</td>\n",
       "      <td>False</td>\n",
       "      <td>False</td>\n",
       "      <td>False</td>\n",
       "      <td>False</td>\n",
       "      <td>True</td>\n",
       "      <td>...</td>\n",
       "      <td>False</td>\n",
       "      <td>False</td>\n",
       "      <td>False</td>\n",
       "      <td>False</td>\n",
       "      <td>False</td>\n",
       "      <td>False</td>\n",
       "      <td>False</td>\n",
       "      <td>False</td>\n",
       "      <td>False</td>\n",
       "      <td>True</td>\n",
       "    </tr>\n",
       "    <tr>\n",
       "      <th>4</th>\n",
       "      <td>False</td>\n",
       "      <td>False</td>\n",
       "      <td>False</td>\n",
       "      <td>False</td>\n",
       "      <td>False</td>\n",
       "      <td>False</td>\n",
       "      <td>False</td>\n",
       "      <td>False</td>\n",
       "      <td>False</td>\n",
       "      <td>True</td>\n",
       "      <td>...</td>\n",
       "      <td>False</td>\n",
       "      <td>False</td>\n",
       "      <td>False</td>\n",
       "      <td>False</td>\n",
       "      <td>False</td>\n",
       "      <td>False</td>\n",
       "      <td>False</td>\n",
       "      <td>False</td>\n",
       "      <td>False</td>\n",
       "      <td>True</td>\n",
       "    </tr>\n",
       "    <tr>\n",
       "      <th>...</th>\n",
       "      <td>...</td>\n",
       "      <td>...</td>\n",
       "      <td>...</td>\n",
       "      <td>...</td>\n",
       "      <td>...</td>\n",
       "      <td>...</td>\n",
       "      <td>...</td>\n",
       "      <td>...</td>\n",
       "      <td>...</td>\n",
       "      <td>...</td>\n",
       "      <td>...</td>\n",
       "      <td>...</td>\n",
       "      <td>...</td>\n",
       "      <td>...</td>\n",
       "      <td>...</td>\n",
       "      <td>...</td>\n",
       "      <td>...</td>\n",
       "      <td>...</td>\n",
       "      <td>...</td>\n",
       "      <td>...</td>\n",
       "      <td>...</td>\n",
       "    </tr>\n",
       "    <tr>\n",
       "      <th>27837</th>\n",
       "      <td>False</td>\n",
       "      <td>False</td>\n",
       "      <td>False</td>\n",
       "      <td>False</td>\n",
       "      <td>False</td>\n",
       "      <td>False</td>\n",
       "      <td>False</td>\n",
       "      <td>False</td>\n",
       "      <td>False</td>\n",
       "      <td>False</td>\n",
       "      <td>...</td>\n",
       "      <td>False</td>\n",
       "      <td>False</td>\n",
       "      <td>False</td>\n",
       "      <td>False</td>\n",
       "      <td>False</td>\n",
       "      <td>False</td>\n",
       "      <td>False</td>\n",
       "      <td>False</td>\n",
       "      <td>False</td>\n",
       "      <td>True</td>\n",
       "    </tr>\n",
       "    <tr>\n",
       "      <th>27838</th>\n",
       "      <td>False</td>\n",
       "      <td>False</td>\n",
       "      <td>False</td>\n",
       "      <td>False</td>\n",
       "      <td>False</td>\n",
       "      <td>False</td>\n",
       "      <td>False</td>\n",
       "      <td>False</td>\n",
       "      <td>False</td>\n",
       "      <td>False</td>\n",
       "      <td>...</td>\n",
       "      <td>False</td>\n",
       "      <td>False</td>\n",
       "      <td>False</td>\n",
       "      <td>False</td>\n",
       "      <td>False</td>\n",
       "      <td>False</td>\n",
       "      <td>False</td>\n",
       "      <td>False</td>\n",
       "      <td>False</td>\n",
       "      <td>True</td>\n",
       "    </tr>\n",
       "    <tr>\n",
       "      <th>27839</th>\n",
       "      <td>False</td>\n",
       "      <td>False</td>\n",
       "      <td>False</td>\n",
       "      <td>False</td>\n",
       "      <td>False</td>\n",
       "      <td>False</td>\n",
       "      <td>False</td>\n",
       "      <td>False</td>\n",
       "      <td>False</td>\n",
       "      <td>False</td>\n",
       "      <td>...</td>\n",
       "      <td>False</td>\n",
       "      <td>False</td>\n",
       "      <td>False</td>\n",
       "      <td>False</td>\n",
       "      <td>False</td>\n",
       "      <td>False</td>\n",
       "      <td>False</td>\n",
       "      <td>False</td>\n",
       "      <td>False</td>\n",
       "      <td>True</td>\n",
       "    </tr>\n",
       "    <tr>\n",
       "      <th>27840</th>\n",
       "      <td>False</td>\n",
       "      <td>False</td>\n",
       "      <td>False</td>\n",
       "      <td>False</td>\n",
       "      <td>False</td>\n",
       "      <td>False</td>\n",
       "      <td>False</td>\n",
       "      <td>False</td>\n",
       "      <td>False</td>\n",
       "      <td>False</td>\n",
       "      <td>...</td>\n",
       "      <td>False</td>\n",
       "      <td>False</td>\n",
       "      <td>False</td>\n",
       "      <td>False</td>\n",
       "      <td>False</td>\n",
       "      <td>False</td>\n",
       "      <td>False</td>\n",
       "      <td>False</td>\n",
       "      <td>False</td>\n",
       "      <td>True</td>\n",
       "    </tr>\n",
       "    <tr>\n",
       "      <th>27841</th>\n",
       "      <td>False</td>\n",
       "      <td>False</td>\n",
       "      <td>False</td>\n",
       "      <td>False</td>\n",
       "      <td>False</td>\n",
       "      <td>False</td>\n",
       "      <td>False</td>\n",
       "      <td>False</td>\n",
       "      <td>False</td>\n",
       "      <td>False</td>\n",
       "      <td>...</td>\n",
       "      <td>False</td>\n",
       "      <td>False</td>\n",
       "      <td>False</td>\n",
       "      <td>False</td>\n",
       "      <td>False</td>\n",
       "      <td>False</td>\n",
       "      <td>False</td>\n",
       "      <td>False</td>\n",
       "      <td>False</td>\n",
       "      <td>True</td>\n",
       "    </tr>\n",
       "  </tbody>\n",
       "</table>\n",
       "<p>27842 rows × 70 columns</p>\n",
       "</div>"
      ],
      "text/plain": [
       "       code_postal_31100  code_postal_31110  code_postal_31120  \\\n",
       "0                  False              False              False   \n",
       "1                  False              False              False   \n",
       "2                  False              False              False   \n",
       "3                  False              False              False   \n",
       "4                  False              False              False   \n",
       "...                  ...                ...                ...   \n",
       "27837              False              False              False   \n",
       "27838              False              False              False   \n",
       "27839              False              False              False   \n",
       "27840              False              False              False   \n",
       "27841              False              False              False   \n",
       "\n",
       "       code_postal_31130  code_postal_31140  code_postal_31150  \\\n",
       "0                  False              False              False   \n",
       "1                  False              False              False   \n",
       "2                  False              False              False   \n",
       "3                  False              False              False   \n",
       "4                  False              False              False   \n",
       "...                  ...                ...                ...   \n",
       "27837              False              False              False   \n",
       "27838              False              False              False   \n",
       "27839              False              False              False   \n",
       "27840              False              False              False   \n",
       "27841              False              False              False   \n",
       "\n",
       "       code_postal_31160  code_postal_31170  code_postal_31180  \\\n",
       "0                  False              False              False   \n",
       "1                  False              False              False   \n",
       "2                  False              False              False   \n",
       "3                  False              False              False   \n",
       "4                  False              False              False   \n",
       "...                  ...                ...                ...   \n",
       "27837              False              False              False   \n",
       "27838              False              False              False   \n",
       "27839              False              False              False   \n",
       "27840              False              False              False   \n",
       "27841              False              False              False   \n",
       "\n",
       "       code_postal_31190  ...  code_postal_31800  code_postal_31810  \\\n",
       "0                  False  ...               True              False   \n",
       "1                  False  ...               True              False   \n",
       "2                  False  ...              False              False   \n",
       "3                   True  ...              False              False   \n",
       "4                   True  ...              False              False   \n",
       "...                  ...  ...                ...                ...   \n",
       "27837              False  ...              False              False   \n",
       "27838              False  ...              False              False   \n",
       "27839              False  ...              False              False   \n",
       "27840              False  ...              False              False   \n",
       "27841              False  ...              False              False   \n",
       "\n",
       "       code_postal_31820  code_postal_31830  code_postal_31840  \\\n",
       "0                  False              False              False   \n",
       "1                  False              False              False   \n",
       "2                  False              False              False   \n",
       "3                  False              False              False   \n",
       "4                  False              False              False   \n",
       "...                  ...                ...                ...   \n",
       "27837              False              False              False   \n",
       "27838              False              False              False   \n",
       "27839              False              False              False   \n",
       "27840              False              False              False   \n",
       "27841              False              False              False   \n",
       "\n",
       "       code_postal_31850  code_postal_31860  code_postal_31870  \\\n",
       "0                  False              False              False   \n",
       "1                  False              False              False   \n",
       "2                  False              False              False   \n",
       "3                  False              False              False   \n",
       "4                  False              False              False   \n",
       "...                  ...                ...                ...   \n",
       "27837              False              False              False   \n",
       "27838              False              False              False   \n",
       "27839              False              False              False   \n",
       "27840              False              False              False   \n",
       "27841              False              False              False   \n",
       "\n",
       "       code_postal_31880  exterieur_1  \n",
       "0                  False         True  \n",
       "1                  False         True  \n",
       "2                  False         True  \n",
       "3                  False         True  \n",
       "4                  False         True  \n",
       "...                  ...          ...  \n",
       "27837              False         True  \n",
       "27838              False         True  \n",
       "27839              False         True  \n",
       "27840              False         True  \n",
       "27841              False         True  \n",
       "\n",
       "[27842 rows x 70 columns]"
      ]
     },
     "execution_count": 287,
     "metadata": {},
     "output_type": "execute_result"
    }
   ],
   "source": [
    "df_objects_dummies"
   ]
  },
  {
   "cell_type": "code",
   "execution_count": 289,
   "id": "fcfec8ee-2db0-4306-94e8-20310262ae02",
   "metadata": {
    "tags": []
   },
   "outputs": [],
   "source": [
    "final_df= pd.concat([my_numeric_df,df_objects_dummies],axis=1)"
   ]
  },
  {
   "cell_type": "code",
   "execution_count": 291,
   "id": "104aff58-1270-492f-919f-cd77772f65ad",
   "metadata": {
    "tags": []
   },
   "outputs": [
    {
     "data": {
      "text/html": [
       "<div>\n",
       "<style scoped>\n",
       "    .dataframe tbody tr th:only-of-type {\n",
       "        vertical-align: middle;\n",
       "    }\n",
       "\n",
       "    .dataframe tbody tr th {\n",
       "        vertical-align: top;\n",
       "    }\n",
       "\n",
       "    .dataframe thead th {\n",
       "        text-align: right;\n",
       "    }\n",
       "</style>\n",
       "<table border=\"1\" class=\"dataframe\">\n",
       "  <thead>\n",
       "    <tr style=\"text-align: right;\">\n",
       "      <th></th>\n",
       "      <th>valeur_fonciere</th>\n",
       "      <th>surface_reelle_bati</th>\n",
       "      <th>nombre_pieces_principales</th>\n",
       "      <th>surface_terrain</th>\n",
       "      <th>code_postal_31100</th>\n",
       "      <th>code_postal_31110</th>\n",
       "      <th>code_postal_31120</th>\n",
       "      <th>code_postal_31130</th>\n",
       "      <th>code_postal_31140</th>\n",
       "      <th>code_postal_31150</th>\n",
       "      <th>...</th>\n",
       "      <th>code_postal_31800</th>\n",
       "      <th>code_postal_31810</th>\n",
       "      <th>code_postal_31820</th>\n",
       "      <th>code_postal_31830</th>\n",
       "      <th>code_postal_31840</th>\n",
       "      <th>code_postal_31850</th>\n",
       "      <th>code_postal_31860</th>\n",
       "      <th>code_postal_31870</th>\n",
       "      <th>code_postal_31880</th>\n",
       "      <th>exterieur_1</th>\n",
       "    </tr>\n",
       "  </thead>\n",
       "  <tbody>\n",
       "    <tr>\n",
       "      <th>0</th>\n",
       "      <td>277000.0</td>\n",
       "      <td>180.0</td>\n",
       "      <td>5.0</td>\n",
       "      <td>2248.0</td>\n",
       "      <td>False</td>\n",
       "      <td>False</td>\n",
       "      <td>False</td>\n",
       "      <td>False</td>\n",
       "      <td>False</td>\n",
       "      <td>False</td>\n",
       "      <td>...</td>\n",
       "      <td>True</td>\n",
       "      <td>False</td>\n",
       "      <td>False</td>\n",
       "      <td>False</td>\n",
       "      <td>False</td>\n",
       "      <td>False</td>\n",
       "      <td>False</td>\n",
       "      <td>False</td>\n",
       "      <td>False</td>\n",
       "      <td>True</td>\n",
       "    </tr>\n",
       "    <tr>\n",
       "      <th>1</th>\n",
       "      <td>220900.0</td>\n",
       "      <td>129.0</td>\n",
       "      <td>4.0</td>\n",
       "      <td>500.0</td>\n",
       "      <td>False</td>\n",
       "      <td>False</td>\n",
       "      <td>False</td>\n",
       "      <td>False</td>\n",
       "      <td>False</td>\n",
       "      <td>False</td>\n",
       "      <td>...</td>\n",
       "      <td>True</td>\n",
       "      <td>False</td>\n",
       "      <td>False</td>\n",
       "      <td>False</td>\n",
       "      <td>False</td>\n",
       "      <td>False</td>\n",
       "      <td>False</td>\n",
       "      <td>False</td>\n",
       "      <td>False</td>\n",
       "      <td>True</td>\n",
       "    </tr>\n",
       "    <tr>\n",
       "      <th>2</th>\n",
       "      <td>154600.0</td>\n",
       "      <td>60.0</td>\n",
       "      <td>3.0</td>\n",
       "      <td>555.0</td>\n",
       "      <td>False</td>\n",
       "      <td>False</td>\n",
       "      <td>False</td>\n",
       "      <td>False</td>\n",
       "      <td>False</td>\n",
       "      <td>False</td>\n",
       "      <td>...</td>\n",
       "      <td>False</td>\n",
       "      <td>False</td>\n",
       "      <td>False</td>\n",
       "      <td>False</td>\n",
       "      <td>False</td>\n",
       "      <td>False</td>\n",
       "      <td>False</td>\n",
       "      <td>False</td>\n",
       "      <td>False</td>\n",
       "      <td>True</td>\n",
       "    </tr>\n",
       "    <tr>\n",
       "      <th>3</th>\n",
       "      <td>248000.0</td>\n",
       "      <td>92.0</td>\n",
       "      <td>4.0</td>\n",
       "      <td>528.0</td>\n",
       "      <td>False</td>\n",
       "      <td>False</td>\n",
       "      <td>False</td>\n",
       "      <td>False</td>\n",
       "      <td>False</td>\n",
       "      <td>False</td>\n",
       "      <td>...</td>\n",
       "      <td>False</td>\n",
       "      <td>False</td>\n",
       "      <td>False</td>\n",
       "      <td>False</td>\n",
       "      <td>False</td>\n",
       "      <td>False</td>\n",
       "      <td>False</td>\n",
       "      <td>False</td>\n",
       "      <td>False</td>\n",
       "      <td>True</td>\n",
       "    </tr>\n",
       "    <tr>\n",
       "      <th>4</th>\n",
       "      <td>268000.0</td>\n",
       "      <td>88.0</td>\n",
       "      <td>4.0</td>\n",
       "      <td>1370.0</td>\n",
       "      <td>False</td>\n",
       "      <td>False</td>\n",
       "      <td>False</td>\n",
       "      <td>False</td>\n",
       "      <td>False</td>\n",
       "      <td>False</td>\n",
       "      <td>...</td>\n",
       "      <td>False</td>\n",
       "      <td>False</td>\n",
       "      <td>False</td>\n",
       "      <td>False</td>\n",
       "      <td>False</td>\n",
       "      <td>False</td>\n",
       "      <td>False</td>\n",
       "      <td>False</td>\n",
       "      <td>False</td>\n",
       "      <td>True</td>\n",
       "    </tr>\n",
       "    <tr>\n",
       "      <th>...</th>\n",
       "      <td>...</td>\n",
       "      <td>...</td>\n",
       "      <td>...</td>\n",
       "      <td>...</td>\n",
       "      <td>...</td>\n",
       "      <td>...</td>\n",
       "      <td>...</td>\n",
       "      <td>...</td>\n",
       "      <td>...</td>\n",
       "      <td>...</td>\n",
       "      <td>...</td>\n",
       "      <td>...</td>\n",
       "      <td>...</td>\n",
       "      <td>...</td>\n",
       "      <td>...</td>\n",
       "      <td>...</td>\n",
       "      <td>...</td>\n",
       "      <td>...</td>\n",
       "      <td>...</td>\n",
       "      <td>...</td>\n",
       "      <td>...</td>\n",
       "    </tr>\n",
       "    <tr>\n",
       "      <th>27837</th>\n",
       "      <td>124250.0</td>\n",
       "      <td>160.0</td>\n",
       "      <td>5.0</td>\n",
       "      <td>1334.0</td>\n",
       "      <td>False</td>\n",
       "      <td>False</td>\n",
       "      <td>False</td>\n",
       "      <td>False</td>\n",
       "      <td>False</td>\n",
       "      <td>False</td>\n",
       "      <td>...</td>\n",
       "      <td>False</td>\n",
       "      <td>False</td>\n",
       "      <td>False</td>\n",
       "      <td>False</td>\n",
       "      <td>False</td>\n",
       "      <td>False</td>\n",
       "      <td>False</td>\n",
       "      <td>False</td>\n",
       "      <td>False</td>\n",
       "      <td>True</td>\n",
       "    </tr>\n",
       "    <tr>\n",
       "      <th>27838</th>\n",
       "      <td>249000.0</td>\n",
       "      <td>87.0</td>\n",
       "      <td>4.0</td>\n",
       "      <td>804.0</td>\n",
       "      <td>False</td>\n",
       "      <td>False</td>\n",
       "      <td>False</td>\n",
       "      <td>False</td>\n",
       "      <td>False</td>\n",
       "      <td>False</td>\n",
       "      <td>...</td>\n",
       "      <td>False</td>\n",
       "      <td>False</td>\n",
       "      <td>False</td>\n",
       "      <td>False</td>\n",
       "      <td>False</td>\n",
       "      <td>False</td>\n",
       "      <td>False</td>\n",
       "      <td>False</td>\n",
       "      <td>False</td>\n",
       "      <td>True</td>\n",
       "    </tr>\n",
       "    <tr>\n",
       "      <th>27839</th>\n",
       "      <td>230000.0</td>\n",
       "      <td>100.0</td>\n",
       "      <td>5.0</td>\n",
       "      <td>2937.0</td>\n",
       "      <td>False</td>\n",
       "      <td>False</td>\n",
       "      <td>False</td>\n",
       "      <td>False</td>\n",
       "      <td>False</td>\n",
       "      <td>False</td>\n",
       "      <td>...</td>\n",
       "      <td>False</td>\n",
       "      <td>False</td>\n",
       "      <td>False</td>\n",
       "      <td>False</td>\n",
       "      <td>False</td>\n",
       "      <td>False</td>\n",
       "      <td>False</td>\n",
       "      <td>False</td>\n",
       "      <td>False</td>\n",
       "      <td>True</td>\n",
       "    </tr>\n",
       "    <tr>\n",
       "      <th>27840</th>\n",
       "      <td>338000.0</td>\n",
       "      <td>108.0</td>\n",
       "      <td>4.0</td>\n",
       "      <td>705.0</td>\n",
       "      <td>False</td>\n",
       "      <td>False</td>\n",
       "      <td>False</td>\n",
       "      <td>False</td>\n",
       "      <td>False</td>\n",
       "      <td>False</td>\n",
       "      <td>...</td>\n",
       "      <td>False</td>\n",
       "      <td>False</td>\n",
       "      <td>False</td>\n",
       "      <td>False</td>\n",
       "      <td>False</td>\n",
       "      <td>False</td>\n",
       "      <td>False</td>\n",
       "      <td>False</td>\n",
       "      <td>False</td>\n",
       "      <td>True</td>\n",
       "    </tr>\n",
       "    <tr>\n",
       "      <th>27841</th>\n",
       "      <td>216000.0</td>\n",
       "      <td>129.0</td>\n",
       "      <td>6.0</td>\n",
       "      <td>80.0</td>\n",
       "      <td>False</td>\n",
       "      <td>False</td>\n",
       "      <td>False</td>\n",
       "      <td>False</td>\n",
       "      <td>False</td>\n",
       "      <td>False</td>\n",
       "      <td>...</td>\n",
       "      <td>False</td>\n",
       "      <td>False</td>\n",
       "      <td>False</td>\n",
       "      <td>False</td>\n",
       "      <td>False</td>\n",
       "      <td>False</td>\n",
       "      <td>False</td>\n",
       "      <td>False</td>\n",
       "      <td>False</td>\n",
       "      <td>True</td>\n",
       "    </tr>\n",
       "  </tbody>\n",
       "</table>\n",
       "<p>27842 rows × 74 columns</p>\n",
       "</div>"
      ],
      "text/plain": [
       "       valeur_fonciere  surface_reelle_bati  nombre_pieces_principales  \\\n",
       "0             277000.0                180.0                        5.0   \n",
       "1             220900.0                129.0                        4.0   \n",
       "2             154600.0                 60.0                        3.0   \n",
       "3             248000.0                 92.0                        4.0   \n",
       "4             268000.0                 88.0                        4.0   \n",
       "...                ...                  ...                        ...   \n",
       "27837         124250.0                160.0                        5.0   \n",
       "27838         249000.0                 87.0                        4.0   \n",
       "27839         230000.0                100.0                        5.0   \n",
       "27840         338000.0                108.0                        4.0   \n",
       "27841         216000.0                129.0                        6.0   \n",
       "\n",
       "       surface_terrain  code_postal_31100  code_postal_31110  \\\n",
       "0               2248.0              False              False   \n",
       "1                500.0              False              False   \n",
       "2                555.0              False              False   \n",
       "3                528.0              False              False   \n",
       "4               1370.0              False              False   \n",
       "...                ...                ...                ...   \n",
       "27837           1334.0              False              False   \n",
       "27838            804.0              False              False   \n",
       "27839           2937.0              False              False   \n",
       "27840            705.0              False              False   \n",
       "27841             80.0              False              False   \n",
       "\n",
       "       code_postal_31120  code_postal_31130  code_postal_31140  \\\n",
       "0                  False              False              False   \n",
       "1                  False              False              False   \n",
       "2                  False              False              False   \n",
       "3                  False              False              False   \n",
       "4                  False              False              False   \n",
       "...                  ...                ...                ...   \n",
       "27837              False              False              False   \n",
       "27838              False              False              False   \n",
       "27839              False              False              False   \n",
       "27840              False              False              False   \n",
       "27841              False              False              False   \n",
       "\n",
       "       code_postal_31150  ...  code_postal_31800  code_postal_31810  \\\n",
       "0                  False  ...               True              False   \n",
       "1                  False  ...               True              False   \n",
       "2                  False  ...              False              False   \n",
       "3                  False  ...              False              False   \n",
       "4                  False  ...              False              False   \n",
       "...                  ...  ...                ...                ...   \n",
       "27837              False  ...              False              False   \n",
       "27838              False  ...              False              False   \n",
       "27839              False  ...              False              False   \n",
       "27840              False  ...              False              False   \n",
       "27841              False  ...              False              False   \n",
       "\n",
       "       code_postal_31820  code_postal_31830  code_postal_31840  \\\n",
       "0                  False              False              False   \n",
       "1                  False              False              False   \n",
       "2                  False              False              False   \n",
       "3                  False              False              False   \n",
       "4                  False              False              False   \n",
       "...                  ...                ...                ...   \n",
       "27837              False              False              False   \n",
       "27838              False              False              False   \n",
       "27839              False              False              False   \n",
       "27840              False              False              False   \n",
       "27841              False              False              False   \n",
       "\n",
       "       code_postal_31850  code_postal_31860  code_postal_31870  \\\n",
       "0                  False              False              False   \n",
       "1                  False              False              False   \n",
       "2                  False              False              False   \n",
       "3                  False              False              False   \n",
       "4                  False              False              False   \n",
       "...                  ...                ...                ...   \n",
       "27837              False              False              False   \n",
       "27838              False              False              False   \n",
       "27839              False              False              False   \n",
       "27840              False              False              False   \n",
       "27841              False              False              False   \n",
       "\n",
       "       code_postal_31880  exterieur_1  \n",
       "0                  False         True  \n",
       "1                  False         True  \n",
       "2                  False         True  \n",
       "3                  False         True  \n",
       "4                  False         True  \n",
       "...                  ...          ...  \n",
       "27837              False         True  \n",
       "27838              False         True  \n",
       "27839              False         True  \n",
       "27840              False         True  \n",
       "27841              False         True  \n",
       "\n",
       "[27842 rows x 74 columns]"
      ]
     },
     "execution_count": 291,
     "metadata": {},
     "output_type": "execute_result"
    }
   ],
   "source": [
    "final_df"
   ]
  },
  {
   "cell_type": "code",
   "execution_count": 293,
   "id": "96770485-13d1-482d-bcaf-1474a25ec331",
   "metadata": {
    "tags": []
   },
   "outputs": [],
   "source": [
    "final_df.to_csv('HousePrice_ML.csv',index=False)"
   ]
  },
  {
   "cell_type": "markdown",
   "id": "bdee1b7d-e52a-45b5-9772-a520ebd0852d",
   "metadata": {
    "tags": []
   },
   "source": [
    "## Modele selection"
   ]
  },
  {
   "cell_type": "markdown",
   "id": "c151649c-e3e4-4fd4-8e1a-8cf4a098c329",
   "metadata": {
    "tags": []
   },
   "source": [
    "### Creation X,y, split"
   ]
  },
  {
   "cell_type": "code",
   "execution_count": 29,
   "id": "2134e592-590b-4f54-96e9-65e1f562c639",
   "metadata": {
    "tags": []
   },
   "outputs": [],
   "source": [
    "from sklearn.model_selection import train_test_split\n",
    "from sklearn.preprocessing import StandardScaler\n",
    "\n",
    "from sklearn.model_selection import GridSearchCV\n",
    "from sklearn.model_selection import ShuffleSplit\n",
    "from sklearn.model_selection import cross_val_score\n",
    "\n",
    "from sklearn.linear_model import ElasticNet\n",
    "from sklearn.linear_model import Lasso\n",
    "from sklearn.linear_model import LinearRegression\n",
    "from sklearn.ensemble import RandomForestRegressor\n",
    "\n",
    "from sklearn.metrics import mean_squared_error, mean_absolute_error"
   ]
  },
  {
   "cell_type": "code",
   "execution_count": 5,
   "id": "be483d90-af2b-4ec1-be6c-cc8a87cd5949",
   "metadata": {
    "tags": []
   },
   "outputs": [],
   "source": [
    "df = pd.read_csv('HousePrice_ML.csv')"
   ]
  },
  {
   "cell_type": "markdown",
   "id": "05c72a58-7f2d-42d6-8019-849b54a61534",
   "metadata": {
    "tags": []
   },
   "source": [
    "#### Creation X et y"
   ]
  },
  {
   "cell_type": "code",
   "execution_count": 7,
   "id": "9c94bb84-6747-41cb-877e-8a03af2b3356",
   "metadata": {
    "tags": []
   },
   "outputs": [],
   "source": [
    "X= df.drop('valeur_fonciere',axis=1)\n",
    "y=df['valeur_fonciere']"
   ]
  },
  {
   "cell_type": "markdown",
   "id": "ecae938c-1b34-4d45-bfe2-878918982fb4",
   "metadata": {
    "jp-MarkdownHeadingCollapsed": true,
    "tags": []
   },
   "source": [
    "#### Train Test split"
   ]
  },
  {
   "cell_type": "code",
   "execution_count": 13,
   "id": "023b40e6-e2f8-454d-8fe2-d98b13813e9c",
   "metadata": {
    "tags": []
   },
   "outputs": [],
   "source": [
    "#Test 10%,  random : 101\n",
    "X_train, X_test, y_train, y_test = train_test_split(X, y, test_size=0.1, random_state=101)"
   ]
  },
  {
   "cell_type": "markdown",
   "id": "dc80fe99-70db-4db8-abc3-430d67afd2b7",
   "metadata": {
    "jp-MarkdownHeadingCollapsed": true,
    "tags": []
   },
   "source": [
    "#### Scaler"
   ]
  },
  {
   "cell_type": "code",
   "execution_count": 17,
   "id": "d259f66f-22f4-44be-a5f3-55061f2db3bb",
   "metadata": {
    "tags": []
   },
   "outputs": [],
   "source": [
    "scaler = StandardScaler()\n",
    "scaler.fit(X_train)\n",
    "X_train = scaler.transform(X_train)\n",
    "X_test = scaler.transform(X_test)"
   ]
  },
  {
   "cell_type": "markdown",
   "id": "c548d202-5c32-443c-b232-1797afcf0ad1",
   "metadata": {
    "jp-MarkdownHeadingCollapsed": true,
    "tags": []
   },
   "source": [
    "### Modele RL : ElasticNet"
   ]
  },
  {
   "cell_type": "code",
   "execution_count": 309,
   "id": "e1cfc86c-d9c0-4d14-8fbf-a628b05e9b28",
   "metadata": {
    "tags": []
   },
   "outputs": [],
   "source": [
    "model = ElasticNet(max_iter=10000)"
   ]
  },
  {
   "cell_type": "code",
   "execution_count": 311,
   "id": "4b4cecd5-81a9-4762-b1b9-2bfd834c1ed7",
   "metadata": {
    "tags": []
   },
   "outputs": [],
   "source": [
    "param_grid = {'alpha':[0.1,1.5,10,50,100],'l1_ratio':[0.1,0.5,0.7,0.9,0.95,0.99,1]}"
   ]
  },
  {
   "cell_type": "code",
   "execution_count": 313,
   "id": "bbb5c2c5-443b-49bb-a65f-01f0eb257f7a",
   "metadata": {
    "tags": []
   },
   "outputs": [],
   "source": [
    "grid_model = GridSearchCV(estimator=model,param_grid=param_grid,scoring='neg_mean_squared_error',cv=5,verbose=1)"
   ]
  },
  {
   "cell_type": "code",
   "execution_count": 315,
   "id": "618970bc-00f4-4eae-bd58-cf09b600ce2d",
   "metadata": {
    "tags": []
   },
   "outputs": [
    {
     "name": "stdout",
     "output_type": "stream",
     "text": [
      "Fitting 5 folds for each of 35 candidates, totalling 175 fits\n"
     ]
    },
    {
     "data": {
      "text/html": [
       "<style>#sk-container-id-3 {color: black;background-color: white;}#sk-container-id-3 pre{padding: 0;}#sk-container-id-3 div.sk-toggleable {background-color: white;}#sk-container-id-3 label.sk-toggleable__label {cursor: pointer;display: block;width: 100%;margin-bottom: 0;padding: 0.3em;box-sizing: border-box;text-align: center;}#sk-container-id-3 label.sk-toggleable__label-arrow:before {content: \"▸\";float: left;margin-right: 0.25em;color: #696969;}#sk-container-id-3 label.sk-toggleable__label-arrow:hover:before {color: black;}#sk-container-id-3 div.sk-estimator:hover label.sk-toggleable__label-arrow:before {color: black;}#sk-container-id-3 div.sk-toggleable__content {max-height: 0;max-width: 0;overflow: hidden;text-align: left;background-color: #f0f8ff;}#sk-container-id-3 div.sk-toggleable__content pre {margin: 0.2em;color: black;border-radius: 0.25em;background-color: #f0f8ff;}#sk-container-id-3 input.sk-toggleable__control:checked~div.sk-toggleable__content {max-height: 200px;max-width: 100%;overflow: auto;}#sk-container-id-3 input.sk-toggleable__control:checked~label.sk-toggleable__label-arrow:before {content: \"▾\";}#sk-container-id-3 div.sk-estimator input.sk-toggleable__control:checked~label.sk-toggleable__label {background-color: #d4ebff;}#sk-container-id-3 div.sk-label input.sk-toggleable__control:checked~label.sk-toggleable__label {background-color: #d4ebff;}#sk-container-id-3 input.sk-hidden--visually {border: 0;clip: rect(1px 1px 1px 1px);clip: rect(1px, 1px, 1px, 1px);height: 1px;margin: -1px;overflow: hidden;padding: 0;position: absolute;width: 1px;}#sk-container-id-3 div.sk-estimator {font-family: monospace;background-color: #f0f8ff;border: 1px dotted black;border-radius: 0.25em;box-sizing: border-box;margin-bottom: 0.5em;}#sk-container-id-3 div.sk-estimator:hover {background-color: #d4ebff;}#sk-container-id-3 div.sk-parallel-item::after {content: \"\";width: 100%;border-bottom: 1px solid gray;flex-grow: 1;}#sk-container-id-3 div.sk-label:hover label.sk-toggleable__label {background-color: #d4ebff;}#sk-container-id-3 div.sk-serial::before {content: \"\";position: absolute;border-left: 1px solid gray;box-sizing: border-box;top: 0;bottom: 0;left: 50%;z-index: 0;}#sk-container-id-3 div.sk-serial {display: flex;flex-direction: column;align-items: center;background-color: white;padding-right: 0.2em;padding-left: 0.2em;position: relative;}#sk-container-id-3 div.sk-item {position: relative;z-index: 1;}#sk-container-id-3 div.sk-parallel {display: flex;align-items: stretch;justify-content: center;background-color: white;position: relative;}#sk-container-id-3 div.sk-item::before, #sk-container-id-3 div.sk-parallel-item::before {content: \"\";position: absolute;border-left: 1px solid gray;box-sizing: border-box;top: 0;bottom: 0;left: 50%;z-index: -1;}#sk-container-id-3 div.sk-parallel-item {display: flex;flex-direction: column;z-index: 1;position: relative;background-color: white;}#sk-container-id-3 div.sk-parallel-item:first-child::after {align-self: flex-end;width: 50%;}#sk-container-id-3 div.sk-parallel-item:last-child::after {align-self: flex-start;width: 50%;}#sk-container-id-3 div.sk-parallel-item:only-child::after {width: 0;}#sk-container-id-3 div.sk-dashed-wrapped {border: 1px dashed gray;margin: 0 0.4em 0.5em 0.4em;box-sizing: border-box;padding-bottom: 0.4em;background-color: white;}#sk-container-id-3 div.sk-label label {font-family: monospace;font-weight: bold;display: inline-block;line-height: 1.2em;}#sk-container-id-3 div.sk-label-container {text-align: center;}#sk-container-id-3 div.sk-container {/* jupyter's `normalize.less` sets `[hidden] { display: none; }` but bootstrap.min.css set `[hidden] { display: none !important; }` so we also need the `!important` here to be able to override the default hidden behavior on the sphinx rendered scikit-learn.org. See: https://github.com/scikit-learn/scikit-learn/issues/21755 */display: inline-block !important;position: relative;}#sk-container-id-3 div.sk-text-repr-fallback {display: none;}</style><div id=\"sk-container-id-3\" class=\"sk-top-container\"><div class=\"sk-text-repr-fallback\"><pre>GridSearchCV(cv=5, estimator=ElasticNet(max_iter=10000),\n",
       "             param_grid={&#x27;alpha&#x27;: [0.1, 1.5, 10, 50, 100],\n",
       "                         &#x27;l1_ratio&#x27;: [0.1, 0.5, 0.7, 0.9, 0.95, 0.99, 1]},\n",
       "             scoring=&#x27;neg_mean_squared_error&#x27;, verbose=1)</pre><b>In a Jupyter environment, please rerun this cell to show the HTML representation or trust the notebook. <br />On GitHub, the HTML representation is unable to render, please try loading this page with nbviewer.org.</b></div><div class=\"sk-container\" hidden><div class=\"sk-item sk-dashed-wrapped\"><div class=\"sk-label-container\"><div class=\"sk-label sk-toggleable\"><input class=\"sk-toggleable__control sk-hidden--visually\" id=\"sk-estimator-id-5\" type=\"checkbox\" ><label for=\"sk-estimator-id-5\" class=\"sk-toggleable__label sk-toggleable__label-arrow\">GridSearchCV</label><div class=\"sk-toggleable__content\"><pre>GridSearchCV(cv=5, estimator=ElasticNet(max_iter=10000),\n",
       "             param_grid={&#x27;alpha&#x27;: [0.1, 1.5, 10, 50, 100],\n",
       "                         &#x27;l1_ratio&#x27;: [0.1, 0.5, 0.7, 0.9, 0.95, 0.99, 1]},\n",
       "             scoring=&#x27;neg_mean_squared_error&#x27;, verbose=1)</pre></div></div></div><div class=\"sk-parallel\"><div class=\"sk-parallel-item\"><div class=\"sk-item\"><div class=\"sk-label-container\"><div class=\"sk-label sk-toggleable\"><input class=\"sk-toggleable__control sk-hidden--visually\" id=\"sk-estimator-id-6\" type=\"checkbox\" ><label for=\"sk-estimator-id-6\" class=\"sk-toggleable__label sk-toggleable__label-arrow\">estimator: ElasticNet</label><div class=\"sk-toggleable__content\"><pre>ElasticNet(max_iter=10000)</pre></div></div></div><div class=\"sk-serial\"><div class=\"sk-item\"><div class=\"sk-estimator sk-toggleable\"><input class=\"sk-toggleable__control sk-hidden--visually\" id=\"sk-estimator-id-7\" type=\"checkbox\" ><label for=\"sk-estimator-id-7\" class=\"sk-toggleable__label sk-toggleable__label-arrow\">ElasticNet</label><div class=\"sk-toggleable__content\"><pre>ElasticNet(max_iter=10000)</pre></div></div></div></div></div></div></div></div></div></div>"
      ],
      "text/plain": [
       "GridSearchCV(cv=5, estimator=ElasticNet(max_iter=10000),\n",
       "             param_grid={'alpha': [0.1, 1.5, 10, 50, 100],\n",
       "                         'l1_ratio': [0.1, 0.5, 0.7, 0.9, 0.95, 0.99, 1]},\n",
       "             scoring='neg_mean_squared_error', verbose=1)"
      ]
     },
     "execution_count": 315,
     "metadata": {},
     "output_type": "execute_result"
    }
   ],
   "source": [
    "grid_model.fit(X_train,y_train)"
   ]
  },
  {
   "cell_type": "code",
   "execution_count": 317,
   "id": "20e80ea6-e786-44f6-83aa-2f4000d41c8f",
   "metadata": {
    "tags": []
   },
   "outputs": [
    {
     "data": {
      "text/html": [
       "<style>#sk-container-id-4 {color: black;background-color: white;}#sk-container-id-4 pre{padding: 0;}#sk-container-id-4 div.sk-toggleable {background-color: white;}#sk-container-id-4 label.sk-toggleable__label {cursor: pointer;display: block;width: 100%;margin-bottom: 0;padding: 0.3em;box-sizing: border-box;text-align: center;}#sk-container-id-4 label.sk-toggleable__label-arrow:before {content: \"▸\";float: left;margin-right: 0.25em;color: #696969;}#sk-container-id-4 label.sk-toggleable__label-arrow:hover:before {color: black;}#sk-container-id-4 div.sk-estimator:hover label.sk-toggleable__label-arrow:before {color: black;}#sk-container-id-4 div.sk-toggleable__content {max-height: 0;max-width: 0;overflow: hidden;text-align: left;background-color: #f0f8ff;}#sk-container-id-4 div.sk-toggleable__content pre {margin: 0.2em;color: black;border-radius: 0.25em;background-color: #f0f8ff;}#sk-container-id-4 input.sk-toggleable__control:checked~div.sk-toggleable__content {max-height: 200px;max-width: 100%;overflow: auto;}#sk-container-id-4 input.sk-toggleable__control:checked~label.sk-toggleable__label-arrow:before {content: \"▾\";}#sk-container-id-4 div.sk-estimator input.sk-toggleable__control:checked~label.sk-toggleable__label {background-color: #d4ebff;}#sk-container-id-4 div.sk-label input.sk-toggleable__control:checked~label.sk-toggleable__label {background-color: #d4ebff;}#sk-container-id-4 input.sk-hidden--visually {border: 0;clip: rect(1px 1px 1px 1px);clip: rect(1px, 1px, 1px, 1px);height: 1px;margin: -1px;overflow: hidden;padding: 0;position: absolute;width: 1px;}#sk-container-id-4 div.sk-estimator {font-family: monospace;background-color: #f0f8ff;border: 1px dotted black;border-radius: 0.25em;box-sizing: border-box;margin-bottom: 0.5em;}#sk-container-id-4 div.sk-estimator:hover {background-color: #d4ebff;}#sk-container-id-4 div.sk-parallel-item::after {content: \"\";width: 100%;border-bottom: 1px solid gray;flex-grow: 1;}#sk-container-id-4 div.sk-label:hover label.sk-toggleable__label {background-color: #d4ebff;}#sk-container-id-4 div.sk-serial::before {content: \"\";position: absolute;border-left: 1px solid gray;box-sizing: border-box;top: 0;bottom: 0;left: 50%;z-index: 0;}#sk-container-id-4 div.sk-serial {display: flex;flex-direction: column;align-items: center;background-color: white;padding-right: 0.2em;padding-left: 0.2em;position: relative;}#sk-container-id-4 div.sk-item {position: relative;z-index: 1;}#sk-container-id-4 div.sk-parallel {display: flex;align-items: stretch;justify-content: center;background-color: white;position: relative;}#sk-container-id-4 div.sk-item::before, #sk-container-id-4 div.sk-parallel-item::before {content: \"\";position: absolute;border-left: 1px solid gray;box-sizing: border-box;top: 0;bottom: 0;left: 50%;z-index: -1;}#sk-container-id-4 div.sk-parallel-item {display: flex;flex-direction: column;z-index: 1;position: relative;background-color: white;}#sk-container-id-4 div.sk-parallel-item:first-child::after {align-self: flex-end;width: 50%;}#sk-container-id-4 div.sk-parallel-item:last-child::after {align-self: flex-start;width: 50%;}#sk-container-id-4 div.sk-parallel-item:only-child::after {width: 0;}#sk-container-id-4 div.sk-dashed-wrapped {border: 1px dashed gray;margin: 0 0.4em 0.5em 0.4em;box-sizing: border-box;padding-bottom: 0.4em;background-color: white;}#sk-container-id-4 div.sk-label label {font-family: monospace;font-weight: bold;display: inline-block;line-height: 1.2em;}#sk-container-id-4 div.sk-label-container {text-align: center;}#sk-container-id-4 div.sk-container {/* jupyter's `normalize.less` sets `[hidden] { display: none; }` but bootstrap.min.css set `[hidden] { display: none !important; }` so we also need the `!important` here to be able to override the default hidden behavior on the sphinx rendered scikit-learn.org. See: https://github.com/scikit-learn/scikit-learn/issues/21755 */display: inline-block !important;position: relative;}#sk-container-id-4 div.sk-text-repr-fallback {display: none;}</style><div id=\"sk-container-id-4\" class=\"sk-top-container\"><div class=\"sk-text-repr-fallback\"><pre>ElasticNet(alpha=0.1, l1_ratio=1, max_iter=10000)</pre><b>In a Jupyter environment, please rerun this cell to show the HTML representation or trust the notebook. <br />On GitHub, the HTML representation is unable to render, please try loading this page with nbviewer.org.</b></div><div class=\"sk-container\" hidden><div class=\"sk-item\"><div class=\"sk-estimator sk-toggleable\"><input class=\"sk-toggleable__control sk-hidden--visually\" id=\"sk-estimator-id-8\" type=\"checkbox\" checked><label for=\"sk-estimator-id-8\" class=\"sk-toggleable__label sk-toggleable__label-arrow\">ElasticNet</label><div class=\"sk-toggleable__content\"><pre>ElasticNet(alpha=0.1, l1_ratio=1, max_iter=10000)</pre></div></div></div></div></div>"
      ],
      "text/plain": [
       "ElasticNet(alpha=0.1, l1_ratio=1, max_iter=10000)"
      ]
     },
     "execution_count": 317,
     "metadata": {},
     "output_type": "execute_result"
    }
   ],
   "source": [
    "grid_model.best_estimator_"
   ]
  },
  {
   "cell_type": "code",
   "execution_count": 319,
   "id": "711c5499-6d1e-4c83-9467-97a70316dca1",
   "metadata": {
    "tags": []
   },
   "outputs": [],
   "source": [
    "y_pred = grid_model.predict(X_test)"
   ]
  },
  {
   "cell_type": "code",
   "execution_count": 323,
   "id": "65c3456b-1595-463e-a507-43bdc03d0703",
   "metadata": {
    "tags": []
   },
   "outputs": [
    {
     "data": {
      "text/plain": [
       "77878.14043927686"
      ]
     },
     "execution_count": 323,
     "metadata": {},
     "output_type": "execute_result"
    }
   ],
   "source": [
    "RMSE = np.sqrt(mean_squared_error(y_test,y_pred))\n",
    "RMSE"
   ]
  },
  {
   "cell_type": "code",
   "execution_count": 325,
   "id": "72731353-0044-4a45-9b8c-a9df78b27aa4",
   "metadata": {
    "tags": []
   },
   "outputs": [
    {
     "data": {
      "text/plain": [
       "58310.72642632865"
      ]
     },
     "execution_count": 325,
     "metadata": {},
     "output_type": "execute_result"
    }
   ],
   "source": [
    "MAE = mean_absolute_error(y_test,y_pred)\n",
    "MAE"
   ]
  },
  {
   "cell_type": "code",
   "execution_count": 327,
   "id": "1cb9e421-82d9-43ee-bac8-711da4ed5fad",
   "metadata": {
    "tags": []
   },
   "outputs": [
    {
     "data": {
      "text/plain": [
       "282626.73746282596"
      ]
     },
     "execution_count": 327,
     "metadata": {},
     "output_type": "execute_result"
    }
   ],
   "source": [
    "np.mean(df.valeur_fonciere)"
   ]
  },
  {
   "cell_type": "code",
   "execution_count": 329,
   "id": "482f1e96-1fc0-4fa0-934a-95210c8f96d6",
   "metadata": {
    "tags": []
   },
   "outputs": [],
   "source": [
    "# Distribution des erreurs\n",
    "errors = y_pred - y_test"
   ]
  },
  {
   "cell_type": "code",
   "execution_count": 331,
   "id": "0df8af9c-5ebe-48c0-9dce-7eb94b78c373",
   "metadata": {
    "tags": []
   },
   "outputs": [
    {
     "data": {
      "image/png": "[encoded data removed]",
      "text/plain": [
       "<Figure size 640x480 with 1 Axes>"
      ]
     },
     "metadata": {},
     "output_type": "display_data"
    }
   ],
   "source": [
    "plt.hist(errors, bins=50)\n",
    "plt.xlabel('Erreur de prédiction')\n",
    "plt.ylabel('Fréquence')\n",
    "plt.title('Distribution des erreurs de prédiction (ElasticNet)')\n",
    "plt.show()"
   ]
  },
  {
   "cell_type": "markdown",
   "id": "e784fc49-5b37-40dd-8b83-744f089b4265",
   "metadata": {
    "jp-MarkdownHeadingCollapsed": true,
    "tags": []
   },
   "source": [
    "### Search for different model"
   ]
  },
  {
   "cell_type": "code",
   "execution_count": 43,
   "id": "6ab576fa-fcf7-433e-88ca-fe763a4fd2ad",
   "metadata": {
    "tags": []
   },
   "outputs": [],
   "source": [
    "def find_best_model(X,y):\n",
    "    algos={\n",
    "        'linear_regression':{\n",
    "            'model':LinearRegression(),\n",
    "            'params':{\n",
    "                'fit_intercept': [True, False]\n",
    "            }\n",
    "        },\n",
    "        'lasso':{\n",
    "            'model':Lasso(),\n",
    "            'params':{\n",
    "                'alpha':[0.1,0.5,1.0],\n",
    "                'max_iter':[10000]\n",
    "            }\n",
    "        },\n",
    "        'random_forest':{\n",
    "            'model':RandomForestRegressor(random_state=42),\n",
    "            'params':{    \n",
    "                'n_estimators': [100, 200],\n",
    "                'max_depth': [None, 10],\n",
    "                'min_samples_split': [2, 5],\n",
    "                'min_samples_leaf': [1, 2]\n",
    "            }\n",
    "        }\n",
    "    }    \n",
    "    \n",
    "    scores=[]\n",
    "    cv =  ShuffleSplit(n_splits=3,test_size=0.1,random_state =0)\n",
    "    for algo_name, config in algos.items():\n",
    "        gs = GridSearchCV(config['model'],config['params'],cv=cv, return_train_score =False)\n",
    "        gs.fit(X_train,y_train)\n",
    "        \n",
    "        best_model = gs.best_estimator_\n",
    "        y_pred = best_model.predict(X_test)\n",
    "        \n",
    "        mse = mean_squared_error(y_test, y_pred)\n",
    "        mae = mean_absolute_error(y_test, y_pred)\n",
    "        \n",
    "        scores.append({\n",
    "            'model':algo_name,\n",
    "            'best_score':gs.best_score_,\n",
    "            'best_params':gs.best_params_,\n",
    "            'mean_squared_error': mse,\n",
    "            'mean_absolute_error': mae\n",
    "        })\n",
    "    \n",
    "    return pd.DataFrame(scores, columns=['model','best_score','best_params', 'mean_squared_error', 'mean_absolute_error'])"
   ]
  },
  {
   "cell_type": "code",
   "execution_count": 45,
   "id": "e599cf98-1ac5-4a5d-9f42-0ee2f774b22d",
   "metadata": {
    "tags": []
   },
   "outputs": [
    {
     "data": {
      "text/html": [
       "<div>\n",
       "<style scoped>\n",
       "    .dataframe tbody tr th:only-of-type {\n",
       "        vertical-align: middle;\n",
       "    }\n",
       "\n",
       "    .dataframe tbody tr th {\n",
       "        vertical-align: top;\n",
       "    }\n",
       "\n",
       "    .dataframe thead th {\n",
       "        text-align: right;\n",
       "    }\n",
       "</style>\n",
       "<table border=\"1\" class=\"dataframe\">\n",
       "  <thead>\n",
       "    <tr style=\"text-align: right;\">\n",
       "      <th></th>\n",
       "      <th>model</th>\n",
       "      <th>best_score</th>\n",
       "      <th>best_params</th>\n",
       "    </tr>\n",
       "  </thead>\n",
       "  <tbody>\n",
       "    <tr>\n",
       "      <th>0</th>\n",
       "      <td>linear_regression</td>\n",
       "      <td>0.569949</td>\n",
       "      <td>{'fit_intercept': True}</td>\n",
       "    </tr>\n",
       "    <tr>\n",
       "      <th>1</th>\n",
       "      <td>lasso</td>\n",
       "      <td>0.569986</td>\n",
       "      <td>{'alpha': 1.0, 'max_iter': 10000}</td>\n",
       "    </tr>\n",
       "    <tr>\n",
       "      <th>2</th>\n",
       "      <td>random_forest</td>\n",
       "      <td>0.578173</td>\n",
       "      <td>{'max_depth': None, 'min_samples_leaf': 1, 'mi...</td>\n",
       "    </tr>\n",
       "  </tbody>\n",
       "</table>\n",
       "</div>"
      ],
      "text/plain": [
       "               model  best_score  \\\n",
       "0  linear_regression    0.569949   \n",
       "1              lasso    0.569986   \n",
       "2      random_forest    0.578173   \n",
       "\n",
       "                                         best_params  \n",
       "0                            {'fit_intercept': True}  \n",
       "1                  {'alpha': 1.0, 'max_iter': 10000}  \n",
       "2  {'max_depth': None, 'min_samples_leaf': 1, 'mi...  "
      ]
     },
     "execution_count": 45,
     "metadata": {},
     "output_type": "execute_result"
    }
   ],
   "source": [
    "find_best_model(X_train, y_train)"
   ]
  },
  {
   "cell_type": "markdown",
   "id": "8d222d83-c7a1-4680-8c8e-c693860c07b4",
   "metadata": {},
   "source": [
    "### Méthode basé sur les arbres : Gradient Boosting "
   ]
  },
  {
   "cell_type": "code",
   "execution_count": 109,
   "id": "6b406053-5e98-4d9d-8267-6858898c8067",
   "metadata": {},
   "outputs": [
    {
     "name": "stdout",
     "output_type": "stream",
     "text": [
      "Fitting 5 folds for each of 12 candidates, totalling 60 fits\n",
      "XGBoost MSE: 5218236195.881407, MAE: 53494.07988284854, R^2: 0.6342892558224438, best_estimator: GradientBoostingRegressor(learning_rate=0.2, n_estimators=300, random_state=42)\n"
     ]
    }
   ],
   "source": [
    "from sklearn.ensemble import GradientBoostingRegressor\n",
    "\n",
    "gb_model = GradientBoostingRegressor(random_state=42)\n",
    "\n",
    "param_gb = {\n",
    "    'n_estimators': [200, 300],\n",
    "    'learning_rate': [0.1, 0.2],\n",
    "    'max_depth': [3, 5, 7]\n",
    "}\n",
    "\n",
    "gb_search = GridSearchCV(estimator=gb_model, param_grid=param_gb,cv=5, verbose=1)\n",
    "gb_search.fit(X_train, y_train)\n",
    "\n",
    "best_gb_model = gb_search.best_estimator_\n",
    "\n",
    "y_pred_gb = best_gb_model.predict(X_test)\n",
    "\n",
    "gb_mse = mean_squared_error(y_test, y_pred_gb)\n",
    "gb_mae = mean_absolute_error(y_test, y_pred_gb)\n",
    "gb_r2 = best_gb_model.score(X_test, y_test)\n",
    "\n",
    "print(f'GBoost MSE: {gb_mse}, MAE: {gb_mae}, R^2: {gb_r2}, best_estimator: {best_gb_model}')"
   ]
  },
  {
   "cell_type": "code",
   "execution_count": 111,
   "id": "525145f5-cb3c-489a-a92c-6b9e923cd313",
   "metadata": {
    "tags": []
   },
   "outputs": [
    {
     "data": {
      "text/plain": [
       "72237.3601115199"
      ]
     },
     "execution_count": 111,
     "metadata": {},
     "output_type": "execute_result"
    }
   ],
   "source": [
    "np.sqrt(5218236195.881407)"
   ]
  },
  {
   "cell_type": "code",
   "execution_count": 113,
   "id": "67de4526-b2a1-488f-b244-a3299c20ebbd",
   "metadata": {
    "tags": []
   },
   "outputs": [
    {
     "name": "stdout",
     "output_type": "stream",
     "text": [
      "Fitting 5 folds for each of 243 candidates, totalling 1215 fits\n",
      "XGBoost MSE: 5156030350.558953, MAE: 52962.99329190978, R^2: 0.6386488411557072, best_estimator: XGBRegressor(base_score=None, booster=None, callbacks=None,\n",
      "             colsample_bylevel=None, colsample_bynode=None,\n",
      "             colsample_bytree=0.6, device=None, early_stopping_rounds=None,\n",
      "             enable_categorical=False, eval_metric=None, feature_types=None,\n",
      "             gamma=None, grow_policy=None, importance_type=None,\n",
      "             interaction_constraints=None, learning_rate=0.2, max_bin=None,\n",
      "             max_cat_threshold=None, max_cat_to_onehot=None,\n",
      "             max_delta_step=None, max_depth=3, max_leaves=None,\n",
      "             min_child_weight=None, missing=nan, monotone_constraints=None,\n",
      "             multi_strategy=None, n_estimators=300, n_jobs=None,\n",
      "             num_parallel_tree=None, random_state=None, ...)\n"
     ]
    }
   ],
   "source": [
    "from xgboost import XGBRegressor\n",
    "\n",
    "xgb_model = XGBRegressor(objective='reg:squarederror')\n",
    "\n",
    "param_xgb = {\n",
    "    'n_estimators': [100, 200, 300],\n",
    "    'learning_rate': [0.01, 0.1, 0.2],\n",
    "    'max_depth': [3, 5, 7],\n",
    "    'subsample': [0.6, 0.8, 1.0],\n",
    "    'colsample_bytree': [0.6, 0.8, 1.0]\n",
    "}\n",
    "\n",
    "xgb_search = GridSearchCV(estimator=xgb_model, param_grid=param_xgb,cv=5, verbose=1)\n",
    "xgb_search.fit(X_train, y_train)\n",
    "\n",
    "best_xgb_model = xgb_search.best_estimator_\n",
    "\n",
    "y_pred_xgb = best_xgb_model.predict(X_test)\n",
    "\n",
    "xgb_mse = mean_squared_error(y_test, y_pred_xgb)\n",
    "xgb_mae = mean_absolute_error(y_test, y_pred_xgb)\n",
    "xgb_r2 = best_xgb_model.score(X_test, y_test)\n",
    "\n",
    "print(f'XGBoost MSE: {xgb_mse}, MAE: {xgb_mae}, R^2: {xgb_r2}, best_estimator: {best_xgb_model}')"
   ]
  },
  {
   "cell_type": "code",
   "execution_count": 115,
   "id": "f9c3f1d5-1ca5-415e-b0b4-3d27e0ac9e16",
   "metadata": {
    "tags": []
   },
   "outputs": [
    {
     "data": {
      "text/plain": [
       "71805.50362304378"
      ]
     },
     "execution_count": 115,
     "metadata": {},
     "output_type": "execute_result"
    }
   ],
   "source": [
    "np.sqrt(5156030350.558953)"
   ]
  },
  {
   "cell_type": "markdown",
   "id": "3fa44d2e-6a3e-4edf-a3b6-d703b7f8c1cb",
   "metadata": {},
   "source": [
    "## Training ensemble des data"
   ]
  },
  {
   "cell_type": "code",
   "execution_count": 117,
   "id": "115888c1-c569-4a18-87d2-23b0eb32396a",
   "metadata": {
    "tags": []
   },
   "outputs": [],
   "source": [
    "final_xgbr_model = XGBRegressor(n_estimators=300, learning_rate=0.2, max_depth=3, colsample_bytree=0.6)\n",
    "full_X = final_xgbr_model.fit(X,y)"
   ]
  },
  {
   "cell_type": "markdown",
   "id": "9b596ed0-600f-4fcc-a414-3f0edca7e5d1",
   "metadata": {},
   "source": [
    "## Predictions"
   ]
  },
  {
   "cell_type": "code",
   "execution_count": 169,
   "id": "1e311248-0f29-42b9-b7fe-77b6782f432a",
   "metadata": {
    "tags": []
   },
   "outputs": [],
   "source": [
    "def predict_price(code_postal, surface_reelle_bati, nombre_pieces_principales, exterieur, surface_terrain, model, columns):\n",
    "    # Créer un vecteur de zéros pour stocker les valeurs des caractéristiques\n",
    "    X = np.zeros(len(columns))\n",
    "    \n",
    "    # Assigner les valeurs des caractéristiques\n",
    "    X[0] = surface_reelle_bati\n",
    "    X[1] = nombre_pieces_principales\n",
    "    X[2] = surface_terrain\n",
    "    \n",
    "    # Si le code postal est présent dans les colonnes\n",
    "    if code_postal in columns:\n",
    "        # Trouver l'index correspondant au code postal\n",
    "        loc_index = columns.get_loc(code_postal)\n",
    "        \n",
    "        # Mettre à 1 pour le code postal correspondant\n",
    "        X[loc_index] = 1\n",
    "    \n",
    "        # Faire la prédiction, Ignorer la première colonne 'valeur_fonciere'\n",
    "        predicted_price = model.predict([X[1:]])\n",
    "        return predicted_price[0]\n",
    "    else:\n",
    "        print(\"Code postal non trouvé dans les colonnes.\")\n",
    "        return None\n"
   ]
  },
  {
   "cell_type": "code",
   "execution_count": 185,
   "id": "a4212a2c-4920-4270-be4c-8d17d80ec34f",
   "metadata": {
    "tags": []
   },
   "outputs": [
    {
     "data": {
      "text/plain": [
       "426029.26541557803"
      ]
     },
     "execution_count": 185,
     "metadata": {},
     "output_type": "execute_result"
    }
   ],
   "source": [
    "code_postal = 'code_postal_31100'\n",
    "surface_reelle_bati = 150\n",
    "nombre_pieces_principales = 5\n",
    "exterieur = 1\n",
    "surface_terrain = 500\n",
    "\n",
    "predicted_price = predict_price(code_postal, surface_reelle_bati, nombre_pieces_principales, exterieur, surface_terrain, best_gb_model, df.columns)\n",
    "predicted_price"
   ]
  },
  {
   "cell_type": "code",
   "execution_count": 199,
   "id": "e335ab72-0749-4c9e-b6c4-014828d1717f",
   "metadata": {
    "tags": []
   },
   "outputs": [
    {
     "data": {
      "text/plain": [
       "369074.4001070485"
      ]
     },
     "execution_count": 199,
     "metadata": {},
     "output_type": "execute_result"
    }
   ],
   "source": [
    "code_postal = 'code_postal_31110'\n",
    "surface_reelle_bati = 200\n",
    "nombre_pieces_principales = 6\n",
    "exterieur = 0\n",
    "surface_terrain = 0\n",
    "\n",
    "predicted_price = predict_price(code_postal, surface_reelle_bati, nombre_pieces_principales, exterieur, surface_terrain, best_gb_model, df.columns)\n",
    "predicted_price"
   ]
  },
  {
   "cell_type": "code",
   "execution_count": 205,
   "id": "bb3f2b85-9517-41dd-988b-dcebeee02b4d",
   "metadata": {
    "tags": []
   },
   "outputs": [
    {
     "data": {
      "text/plain": [
       "426029.26541557803"
      ]
     },
     "execution_count": 205,
     "metadata": {},
     "output_type": "execute_result"
    }
   ],
   "source": [
    "code_postal = 'code_postal_31700'\n",
    "surface_reelle_bati = 50\n",
    "nombre_pieces_principales = 3\n",
    "exterieur = 1\n",
    "surface_terrain = 100\n",
    "\n",
    "predicted_price = predict_price(code_postal, surface_reelle_bati, nombre_pieces_principales, exterieur, surface_terrain, best_gb_model, df.columns)\n",
    "predicted_price"
   ]
  },
  {
   "cell_type": "code",
   "execution_count": 177,
   "id": "f3bd5632-27ef-4c56-b806-1d23bfb7e612",
   "metadata": {
    "tags": []
   },
   "outputs": [
    {
     "data": {
      "text/plain": [
       "369074.4001070485"
      ]
     },
     "execution_count": 177,
     "metadata": {},
     "output_type": "execute_result"
    }
   ],
   "source": [
    "code_postal = 'code_postal_31800'\n",
    "surface_reelle_bati = 50\n",
    "nombre_pieces_principales = 6\n",
    "exterieur = 0\n",
    "surface_terrain = 0\n",
    "\n",
    "predicted_price = predict_price(code_postal, surface_reelle_bati, nombre_pieces_principales, exterieur, surface_terrain, best_gb_model, df.columns)\n",
    "predicted_price"
   ]
  },
  {
   "cell_type": "markdown",
   "id": "3fd13369-8f36-495d-82ab-1202048650a9",
   "metadata": {
    "tags": []
   },
   "source": [
    "## Save model"
   ]
  },
  {
   "cell_type": "code",
   "execution_count": null,
   "id": "4be968fc-7e66-4245-8f42-bb0330391ace",
   "metadata": {},
   "outputs": [],
   "source": [
    "import pickle"
   ]
  },
  {
   "cell_type": "code",
   "execution_count": null,
   "id": "404157a2-5746-48bf-a995-c7f3a7177f9c",
   "metadata": {},
   "outputs": [],
   "source": [
    "with open('house_price_hautegar_model.pickle','wb') as f:\n",
    "    pickle.dump(final_gb_model,f)"
   ]
  },
  {
   "cell_type": "code",
   "execution_count": null,
   "id": "86dcb17a-5cce-4dab-84d6-5b9c0c4b995d",
   "metadata": {},
   "outputs": [],
   "source": [
    "import json"
   ]
  },
  {
   "cell_type": "code",
   "execution_count": null,
   "id": "238968f9-c1ec-4211-bd25-f13efa8731b0",
   "metadata": {},
   "outputs": [],
   "source": [
    "columns={\n",
    "    'data_columns'=[col.lower() for col in X.columns]\n",
    "}\n",
    "with open('columns.json','w') as f:\n",
    "    f.write(json.dump(columns)"
   ]
  }
 ],
 "metadata": {
  "kernelspec": {
   "display_name": "Python 3 (ipykernel)",
   "language": "python",
   "name": "python3"
  },
  "language_info": {
   "codemirror_mode": {
    "name": "ipython",
    "version": 3
   },
   "file_extension": ".py",
   "mimetype": "text/x-python",
   "name": "python",
   "nbconvert_exporter": "python",
   "pygments_lexer": "ipython3",
   "version": "3.11.7"
  }
 },
 "nbformat": 4,
 "nbformat_minor": 5
}
