{
 "cells": [
  {
   "cell_type": "markdown",
   "id": "5e752056-9a95-4155-8ad2-2b9b33608029",
   "metadata": {
    "tags": []
   },
   "source": [
    "# House and Appartement pricing in Haute_Garonne (31)"
   ]
  },
  {
   "cell_type": "markdown",
   "id": "c67de74c-0dcc-4fc6-815b-0ab33937c0c2",
   "metadata": {},
   "source": [
    "The goal is to fecth data from data.gouv.fr of the house sell in the department 31 for finding some patterns and deploy a model to predict the value of an house or appartment.  \n",
    "The first Notebook is about the creation of clean data.\n",
    "* Source : https://files.data.gouv.fr/geo-dvf/latest/csv/  \n",
    "---\n",
    "  \n",
    "The notebook is separated like that : \\\n",
    "1 - Necessary importation  \n",
    "2 - Recuperation of all the datas (.csv) from 2021 to 2023 and combined in one dataframe    \n",
    "3 - Simplification and cleaning of the datas (dropped unnecessary columns, filled missing datas, convert data for ML)  \n",
    "4 - Saving the new DataFrame for futur analysis\n",
    "  \n",
    "---"
   ]
  },
  {
   "cell_type": "markdown",
   "id": "dcd93542-bd09-4d43-a7ad-2dab486e5a5b",
   "metadata": {
    "tags": []
   },
   "source": [
    "## Importation"
   ]
  },
  {
   "cell_type": "code",
   "execution_count": 4,
   "id": "d8dc733e-9890-45ce-9f55-d04aa3534f15",
   "metadata": {
    "tags": []
   },
   "outputs": [],
   "source": [
    "import os\n",
    "import uuid\n",
    "import requests\n",
    "from bs4 import BeautifulSoup\n",
    "from urllib.parse import urljoin\n",
    "\n",
    "import pandas as pd\n",
    "import numpy as np\n",
    "import seaborn as sns\n",
    "import matplotlib.pyplot as plt\n",
    "import time\n",
    "import scipy.stats as stats"
   ]
  },
  {
   "cell_type": "markdown",
   "id": "e5d4334a-c86e-4342-b4aa-9f1142e33c03",
   "metadata": {
    "jp-MarkdownHeadingCollapsed": true,
    "tags": []
   },
   "source": [
    "## Data collection"
   ]
  },
  {
   "cell_type": "markdown",
   "id": "af5131ff-e31f-47e2-9893-6f71f0e898d9",
   "metadata": {
    "tags": []
   },
   "source": [
    "### Fetch the datas, downloading and stored in one folder"
   ]
  },
  {
   "cell_type": "code",
   "execution_count": 12,
   "id": "f27e400a-da5c-4b73-a911-63bbd09be154",
   "metadata": {
    "tags": []
   },
   "outputs": [],
   "source": [
    "def get_csv(url,download_folder) : \n",
    "    response = requests.get(url)\n",
    "    response.raise_for_status()\n",
    "    \n",
    "    soup = BeautifulSoup(response.content, 'html.parser')\n",
    "    \n",
    "    csv_links = soup.find_all('a', href=True)\n",
    "    csv_links = [link for link in csv_links if link['href'].endswith('.csv')]\n",
    "    \n",
    "    if not os.path.exists(download_folder):\n",
    "        os.makedirs(download_folder)\n",
    "              \n",
    "    for link in csv_links:\n",
    "        file_url = urljoin(url, link['href'])\n",
    "        original_file_name = os.path.basename(link['href'])\n",
    "        unique_file_name = f\"{uuid.uuid4()}_{original_file_name}\"\n",
    "        file_path = os.path.join(download_folder, unique_file_name)\n",
    "        \n",
    "        try :    \n",
    "            file_response = requests.get(file_url)\n",
    "            file_response.raise_for_status()\n",
    "    \n",
    "            with open(file_path, 'wb') as file:\n",
    "                file.write(file_response.content)\n",
    "        except requests.exceptions.RequestException as e:\n",
    "            print(f'Error downloading {unique_file_name}:{e}')\n",
    "    \n",
    "    print(f'Download completed for URL:{url}')   "
   ]
  },
  {
   "cell_type": "code",
   "execution_count": 6,
   "id": "7259d215-a531-421c-9172-34d3d013afa7",
   "metadata": {
    "tags": []
   },
   "outputs": [],
   "source": [
    "# Folder location\n",
    "download_folder = r'C:\\Users\\melan\\Desktop\\DeveloppementInfo\\Portfolio\\ProjectsData\\House_Price_Toulouse\\CSV'"
   ]
  },
  {
   "cell_type": "code",
   "execution_count": 8,
   "id": "b1a25eb2-8421-48e9-affd-f5509c675477",
   "metadata": {
    "tags": []
   },
   "outputs": [],
   "source": [
    "# urls \n",
    "urls = ['https://files.data.gouv.fr/geo-dvf/latest/csv/2023/communes/31/',\n",
    "        'https://files.data.gouv.fr/geo-dvf/latest/csv/2022/communes/31/',\n",
    "        'https://files.data.gouv.fr/geo-dvf/latest/csv/2021/communes/31/']"
   ]
  },
  {
   "cell_type": "code",
   "execution_count": 14,
   "id": "8ee86ed3-1df8-4e86-a567-51296e2d8f5c",
   "metadata": {
    "tags": []
   },
   "outputs": [
    {
     "name": "stdout",
     "output_type": "stream",
     "text": [
      "Download completed for URL:https://files.data.gouv.fr/geo-dvf/latest/csv/2023/communes/31/\n",
      "Download completed for URL:https://files.data.gouv.fr/geo-dvf/latest/csv/2022/communes/31/\n",
      "Download completed for URL:https://files.data.gouv.fr/geo-dvf/latest/csv/2021/communes/31/\n"
     ]
    }
   ],
   "source": [
    "for url in urls :\n",
    "    get_csv(url, download_folder)"
   ]
  },
  {
   "cell_type": "markdown",
   "id": "cac819a5-c108-47f5-bab4-6bffd2538ffd",
   "metadata": {
    "tags": []
   },
   "source": [
    "### Concatenation of all the data in one csv file"
   ]
  },
  {
   "cell_type": "code",
   "execution_count": 18,
   "id": "b3eaa057-83bd-49d3-a631-3a85b7f30809",
   "metadata": {
    "tags": []
   },
   "outputs": [
    {
     "name": "stdout",
     "output_type": "stream",
     "text": [
      "All CSV files have been concatenated into : C:\\Users\\melan\\Desktop\\DeveloppementInfo\\Portfolio\\ProjectsData\\House_Price_Toulouse\\CSV\\concatenated.csv\n"
     ]
    }
   ],
   "source": [
    "dfs = []\n",
    "for file_name in os.listdir(download_folder):\n",
    "    if file_name.endswith('.csv'):\n",
    "        file_path = os.path.join(download_folder, file_name)\n",
    "        # Lire chaque fichier CSV et l'ajouter à la liste des DataFrames\n",
    "        df = pd.read_csv(file_path)\n",
    "        dfs.append(df)\n",
    "        \n",
    "concatenated_df = pd.concat(dfs, ignore_index=True)\n",
    "output_file = os.path.join(download_folder, 'concatenated.csv')\n",
    "concatenated_df.to_csv(output_file, index=False)\n",
    "\n",
    "print(f'All CSV files have been concatenated into : {output_file}')"
   ]
  },
  {
   "cell_type": "markdown",
   "id": "ee62799d-65b1-4c36-9503-c39bd0111fe5",
   "metadata": {
    "tags": []
   },
   "source": [
    "## Cleaning"
   ]
  },
  {
   "cell_type": "markdown",
   "id": "55d3ba55-7862-47e6-8468-c0763a647ce8",
   "metadata": {
    "tags": []
   },
   "source": [
    "### Reading CSV concatenated"
   ]
  },
  {
   "cell_type": "code",
   "execution_count": 20,
   "id": "7539f616-e7a3-4f73-a994-72274f9ab3d8",
   "metadata": {
    "tags": []
   },
   "outputs": [],
   "source": [
    "df = pd.read_csv(os.path.join(download_folder, 'concatenated.csv'))"
   ]
  },
  {
   "cell_type": "code",
   "execution_count": 22,
   "id": "bcd4904a-994a-4ab9-9c87-05f1e9d85332",
   "metadata": {
    "tags": []
   },
   "outputs": [
    {
     "data": {
      "text/html": [
       "<div>\n",
       "<style scoped>\n",
       "    .dataframe tbody tr th:only-of-type {\n",
       "        vertical-align: middle;\n",
       "    }\n",
       "\n",
       "    .dataframe tbody tr th {\n",
       "        vertical-align: top;\n",
       "    }\n",
       "\n",
       "    .dataframe thead th {\n",
       "        text-align: right;\n",
       "    }\n",
       "</style>\n",
       "<table border=\"1\" class=\"dataframe\">\n",
       "  <thead>\n",
       "    <tr style=\"text-align: right;\">\n",
       "      <th></th>\n",
       "      <th>id_mutation</th>\n",
       "      <th>date_mutation</th>\n",
       "      <th>numero_disposition</th>\n",
       "      <th>nature_mutation</th>\n",
       "      <th>valeur_fonciere</th>\n",
       "      <th>adresse_numero</th>\n",
       "      <th>adresse_suffixe</th>\n",
       "      <th>adresse_nom_voie</th>\n",
       "      <th>adresse_code_voie</th>\n",
       "      <th>code_postal</th>\n",
       "      <th>...</th>\n",
       "      <th>type_local</th>\n",
       "      <th>surface_reelle_bati</th>\n",
       "      <th>nombre_pieces_principales</th>\n",
       "      <th>code_nature_culture</th>\n",
       "      <th>nature_culture</th>\n",
       "      <th>code_nature_culture_speciale</th>\n",
       "      <th>nature_culture_speciale</th>\n",
       "      <th>surface_terrain</th>\n",
       "      <th>longitude</th>\n",
       "      <th>latitude</th>\n",
       "    </tr>\n",
       "  </thead>\n",
       "  <tbody>\n",
       "    <tr>\n",
       "      <th>0</th>\n",
       "      <td>2022-478855</td>\n",
       "      <td>2022-01-25</td>\n",
       "      <td>1</td>\n",
       "      <td>Vente</td>\n",
       "      <td>277000.0</td>\n",
       "      <td>NaN</td>\n",
       "      <td>NaN</td>\n",
       "      <td>LA BARTHE</td>\n",
       "      <td>B001</td>\n",
       "      <td>31800.0</td>\n",
       "      <td>...</td>\n",
       "      <td>NaN</td>\n",
       "      <td>NaN</td>\n",
       "      <td>NaN</td>\n",
       "      <td>T</td>\n",
       "      <td>terres</td>\n",
       "      <td>NaN</td>\n",
       "      <td>NaN</td>\n",
       "      <td>8359.0</td>\n",
       "      <td>0.666552</td>\n",
       "      <td>43.163195</td>\n",
       "    </tr>\n",
       "    <tr>\n",
       "      <th>1</th>\n",
       "      <td>2022-478855</td>\n",
       "      <td>2022-01-25</td>\n",
       "      <td>1</td>\n",
       "      <td>Vente</td>\n",
       "      <td>277000.0</td>\n",
       "      <td>NaN</td>\n",
       "      <td>NaN</td>\n",
       "      <td>LA BARTHE</td>\n",
       "      <td>B001</td>\n",
       "      <td>31800.0</td>\n",
       "      <td>...</td>\n",
       "      <td>NaN</td>\n",
       "      <td>NaN</td>\n",
       "      <td>NaN</td>\n",
       "      <td>T</td>\n",
       "      <td>terres</td>\n",
       "      <td>NaN</td>\n",
       "      <td>NaN</td>\n",
       "      <td>4101.0</td>\n",
       "      <td>0.666552</td>\n",
       "      <td>43.163195</td>\n",
       "    </tr>\n",
       "    <tr>\n",
       "      <th>2</th>\n",
       "      <td>2022-478855</td>\n",
       "      <td>2022-01-25</td>\n",
       "      <td>1</td>\n",
       "      <td>Vente</td>\n",
       "      <td>277000.0</td>\n",
       "      <td>NaN</td>\n",
       "      <td>NaN</td>\n",
       "      <td>LA BARTHE</td>\n",
       "      <td>B001</td>\n",
       "      <td>31800.0</td>\n",
       "      <td>...</td>\n",
       "      <td>NaN</td>\n",
       "      <td>NaN</td>\n",
       "      <td>NaN</td>\n",
       "      <td>T</td>\n",
       "      <td>terres</td>\n",
       "      <td>NaN</td>\n",
       "      <td>NaN</td>\n",
       "      <td>10455.0</td>\n",
       "      <td>0.667580</td>\n",
       "      <td>43.162416</td>\n",
       "    </tr>\n",
       "  </tbody>\n",
       "</table>\n",
       "<p>3 rows × 40 columns</p>\n",
       "</div>"
      ],
      "text/plain": [
       "   id_mutation date_mutation  numero_disposition nature_mutation  \\\n",
       "0  2022-478855    2022-01-25                   1           Vente   \n",
       "1  2022-478855    2022-01-25                   1           Vente   \n",
       "2  2022-478855    2022-01-25                   1           Vente   \n",
       "\n",
       "   valeur_fonciere  adresse_numero adresse_suffixe adresse_nom_voie  \\\n",
       "0         277000.0             NaN             NaN        LA BARTHE   \n",
       "1         277000.0             NaN             NaN        LA BARTHE   \n",
       "2         277000.0             NaN             NaN        LA BARTHE   \n",
       "\n",
       "  adresse_code_voie  code_postal  ...  type_local surface_reelle_bati  \\\n",
       "0              B001      31800.0  ...         NaN                 NaN   \n",
       "1              B001      31800.0  ...         NaN                 NaN   \n",
       "2              B001      31800.0  ...         NaN                 NaN   \n",
       "\n",
       "   nombre_pieces_principales  code_nature_culture  nature_culture  \\\n",
       "0                        NaN                    T          terres   \n",
       "1                        NaN                    T          terres   \n",
       "2                        NaN                    T          terres   \n",
       "\n",
       "  code_nature_culture_speciale  nature_culture_speciale  surface_terrain  \\\n",
       "0                          NaN                      NaN           8359.0   \n",
       "1                          NaN                      NaN           4101.0   \n",
       "2                          NaN                      NaN          10455.0   \n",
       "\n",
       "   longitude   latitude  \n",
       "0   0.666552  43.163195  \n",
       "1   0.666552  43.163195  \n",
       "2   0.667580  43.162416  \n",
       "\n",
       "[3 rows x 40 columns]"
      ]
     },
     "execution_count": 22,
     "metadata": {},
     "output_type": "execute_result"
    }
   ],
   "source": [
    "df.head(3)"
   ]
  },
  {
   "cell_type": "code",
   "execution_count": 24,
   "id": "4ed8d209-d304-42e2-ae95-376af4d63f1d",
   "metadata": {
    "tags": []
   },
   "outputs": [
    {
     "data": {
      "text/plain": [
       "267714"
      ]
     },
     "execution_count": 24,
     "metadata": {},
     "output_type": "execute_result"
    }
   ],
   "source": [
    "len(df)"
   ]
  },
  {
   "cell_type": "markdown",
   "id": "01f40040-0f5c-42a6-8a0b-e6114a3cb0ab",
   "metadata": {
    "tags": []
   },
   "source": [
    "### Cleaning the number of lines"
   ]
  },
  {
   "cell_type": "markdown",
   "id": "5b975194-0f5f-46f2-b5eb-307f6a4e36b9",
   "metadata": {},
   "source": [
    "I am only interested in houses, apartments which are sold \"normally\" (not at auction, or \"sold as is\", ...)."
   ]
  },
  {
   "cell_type": "code",
   "execution_count": 26,
   "id": "39f88e6a-cb73-467c-afc3-31b125c03b8a",
   "metadata": {
    "tags": []
   },
   "outputs": [],
   "source": [
    "df = df[df.type_local==\"Maison\"].reset_index()"
   ]
  },
  {
   "cell_type": "code",
   "execution_count": 28,
   "id": "c46cb9f7-7ed2-44c4-9d76-682a65db8717",
   "metadata": {
    "tags": []
   },
   "outputs": [],
   "source": [
    "df = df[df.nature_mutation=='Vente']"
   ]
  },
  {
   "cell_type": "code",
   "execution_count": 30,
   "id": "6137957f-c465-4e0b-b186-2eb4d5cbb4d6",
   "metadata": {
    "tags": []
   },
   "outputs": [],
   "source": [
    "df = df.drop_duplicates(subset=['id_mutation'])"
   ]
  },
  {
   "cell_type": "code",
   "execution_count": 32,
   "id": "377e477c-71b4-4c23-9b6f-022580638ca0",
   "metadata": {
    "tags": []
   },
   "outputs": [
    {
     "data": {
      "text/plain": [
       "31303"
      ]
     },
     "execution_count": 32,
     "metadata": {},
     "output_type": "execute_result"
    }
   ],
   "source": [
    "len(df)"
   ]
  },
  {
   "cell_type": "markdown",
   "id": "029759ba-b5c2-4d18-94fe-6c094d01711b",
   "metadata": {
    "tags": []
   },
   "source": [
    "### Cleaning features"
   ]
  },
  {
   "cell_type": "code",
   "execution_count": 34,
   "id": "2b18c2d3-42f9-4bdb-9074-5d2526a0aabc",
   "metadata": {
    "tags": []
   },
   "outputs": [],
   "source": [
    "df = df[['valeur_fonciere','code_postal','surface_reelle_bati','nombre_pieces_principales','nature_culture','surface_terrain']]"
   ]
  },
  {
   "cell_type": "code",
   "execution_count": 36,
   "id": "b078e17a-abaf-4509-a106-6cd96d4639bb",
   "metadata": {
    "tags": []
   },
   "outputs": [],
   "source": [
    "df = df.reset_index(drop=True)"
   ]
  },
  {
   "cell_type": "code",
   "execution_count": 38,
   "id": "9d6b6acb-5db5-4a3f-95fb-f1dfa9c1b1e9",
   "metadata": {
    "tags": []
   },
   "outputs": [
    {
     "data": {
      "text/html": [
       "<div>\n",
       "<style scoped>\n",
       "    .dataframe tbody tr th:only-of-type {\n",
       "        vertical-align: middle;\n",
       "    }\n",
       "\n",
       "    .dataframe tbody tr th {\n",
       "        vertical-align: top;\n",
       "    }\n",
       "\n",
       "    .dataframe thead th {\n",
       "        text-align: right;\n",
       "    }\n",
       "</style>\n",
       "<table border=\"1\" class=\"dataframe\">\n",
       "  <thead>\n",
       "    <tr style=\"text-align: right;\">\n",
       "      <th></th>\n",
       "      <th>valeur_fonciere</th>\n",
       "      <th>code_postal</th>\n",
       "      <th>surface_reelle_bati</th>\n",
       "      <th>nombre_pieces_principales</th>\n",
       "      <th>nature_culture</th>\n",
       "      <th>surface_terrain</th>\n",
       "    </tr>\n",
       "  </thead>\n",
       "  <tbody>\n",
       "    <tr>\n",
       "      <th>0</th>\n",
       "      <td>277000.0</td>\n",
       "      <td>31800.0</td>\n",
       "      <td>180.0</td>\n",
       "      <td>5.0</td>\n",
       "      <td>sols</td>\n",
       "      <td>2248.0</td>\n",
       "    </tr>\n",
       "    <tr>\n",
       "      <th>1</th>\n",
       "      <td>NaN</td>\n",
       "      <td>31800.0</td>\n",
       "      <td>96.0</td>\n",
       "      <td>4.0</td>\n",
       "      <td>terrains d'agrément</td>\n",
       "      <td>750.0</td>\n",
       "    </tr>\n",
       "    <tr>\n",
       "      <th>2</th>\n",
       "      <td>220900.0</td>\n",
       "      <td>31800.0</td>\n",
       "      <td>129.0</td>\n",
       "      <td>4.0</td>\n",
       "      <td>sols</td>\n",
       "      <td>500.0</td>\n",
       "    </tr>\n",
       "    <tr>\n",
       "      <th>3</th>\n",
       "      <td>154600.0</td>\n",
       "      <td>31510.0</td>\n",
       "      <td>60.0</td>\n",
       "      <td>3.0</td>\n",
       "      <td>sols</td>\n",
       "      <td>555.0</td>\n",
       "    </tr>\n",
       "    <tr>\n",
       "      <th>4</th>\n",
       "      <td>18000.0</td>\n",
       "      <td>31510.0</td>\n",
       "      <td>20.0</td>\n",
       "      <td>0.0</td>\n",
       "      <td>sols</td>\n",
       "      <td>40.0</td>\n",
       "    </tr>\n",
       "    <tr>\n",
       "      <th>...</th>\n",
       "      <td>...</td>\n",
       "      <td>...</td>\n",
       "      <td>...</td>\n",
       "      <td>...</td>\n",
       "      <td>...</td>\n",
       "      <td>...</td>\n",
       "    </tr>\n",
       "    <tr>\n",
       "      <th>31298</th>\n",
       "      <td>249000.0</td>\n",
       "      <td>31390.0</td>\n",
       "      <td>87.0</td>\n",
       "      <td>4.0</td>\n",
       "      <td>sols</td>\n",
       "      <td>804.0</td>\n",
       "    </tr>\n",
       "    <tr>\n",
       "      <th>31299</th>\n",
       "      <td>230000.0</td>\n",
       "      <td>31390.0</td>\n",
       "      <td>100.0</td>\n",
       "      <td>5.0</td>\n",
       "      <td>sols</td>\n",
       "      <td>2937.0</td>\n",
       "    </tr>\n",
       "    <tr>\n",
       "      <th>31300</th>\n",
       "      <td>338000.0</td>\n",
       "      <td>31390.0</td>\n",
       "      <td>108.0</td>\n",
       "      <td>4.0</td>\n",
       "      <td>sols</td>\n",
       "      <td>705.0</td>\n",
       "    </tr>\n",
       "    <tr>\n",
       "      <th>31301</th>\n",
       "      <td>216000.0</td>\n",
       "      <td>31390.0</td>\n",
       "      <td>129.0</td>\n",
       "      <td>6.0</td>\n",
       "      <td>sols</td>\n",
       "      <td>80.0</td>\n",
       "    </tr>\n",
       "    <tr>\n",
       "      <th>31302</th>\n",
       "      <td>2979005.5</td>\n",
       "      <td>31390.0</td>\n",
       "      <td>122.0</td>\n",
       "      <td>5.0</td>\n",
       "      <td>sols</td>\n",
       "      <td>647.0</td>\n",
       "    </tr>\n",
       "  </tbody>\n",
       "</table>\n",
       "<p>31303 rows × 6 columns</p>\n",
       "</div>"
      ],
      "text/plain": [
       "       valeur_fonciere  code_postal  surface_reelle_bati  \\\n",
       "0             277000.0      31800.0                180.0   \n",
       "1                  NaN      31800.0                 96.0   \n",
       "2             220900.0      31800.0                129.0   \n",
       "3             154600.0      31510.0                 60.0   \n",
       "4              18000.0      31510.0                 20.0   \n",
       "...                ...          ...                  ...   \n",
       "31298         249000.0      31390.0                 87.0   \n",
       "31299         230000.0      31390.0                100.0   \n",
       "31300         338000.0      31390.0                108.0   \n",
       "31301         216000.0      31390.0                129.0   \n",
       "31302        2979005.5      31390.0                122.0   \n",
       "\n",
       "       nombre_pieces_principales       nature_culture  surface_terrain  \n",
       "0                            5.0                 sols           2248.0  \n",
       "1                            4.0  terrains d'agrément            750.0  \n",
       "2                            4.0                 sols            500.0  \n",
       "3                            3.0                 sols            555.0  \n",
       "4                            0.0                 sols             40.0  \n",
       "...                          ...                  ...              ...  \n",
       "31298                        4.0                 sols            804.0  \n",
       "31299                        5.0                 sols           2937.0  \n",
       "31300                        4.0                 sols            705.0  \n",
       "31301                        6.0                 sols             80.0  \n",
       "31302                        5.0                 sols            647.0  \n",
       "\n",
       "[31303 rows x 6 columns]"
      ]
     },
     "execution_count": 38,
     "metadata": {},
     "output_type": "execute_result"
    }
   ],
   "source": [
    "df"
   ]
  },
  {
   "cell_type": "markdown",
   "id": "ca15938b-92ef-4590-b809-d5ad7cc4bf71",
   "metadata": {
    "tags": []
   },
   "source": [
    "### Missing data"
   ]
  },
  {
   "cell_type": "code",
   "execution_count": 40,
   "id": "20f3d94b-8c5a-4e30-8683-d9374adb8895",
   "metadata": {
    "tags": []
   },
   "outputs": [],
   "source": [
    "def percent_missing(df):\n",
    "    per_nan = 100*df.isnull().sum() /len(df)\n",
    "    per_nan = per_nan[per_nan >0].sort_values()\n",
    "    \n",
    "    return per_nan"
   ]
  },
  {
   "cell_type": "code",
   "execution_count": 42,
   "id": "a72daadc-f281-447a-90c2-b1f05d87669d",
   "metadata": {
    "tags": []
   },
   "outputs": [
    {
     "data": {
      "text/plain": [
       "surface_reelle_bati          0.003195\n",
       "nombre_pieces_principales    0.003195\n",
       "valeur_fonciere              0.076670\n",
       "nature_culture               7.817142\n",
       "surface_terrain              7.817142\n",
       "dtype: float64"
      ]
     },
     "execution_count": 42,
     "metadata": {},
     "output_type": "execute_result"
    }
   ],
   "source": [
    "per_nan = percent_missing(df)\n",
    "per_nan"
   ]
  },
  {
   "cell_type": "code",
   "execution_count": 44,
   "id": "768b1b93-2e12-4bd4-80ec-2fdab4038e74",
   "metadata": {
    "tags": []
   },
   "outputs": [],
   "source": [
    "df = df.dropna(subset=['valeur_fonciere','nombre_pieces_principales','surface_reelle_bati'])"
   ]
  },
  {
   "cell_type": "code",
   "execution_count": null,
   "id": "6b0e4cf7-36a5-4c8d-ac19-3c31542d28c0",
   "metadata": {
    "tags": []
   },
   "outputs": [],
   "source": [
    "df['nature_culture'] = df['nature_culture'].fillna('None')\n",
    "df['surface_terrain'] = df['surface_terrain'].fillna(0)"
   ]
  },
  {
   "cell_type": "code",
   "execution_count": 48,
   "id": "ca52095c-28aa-4e40-8f65-651750e50590",
   "metadata": {
    "tags": []
   },
   "outputs": [
    {
     "data": {
      "text/plain": [
       "Series([], dtype: float64)"
      ]
     },
     "execution_count": 48,
     "metadata": {},
     "output_type": "execute_result"
    }
   ],
   "source": [
    "per_nan = percent_missing(df)\n",
    "per_nan"
   ]
  },
  {
   "cell_type": "markdown",
   "id": "55bd973b-660a-4d9d-900f-a22717e9e02b",
   "metadata": {
    "tags": []
   },
   "source": [
    "### Exterior"
   ]
  },
  {
   "cell_type": "code",
   "execution_count": 50,
   "id": "4882e427-37c6-443f-b955-52fe0cab5c8c",
   "metadata": {
    "tags": []
   },
   "outputs": [
    {
     "data": {
      "text/plain": [
       "nature_culture\n",
       "sols                   25685\n",
       "None                    2445\n",
       "terrains d'agrément     1668\n",
       "terres                   532\n",
       "terrains a bâtir         352\n",
       "jardins                  286\n",
       "prés                     190\n",
       "landes                    59\n",
       "taillis simples           36\n",
       "taillis sous futaie       14\n",
       "vignes                     3\n",
       "eaux                       3\n",
       "vergers                    2\n",
       "chemin de fer              1\n",
       "peupleraies                1\n",
       "futaies feuillues          1\n",
       "Name: count, dtype: int64"
      ]
     },
     "execution_count": 50,
     "metadata": {},
     "output_type": "execute_result"
    }
   ],
   "source": [
    "df['nature_culture'].value_counts()"
   ]
  },
  {
   "cell_type": "code",
   "execution_count": null,
   "id": "dc951fdb-21a5-4233-9c44-f444a474f9d5",
   "metadata": {
    "tags": []
   },
   "outputs": [],
   "source": [
    "df['exterieur'] = df['nature_culture'].apply(lambda x: 0 if x== 'None' else 1)"
   ]
  },
  {
   "cell_type": "code",
   "execution_count": 54,
   "id": "e2ceae4a-9821-4676-a68e-58f0e4b037bf",
   "metadata": {
    "tags": []
   },
   "outputs": [],
   "source": [
    "df = df.drop(['nature_culture'],axis=1)"
   ]
  },
  {
   "cell_type": "code",
   "execution_count": 56,
   "id": "ab53ff53-0860-4e7e-bdd0-16e09e79dae6",
   "metadata": {
    "tags": []
   },
   "outputs": [
    {
     "data": {
      "text/html": [
       "<div>\n",
       "<style scoped>\n",
       "    .dataframe tbody tr th:only-of-type {\n",
       "        vertical-align: middle;\n",
       "    }\n",
       "\n",
       "    .dataframe tbody tr th {\n",
       "        vertical-align: top;\n",
       "    }\n",
       "\n",
       "    .dataframe thead th {\n",
       "        text-align: right;\n",
       "    }\n",
       "</style>\n",
       "<table border=\"1\" class=\"dataframe\">\n",
       "  <thead>\n",
       "    <tr style=\"text-align: right;\">\n",
       "      <th></th>\n",
       "      <th>valeur_fonciere</th>\n",
       "      <th>code_postal</th>\n",
       "      <th>surface_reelle_bati</th>\n",
       "      <th>nombre_pieces_principales</th>\n",
       "      <th>surface_terrain</th>\n",
       "      <th>exterieur</th>\n",
       "    </tr>\n",
       "  </thead>\n",
       "  <tbody>\n",
       "    <tr>\n",
       "      <th>0</th>\n",
       "      <td>277000.0</td>\n",
       "      <td>31800.0</td>\n",
       "      <td>180.0</td>\n",
       "      <td>5.0</td>\n",
       "      <td>2248.0</td>\n",
       "      <td>1</td>\n",
       "    </tr>\n",
       "    <tr>\n",
       "      <th>2</th>\n",
       "      <td>220900.0</td>\n",
       "      <td>31800.0</td>\n",
       "      <td>129.0</td>\n",
       "      <td>4.0</td>\n",
       "      <td>500.0</td>\n",
       "      <td>1</td>\n",
       "    </tr>\n",
       "    <tr>\n",
       "      <th>3</th>\n",
       "      <td>154600.0</td>\n",
       "      <td>31510.0</td>\n",
       "      <td>60.0</td>\n",
       "      <td>3.0</td>\n",
       "      <td>555.0</td>\n",
       "      <td>1</td>\n",
       "    </tr>\n",
       "    <tr>\n",
       "      <th>4</th>\n",
       "      <td>18000.0</td>\n",
       "      <td>31510.0</td>\n",
       "      <td>20.0</td>\n",
       "      <td>0.0</td>\n",
       "      <td>40.0</td>\n",
       "      <td>1</td>\n",
       "    </tr>\n",
       "    <tr>\n",
       "      <th>5</th>\n",
       "      <td>248000.0</td>\n",
       "      <td>31190.0</td>\n",
       "      <td>92.0</td>\n",
       "      <td>4.0</td>\n",
       "      <td>528.0</td>\n",
       "      <td>1</td>\n",
       "    </tr>\n",
       "    <tr>\n",
       "      <th>...</th>\n",
       "      <td>...</td>\n",
       "      <td>...</td>\n",
       "      <td>...</td>\n",
       "      <td>...</td>\n",
       "      <td>...</td>\n",
       "      <td>...</td>\n",
       "    </tr>\n",
       "    <tr>\n",
       "      <th>31298</th>\n",
       "      <td>249000.0</td>\n",
       "      <td>31390.0</td>\n",
       "      <td>87.0</td>\n",
       "      <td>4.0</td>\n",
       "      <td>804.0</td>\n",
       "      <td>1</td>\n",
       "    </tr>\n",
       "    <tr>\n",
       "      <th>31299</th>\n",
       "      <td>230000.0</td>\n",
       "      <td>31390.0</td>\n",
       "      <td>100.0</td>\n",
       "      <td>5.0</td>\n",
       "      <td>2937.0</td>\n",
       "      <td>1</td>\n",
       "    </tr>\n",
       "    <tr>\n",
       "      <th>31300</th>\n",
       "      <td>338000.0</td>\n",
       "      <td>31390.0</td>\n",
       "      <td>108.0</td>\n",
       "      <td>4.0</td>\n",
       "      <td>705.0</td>\n",
       "      <td>1</td>\n",
       "    </tr>\n",
       "    <tr>\n",
       "      <th>31301</th>\n",
       "      <td>216000.0</td>\n",
       "      <td>31390.0</td>\n",
       "      <td>129.0</td>\n",
       "      <td>6.0</td>\n",
       "      <td>80.0</td>\n",
       "      <td>1</td>\n",
       "    </tr>\n",
       "    <tr>\n",
       "      <th>31302</th>\n",
       "      <td>2979005.5</td>\n",
       "      <td>31390.0</td>\n",
       "      <td>122.0</td>\n",
       "      <td>5.0</td>\n",
       "      <td>647.0</td>\n",
       "      <td>1</td>\n",
       "    </tr>\n",
       "  </tbody>\n",
       "</table>\n",
       "<p>31278 rows × 6 columns</p>\n",
       "</div>"
      ],
      "text/plain": [
       "       valeur_fonciere  code_postal  surface_reelle_bati  \\\n",
       "0             277000.0      31800.0                180.0   \n",
       "2             220900.0      31800.0                129.0   \n",
       "3             154600.0      31510.0                 60.0   \n",
       "4              18000.0      31510.0                 20.0   \n",
       "5             248000.0      31190.0                 92.0   \n",
       "...                ...          ...                  ...   \n",
       "31298         249000.0      31390.0                 87.0   \n",
       "31299         230000.0      31390.0                100.0   \n",
       "31300         338000.0      31390.0                108.0   \n",
       "31301         216000.0      31390.0                129.0   \n",
       "31302        2979005.5      31390.0                122.0   \n",
       "\n",
       "       nombre_pieces_principales  surface_terrain  exterieur  \n",
       "0                            5.0           2248.0          1  \n",
       "2                            4.0            500.0          1  \n",
       "3                            3.0            555.0          1  \n",
       "4                            0.0             40.0          1  \n",
       "5                            4.0            528.0          1  \n",
       "...                          ...              ...        ...  \n",
       "31298                        4.0            804.0          1  \n",
       "31299                        5.0           2937.0          1  \n",
       "31300                        4.0            705.0          1  \n",
       "31301                        6.0             80.0          1  \n",
       "31302                        5.0            647.0          1  \n",
       "\n",
       "[31278 rows x 6 columns]"
      ]
     },
     "execution_count": 56,
     "metadata": {},
     "output_type": "execute_result"
    }
   ],
   "source": [
    "df"
   ]
  },
  {
   "cell_type": "markdown",
   "id": "967aaaa5-ea2d-4f19-a9bf-67eba92061e1",
   "metadata": {
    "tags": []
   },
   "source": [
    "## Save the clean data, separated House and Apartement (Appt)"
   ]
  },
  {
   "cell_type": "code",
   "execution_count": 58,
   "id": "0c31100f-8b28-462a-a061-d812aaf0e13a",
   "metadata": {
    "tags": []
   },
   "outputs": [],
   "source": [
    "df.to_csv(\"HousePrice_Tls_2021_2023.csv\",index=False)"
   ]
  }
 ],
 "metadata": {
  "kernelspec": {
   "display_name": "Python 3 (ipykernel)",
   "language": "python",
   "name": "python3"
  },
  "language_info": {
   "codemirror_mode": {
    "name": "ipython",
    "version": 3
   },
   "file_extension": ".py",
   "mimetype": "text/x-python",
   "name": "python",
   "nbconvert_exporter": "python",
   "pygments_lexer": "ipython3",
   "version": "3.11.7"
  }
 },
 "nbformat": 4,
 "nbformat_minor": 5
}
